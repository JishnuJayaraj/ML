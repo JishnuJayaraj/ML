{
  "nbformat": 4,
  "nbformat_minor": 0,
  "metadata": {
    "colab": {
      "name": "TrendDetection",
      "provenance": [],
      "collapsed_sections": [
        "Z2rsgh30RSZu"
      ],
      "toc_visible": true,
      "include_colab_link": true
    },
    "kernelspec": {
      "display_name": "Python 3",
      "name": "python3"
    },
    "widgets": {
      "application/vnd.jupyter.widget-state+json": {
        "7580f58eeef54b8f9033efe02aba8fe1": {
          "model_module": "@jupyter-widgets/controls",
          "model_name": "VBoxModel",
          "state": {
            "_view_name": "VBoxView",
            "_dom_classes": [
              "widget-interact"
            ],
            "_model_name": "VBoxModel",
            "_view_module": "@jupyter-widgets/controls",
            "_model_module_version": "1.5.0",
            "_view_count": null,
            "_view_module_version": "1.5.0",
            "box_style": "",
            "layout": "IPY_MODEL_3e9565519e37487093ae9fd5bc27da5f",
            "_model_module": "@jupyter-widgets/controls",
            "children": [
              "IPY_MODEL_ae8a7ac6153346d39f81f7f5fc471261",
              "IPY_MODEL_ca221803e0d8417a8a053310e51538d4"
            ]
          }
        },
        "3e9565519e37487093ae9fd5bc27da5f": {
          "model_module": "@jupyter-widgets/base",
          "model_name": "LayoutModel",
          "state": {
            "_view_name": "LayoutView",
            "grid_template_rows": null,
            "right": null,
            "justify_content": null,
            "_view_module": "@jupyter-widgets/base",
            "overflow": null,
            "_model_module_version": "1.2.0",
            "_view_count": null,
            "flex_flow": null,
            "width": null,
            "min_width": null,
            "border": null,
            "align_items": null,
            "bottom": null,
            "_model_module": "@jupyter-widgets/base",
            "top": null,
            "grid_column": null,
            "overflow_y": null,
            "overflow_x": null,
            "grid_auto_flow": null,
            "grid_area": null,
            "grid_template_columns": null,
            "flex": null,
            "_model_name": "LayoutModel",
            "justify_items": null,
            "grid_row": null,
            "max_height": null,
            "align_content": null,
            "visibility": null,
            "align_self": null,
            "height": null,
            "min_height": null,
            "padding": null,
            "grid_auto_rows": null,
            "grid_gap": null,
            "max_width": null,
            "order": null,
            "_view_module_version": "1.2.0",
            "grid_template_areas": null,
            "object_position": null,
            "object_fit": null,
            "grid_auto_columns": null,
            "margin": null,
            "display": null,
            "left": null
          }
        },
        "ae8a7ac6153346d39f81f7f5fc471261": {
          "model_module": "@jupyter-widgets/controls",
          "model_name": "DropdownModel",
          "state": {
            "_options_labels": [
              "Y",
              "6M",
              "3M",
              "1M",
              "2W",
              "1W"
            ],
            "_view_name": "DropdownView",
            "style": "IPY_MODEL_464091a7cb3a492d939d2c7d9ca42969",
            "_dom_classes": [],
            "description": "x",
            "_model_name": "DropdownModel",
            "index": 3,
            "_view_module": "@jupyter-widgets/controls",
            "_model_module_version": "1.5.0",
            "_view_count": null,
            "disabled": false,
            "_view_module_version": "1.5.0",
            "description_tooltip": null,
            "_model_module": "@jupyter-widgets/controls",
            "layout": "IPY_MODEL_13de73be71dc4c26bfd5c2bd153a7312"
          }
        },
        "ca221803e0d8417a8a053310e51538d4": {
          "model_module": "@jupyter-widgets/output",
          "model_name": "OutputModel",
          "state": {
            "_view_name": "OutputView",
            "msg_id": "",
            "_dom_classes": [],
            "_model_name": "OutputModel",
            "outputs": [
              {
                "output_type": "display_data",
                "metadata": {
                  "tags": [],
                  "needs_background": "light"
                },
                "image/png": "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\n",
                "text/plain": "<Figure size 432x288 with 1 Axes>"
              }
            ],
            "_view_module": "@jupyter-widgets/output",
            "_model_module_version": "1.0.0",
            "_view_count": null,
            "_view_module_version": "1.0.0",
            "layout": "IPY_MODEL_b08b33d3bcf44784abc123a4f7c3f953",
            "_model_module": "@jupyter-widgets/output"
          }
        },
        "464091a7cb3a492d939d2c7d9ca42969": {
          "model_module": "@jupyter-widgets/controls",
          "model_name": "DescriptionStyleModel",
          "state": {
            "_view_name": "StyleView",
            "_model_name": "DescriptionStyleModel",
            "description_width": "",
            "_view_module": "@jupyter-widgets/base",
            "_model_module_version": "1.5.0",
            "_view_count": null,
            "_view_module_version": "1.2.0",
            "_model_module": "@jupyter-widgets/controls"
          }
        },
        "13de73be71dc4c26bfd5c2bd153a7312": {
          "model_module": "@jupyter-widgets/base",
          "model_name": "LayoutModel",
          "state": {
            "_view_name": "LayoutView",
            "grid_template_rows": null,
            "right": null,
            "justify_content": null,
            "_view_module": "@jupyter-widgets/base",
            "overflow": null,
            "_model_module_version": "1.2.0",
            "_view_count": null,
            "flex_flow": null,
            "width": null,
            "min_width": null,
            "border": null,
            "align_items": null,
            "bottom": null,
            "_model_module": "@jupyter-widgets/base",
            "top": null,
            "grid_column": null,
            "overflow_y": null,
            "overflow_x": null,
            "grid_auto_flow": null,
            "grid_area": null,
            "grid_template_columns": null,
            "flex": null,
            "_model_name": "LayoutModel",
            "justify_items": null,
            "grid_row": null,
            "max_height": null,
            "align_content": null,
            "visibility": null,
            "align_self": null,
            "height": null,
            "min_height": null,
            "padding": null,
            "grid_auto_rows": null,
            "grid_gap": null,
            "max_width": null,
            "order": null,
            "_view_module_version": "1.2.0",
            "grid_template_areas": null,
            "object_position": null,
            "object_fit": null,
            "grid_auto_columns": null,
            "margin": null,
            "display": null,
            "left": null
          }
        },
        "b08b33d3bcf44784abc123a4f7c3f953": {
          "model_module": "@jupyter-widgets/base",
          "model_name": "LayoutModel",
          "state": {
            "_view_name": "LayoutView",
            "grid_template_rows": null,
            "right": null,
            "justify_content": null,
            "_view_module": "@jupyter-widgets/base",
            "overflow": null,
            "_model_module_version": "1.2.0",
            "_view_count": null,
            "flex_flow": null,
            "width": null,
            "min_width": null,
            "border": null,
            "align_items": null,
            "bottom": null,
            "_model_module": "@jupyter-widgets/base",
            "top": null,
            "grid_column": null,
            "overflow_y": null,
            "overflow_x": null,
            "grid_auto_flow": null,
            "grid_area": null,
            "grid_template_columns": null,
            "flex": null,
            "_model_name": "LayoutModel",
            "justify_items": null,
            "grid_row": null,
            "max_height": null,
            "align_content": null,
            "visibility": null,
            "align_self": null,
            "height": null,
            "min_height": null,
            "padding": null,
            "grid_auto_rows": null,
            "grid_gap": null,
            "max_width": null,
            "order": null,
            "_view_module_version": "1.2.0",
            "grid_template_areas": null,
            "object_position": null,
            "object_fit": null,
            "grid_auto_columns": null,
            "margin": null,
            "display": null,
            "left": null
          }
        },
        "ace723eff7e94ec6bcc9cedfc2b04748": {
          "model_module": "@jupyter-widgets/controls",
          "model_name": "IntSliderModel",
          "state": {
            "_view_name": "IntSliderView",
            "style": "IPY_MODEL_1bc123d28ab84ea381552f5173ff66b2",
            "_dom_classes": [],
            "description": "Cluster no:",
            "step": 1,
            "_model_name": "IntSliderModel",
            "orientation": "horizontal",
            "max": 9,
            "_view_module": "@jupyter-widgets/controls",
            "_model_module_version": "1.5.0",
            "value": 1,
            "_view_count": null,
            "disabled": false,
            "_view_module_version": "1.5.0",
            "min": 0,
            "continuous_update": true,
            "readout_format": "d",
            "description_tooltip": null,
            "readout": true,
            "_model_module": "@jupyter-widgets/controls",
            "layout": "IPY_MODEL_26a7aabdb92041779c9bddc9604ff104"
          }
        },
        "1bc123d28ab84ea381552f5173ff66b2": {
          "model_module": "@jupyter-widgets/controls",
          "model_name": "SliderStyleModel",
          "state": {
            "_view_name": "StyleView",
            "handle_color": null,
            "_model_name": "SliderStyleModel",
            "description_width": "",
            "_view_module": "@jupyter-widgets/base",
            "_model_module_version": "1.5.0",
            "_view_count": null,
            "_view_module_version": "1.2.0",
            "_model_module": "@jupyter-widgets/controls"
          }
        },
        "26a7aabdb92041779c9bddc9604ff104": {
          "model_module": "@jupyter-widgets/base",
          "model_name": "LayoutModel",
          "state": {
            "_view_name": "LayoutView",
            "grid_template_rows": null,
            "right": null,
            "justify_content": null,
            "_view_module": "@jupyter-widgets/base",
            "overflow": null,
            "_model_module_version": "1.2.0",
            "_view_count": null,
            "flex_flow": null,
            "width": null,
            "min_width": null,
            "border": null,
            "align_items": null,
            "bottom": null,
            "_model_module": "@jupyter-widgets/base",
            "top": null,
            "grid_column": null,
            "overflow_y": null,
            "overflow_x": null,
            "grid_auto_flow": null,
            "grid_area": null,
            "grid_template_columns": null,
            "flex": null,
            "_model_name": "LayoutModel",
            "justify_items": null,
            "grid_row": null,
            "max_height": null,
            "align_content": null,
            "visibility": null,
            "align_self": null,
            "height": null,
            "min_height": null,
            "padding": null,
            "grid_auto_rows": null,
            "grid_gap": null,
            "max_width": null,
            "order": null,
            "_view_module_version": "1.2.0",
            "grid_template_areas": null,
            "object_position": null,
            "object_fit": null,
            "grid_auto_columns": null,
            "margin": null,
            "display": null,
            "left": null
          }
        },
        "8ad66bad407d4595b57c3f6e74baf186": {
          "model_module": "@jupyter-widgets/controls",
          "model_name": "SelectionRangeSliderModel",
          "state": {
            "_options_labels": [
              " 31 Jul 2015 ",
              " 30 Sep 2015 ",
              " 30 Nov 2015 ",
              " 31 Jan 2016 ",
              " 31 Mar 2016 ",
              " 31 May 2016 ",
              " 31 Jul 2016 ",
              " 30 Sep 2016 ",
              " 30 Nov 2016 ",
              " 31 Jan 2017 ",
              " 31 Mar 2017 ",
              " 31 May 2017 ",
              " 31 Jul 2017 ",
              " 30 Sep 2017 ",
              " 30 Nov 2017 ",
              " 31 Jan 2018 ",
              " 31 Mar 2018 ",
              " 31 May 2018 ",
              " 31 Jul 2018 ",
              " 30 Sep 2018 ",
              " 30 Nov 2018 ",
              " 31 Jan 2019 ",
              " 31 Mar 2019 ",
              " 31 May 2019 ",
              " 31 Jul 2019 ",
              " 30 Sep 2019 ",
              " 30 Nov 2019 ",
              " 31 Jan 2020 ",
              " 31 Mar 2020 "
            ],
            "_view_name": "SelectionRangeSliderView",
            "style": "IPY_MODEL_b30407a9d47f4c64b6caa59754d8feb3",
            "_dom_classes": [],
            "description": "Dates",
            "_model_name": "SelectionRangeSliderModel",
            "orientation": "horizontal",
            "index": [
              0,
              28
            ],
            "_view_module": "@jupyter-widgets/controls",
            "_model_module_version": "1.5.0",
            "_view_count": null,
            "disabled": false,
            "_view_module_version": "1.5.0",
            "continuous_update": true,
            "description_tooltip": null,
            "readout": true,
            "_model_module": "@jupyter-widgets/controls",
            "layout": "IPY_MODEL_495abbfd258c474384012b2eb2d1dea4"
          }
        },
        "b30407a9d47f4c64b6caa59754d8feb3": {
          "model_module": "@jupyter-widgets/controls",
          "model_name": "DescriptionStyleModel",
          "state": {
            "_view_name": "StyleView",
            "_model_name": "DescriptionStyleModel",
            "description_width": "",
            "_view_module": "@jupyter-widgets/base",
            "_model_module_version": "1.5.0",
            "_view_count": null,
            "_view_module_version": "1.2.0",
            "_model_module": "@jupyter-widgets/controls"
          }
        },
        "495abbfd258c474384012b2eb2d1dea4": {
          "model_module": "@jupyter-widgets/base",
          "model_name": "LayoutModel",
          "state": {
            "_view_name": "LayoutView",
            "grid_template_rows": null,
            "right": null,
            "justify_content": null,
            "_view_module": "@jupyter-widgets/base",
            "overflow": null,
            "_model_module_version": "1.2.0",
            "_view_count": null,
            "flex_flow": null,
            "width": "500px",
            "min_width": null,
            "border": null,
            "align_items": null,
            "bottom": null,
            "_model_module": "@jupyter-widgets/base",
            "top": null,
            "grid_column": null,
            "overflow_y": null,
            "overflow_x": null,
            "grid_auto_flow": null,
            "grid_area": null,
            "grid_template_columns": null,
            "flex": null,
            "_model_name": "LayoutModel",
            "justify_items": null,
            "grid_row": null,
            "max_height": null,
            "align_content": null,
            "visibility": null,
            "align_self": null,
            "height": null,
            "min_height": null,
            "padding": null,
            "grid_auto_rows": null,
            "grid_gap": null,
            "max_width": null,
            "order": null,
            "_view_module_version": "1.2.0",
            "grid_template_areas": null,
            "object_position": null,
            "object_fit": null,
            "grid_auto_columns": null,
            "margin": null,
            "display": null,
            "left": null
          }
        },
        "b556fc3e224f43d7a43d37a0077d5383": {
          "model_module": "@jupyter-widgets/controls",
          "model_name": "RadioButtonsModel",
          "state": {
            "_options_labels": [
              "TextRank",
              "Yake"
            ],
            "_view_name": "RadioButtonsView",
            "style": "IPY_MODEL_4ec67aa58dd346789b4a7f95212b8ca8",
            "_dom_classes": [],
            "description": "Algorithm:",
            "_model_name": "RadioButtonsModel",
            "index": 0,
            "_view_module": "@jupyter-widgets/controls",
            "_model_module_version": "1.5.0",
            "_view_count": null,
            "disabled": false,
            "_view_module_version": "1.5.0",
            "description_tooltip": null,
            "_model_module": "@jupyter-widgets/controls",
            "layout": "IPY_MODEL_5f16b8518da54cba9466d0f6b3b89237"
          }
        },
        "4ec67aa58dd346789b4a7f95212b8ca8": {
          "model_module": "@jupyter-widgets/controls",
          "model_name": "DescriptionStyleModel",
          "state": {
            "_view_name": "StyleView",
            "_model_name": "DescriptionStyleModel",
            "description_width": "",
            "_view_module": "@jupyter-widgets/base",
            "_model_module_version": "1.5.0",
            "_view_count": null,
            "_view_module_version": "1.2.0",
            "_model_module": "@jupyter-widgets/controls"
          }
        },
        "5f16b8518da54cba9466d0f6b3b89237": {
          "model_module": "@jupyter-widgets/base",
          "model_name": "LayoutModel",
          "state": {
            "_view_name": "LayoutView",
            "grid_template_rows": null,
            "right": null,
            "justify_content": null,
            "_view_module": "@jupyter-widgets/base",
            "overflow": null,
            "_model_module_version": "1.2.0",
            "_view_count": null,
            "flex_flow": null,
            "width": null,
            "min_width": null,
            "border": null,
            "align_items": null,
            "bottom": null,
            "_model_module": "@jupyter-widgets/base",
            "top": null,
            "grid_column": null,
            "overflow_y": null,
            "overflow_x": null,
            "grid_auto_flow": null,
            "grid_area": null,
            "grid_template_columns": null,
            "flex": null,
            "_model_name": "LayoutModel",
            "justify_items": null,
            "grid_row": null,
            "max_height": null,
            "align_content": null,
            "visibility": null,
            "align_self": null,
            "height": null,
            "min_height": null,
            "padding": null,
            "grid_auto_rows": null,
            "grid_gap": null,
            "max_width": null,
            "order": null,
            "_view_module_version": "1.2.0",
            "grid_template_areas": null,
            "object_position": null,
            "object_fit": null,
            "grid_auto_columns": null,
            "margin": null,
            "display": null,
            "left": null
          }
        }
      }
    }
  },
  "cells": [
    {
      "cell_type": "markdown",
      "metadata": {
        "id": "view-in-github",
        "colab_type": "text"
      },
      "source": [
        "<a href=\"https://colab.research.google.com/github/JishnuJayaraj/ML/blob/master/NLP/_TrendDetection/Copy_of_TrendDetection.ipynb\" target=\"_parent\"><img src=\"https://colab.research.google.com/assets/colab-badge.svg\" alt=\"Open In Colab\"/></a>"
      ]
    },
    {
      "cell_type": "code",
      "metadata": {
        "id": "RVTKIwwUmurZ",
        "outputId": "ad01a548-e22b-4a43-d2c4-f36ce7656e45",
        "colab": {
          "base_uri": "https://localhost:8080/",
          "height": 237
        }
      },
      "source": [
        "import pandas as pd\n",
        "df= pd.read_json('/content/drive/My Drive/RokinData/ToBeCleaned.json.gz')\n",
        "df.dropna(axis=0, inplace=True)\n",
        "df.drop_duplicates('title', inplace=True)\n",
        "df.dropna(subset=['title'], inplace=True)\n",
        "\n",
        "df['date'] = pd.to_datetime(df['date'], errors = 'coerce')\n",
        "df = df[(df['date'] > '2019-01-01')]\n",
        "\n",
        "df.info()"
      ],
      "execution_count": 2,
      "outputs": [
        {
          "output_type": "stream",
          "text": [
            "<class 'pandas.core.frame.DataFrame'>\n",
            "Int64Index: 97429 entries, 0 to 615530\n",
            "Data columns (total 5 columns):\n",
            " #   Column            Non-Null Count  Dtype              \n",
            "---  ------            --------------  -----              \n",
            " 0   date              97429 non-null  datetime64[ns, UTC]\n",
            " 1   title             97429 non-null  object             \n",
            " 2   text              97429 non-null  object             \n",
            " 3   url               97429 non-null  object             \n",
            " 4   lastCrawlTimeUTC  97429 non-null  int64              \n",
            "dtypes: datetime64[ns, UTC](1), int64(1), object(3)\n",
            "memory usage: 4.5+ MB\n"
          ],
          "name": "stdout"
        }
      ]
    },
    {
      "cell_type": "code",
      "metadata": {
        "id": "sN1oH6FH2WiK"
      },
      "source": [
        "df.reset_index(drop=True, inplace=True)"
      ],
      "execution_count": 3,
      "outputs": []
    },
    {
      "cell_type": "code",
      "metadata": {
        "id": "yxhtLvxN2aek"
      },
      "source": [
        "# drop unnecessary columns\n",
        "to_drop = ['url', 'lastCrawlTimeUTC', 'text']\n",
        "\n",
        "df.drop(to_drop, axis=1, inplace=True)\n",
        "\n",
        "# save to pickle\n",
        "df.to_pickle('/content/drive/My Drive/RokinData/from2019.pkl')"
      ],
      "execution_count": 4,
      "outputs": []
    },
    {
      "cell_type": "markdown",
      "metadata": {
        "id": "6N7pKVn74zZ8"
      },
      "source": [
        "## Loadding data"
      ]
    },
    {
      "cell_type": "code",
      "metadata": {
        "id": "lIYdn1woOS1n",
        "outputId": "1253ba22-8d3b-4eee-c866-aab027478f7d",
        "colab": {
          "base_uri": "https://localhost:8080/",
          "height": 182
        }
      },
      "source": [
        "import pandas as pd\n",
        "import numpy as np\n",
        "import pandas as pd\n",
        "import matplotlib.pyplot as plt\n",
        "from ipywidgets import interactive\n",
        "\n",
        "# %matplotlib inline\n",
        "\n",
        "pd.set_option('display.max_colwidth', None)\n",
        "\n",
        "# df = pd.read_json('/content/Car_IoT_Cybersecurity.json')\n",
        "# df = pd.read_json('/content/carIotcyberCorona.json')\n",
        "df = pd.read_pickle('/content/drive/My Drive/RokinData/from2019.pkl')\n",
        "\n",
        "df.drop_duplicates('title', inplace=True,)\n",
        "df.dropna(subset=['title'], inplace=True)\n",
        "\n",
        "df.info() # datetim obj necessary*"
      ],
      "execution_count": 5,
      "outputs": [
        {
          "output_type": "stream",
          "text": [
            "<class 'pandas.core.frame.DataFrame'>\n",
            "Int64Index: 97429 entries, 0 to 97428\n",
            "Data columns (total 2 columns):\n",
            " #   Column  Non-Null Count  Dtype              \n",
            "---  ------  --------------  -----              \n",
            " 0   date    97429 non-null  datetime64[ns, UTC]\n",
            " 1   title   97429 non-null  object             \n",
            "dtypes: datetime64[ns, UTC](1), object(1)\n",
            "memory usage: 2.2+ MB\n"
          ],
          "name": "stdout"
        }
      ]
    },
    {
      "cell_type": "code",
      "metadata": {
        "id": "THYRRBeBl34P"
      },
      "source": [
        "# df.drop(['date','text','url','unknown'], axis=1, inplace=True)\n",
        "# df.drop(['text','url','unknown'], axis=1, inplace=True)"
      ],
      "execution_count": null,
      "outputs": []
    },
    {
      "cell_type": "code",
      "metadata": {
        "id": "kUfwEvx-f0eE"
      },
      "source": [
        "!pip install ipympl"
      ],
      "execution_count": null,
      "outputs": []
    },
    {
      "cell_type": "code",
      "metadata": {
        "id": "xGTkF1nuwU6l",
        "outputId": "8c3fafcc-86f6-4871-d397-4f3f536af1d8",
        "colab": {
          "base_uri": "https://localhost:8080/",
          "height": 35
        }
      },
      "source": [
        "# check date column is datetime object, convert if needed\n",
        "date_columns = df.select_dtypes(include=[np.datetime64])\n",
        "print(list(date_columns))\n",
        "\n",
        "# convert to date time\n",
        "# df['date'] = pd.to_datetime(df['date'], errors = 'coerce')\n",
        "# df = df.dropna().reset_index(drop=True)\n",
        "# df = df.query('date_new != \"NaT\"')"
      ],
      "execution_count": 7,
      "outputs": [
        {
          "output_type": "stream",
          "text": [
            "[]\n"
          ],
          "name": "stdout"
        }
      ]
    },
    {
      "cell_type": "code",
      "metadata": {
        "id": "UaFNo4w7WSFO",
        "outputId": "a8e64da9-3858-425a-c2a9-4033e7abf8bb",
        "colab": {
          "base_uri": "https://localhost:8080/",
          "height": 661,
          "referenced_widgets": [
            "7580f58eeef54b8f9033efe02aba8fe1",
            "3e9565519e37487093ae9fd5bc27da5f",
            "ae8a7ac6153346d39f81f7f5fc471261",
            "ca221803e0d8417a8a053310e51538d4",
            "464091a7cb3a492d939d2c7d9ca42969",
            "13de73be71dc4c26bfd5c2bd153a7312",
            "b08b33d3bcf44784abc123a4f7c3f953"
          ]
        }
      },
      "source": [
        "# check if days and month were swaped (must be uniformly distributed plot)\n",
        "import seaborn as sns\n",
        "import matplotlib.pyplot as plt\n",
        "days = df['date'].dt.day\n",
        "sns.displot(days, kde= False, bins = 31)\n",
        "plt.show()\n",
        "\n",
        "\n",
        "# plot number of articles Yearwise\n",
        "columns=['Y','6M','3M', '1M', '2W', '1W']\n",
        "def g(x):\n",
        "    df['date'].value_counts().resample(x).sum().plot.line()\n",
        "    plt.show()\n",
        "interactive_plot = interactive(g, x=columns)\n",
        "interactive_plot\n"
      ],
      "execution_count": 8,
      "outputs": [
        {
          "output_type": "display_data",
          "data": {
            "image/png": "[encoded data removed]",
            "text/plain": [
              "<Figure size 360x360 with 1 Axes>"
            ]
          },
          "metadata": {
            "tags": [],
            "needs_background": "light"
          }
        },
        {
          "output_type": "display_data",
          "data": {
            "application/vnd.jupyter.widget-view+json": {
              "model_id": "7580f58eeef54b8f9033efe02aba8fe1",
              "version_minor": 0,
              "version_major": 2
            },
            "text/plain": [
              "interactive(children=(Dropdown(description='x', options=('Y', '6M', '3M', '1M', '2W', '1W'), value='Y'), Outpu…"
            ]
          },
          "metadata": {
            "tags": []
          }
        }
      ]
    },
    {
      "cell_type": "code",
      "metadata": {
        "id": "GT7q0HVbh4e9"
      },
      "source": [
        "# slice the date if needed\n",
        "# df.query('date > \"2015-06-01\"', inplace=True)\n",
        "df['date'] = df['date'].dt.tz_localize(None)\n",
        "df.query('date > \"2019-01-01\" & date < \"2020-04-01\"', inplace=True)\n",
        "\n",
        "# sort the index, 0 - n-1, and drop prev index\n",
        "df.reset_index(drop=True, inplace=True)"
      ],
      "execution_count": 12,
      "outputs": []
    },
    {
      "cell_type": "markdown",
      "metadata": {
        "id": "0sGTwDDN5AWi"
      },
      "source": [
        "## USE "
      ]
    },
    {
      "cell_type": "code",
      "metadata": {
        "id": "ACfASYEm4_zV",
        "outputId": "74d59d54-85b9-408f-bb4e-f74573eaba83",
        "colab": {
          "base_uri": "https://localhost:8080/",
          "height": 35
        }
      },
      "source": [
        "import tensorflow as tf\n",
        "import tensorflow_hub as hub\n",
        "\n",
        "module_url = \"https://tfhub.dev/google/universal-sentence-encoder/4\"\n",
        "model = hub.load(module_url)\n",
        "print (\"module %s loaded\" % module_url)"
      ],
      "execution_count": 13,
      "outputs": [
        {
          "output_type": "stream",
          "text": [
            "module https://tfhub.dev/google/universal-sentence-encoder/4 loaded\n"
          ],
          "name": "stdout"
        }
      ]
    },
    {
      "cell_type": "code",
      "metadata": {
        "id": "ukyKBkIk-Vbh"
      },
      "source": [
        "# sentence bert\n",
        "\n",
        "# !pip install sentence-transformers\n",
        "# from sentence_transformers import SentenceTransformer\n",
        "# model = SentenceTransformer('distilbert-base-nli-mean-tokens')\n",
        "# embeddings = model.encode(data, show_progress_bar=True)"
      ],
      "execution_count": null,
      "outputs": []
    },
    {
      "cell_type": "code",
      "metadata": {
        "id": "VCfIbR1C5mA6"
      },
      "source": [
        "train_embeddings = model(df.title)"
      ],
      "execution_count": 14,
      "outputs": []
    },
    {
      "cell_type": "markdown",
      "metadata": {
        "id": "robbcuJ55NJy"
      },
      "source": [
        "## Clustering"
      ]
    },
    {
      "cell_type": "code",
      "metadata": {
        "id": "dzFTpc1W5MJs",
        "outputId": "422e64ed-f22d-42ae-9b1f-ce666b76b04d",
        "colab": {
          "base_uri": "https://localhost:8080/",
          "height": 386
        }
      },
      "source": [
        "!pip install hdbscan\n",
        "\n",
        "import hdbscan\n",
        "import numpy as np\n",
        "# import matplotlib.pyplot as plt\n",
        "\n",
        "# dim reduction\n",
        "import umap"
      ],
      "execution_count": 15,
      "outputs": [
        {
          "output_type": "stream",
          "text": [
            "Collecting hdbscan\n",
            "\u001b[?25l  Downloading https://files.pythonhosted.org/packages/22/2f/2423d844072f007a74214c1adc46260e45f034bb1679ccadfbb8a601f647/hdbscan-0.8.26.tar.gz (4.7MB)\n",
            "\u001b[K     |████████████████████████████████| 4.7MB 2.7MB/s \n",
            "\u001b[?25h  Installing build dependencies ... \u001b[?25l\u001b[?25hdone\n",
            "  Getting requirements to build wheel ... \u001b[?25l\u001b[?25hdone\n",
            "    Preparing wheel metadata ... \u001b[?25l\u001b[?25hdone\n",
            "Requirement already satisfied: scipy>=0.9 in /usr/local/lib/python3.6/dist-packages (from hdbscan) (1.4.1)\n",
            "Requirement already satisfied: scikit-learn>=0.17 in /usr/local/lib/python3.6/dist-packages (from hdbscan) (0.22.2.post1)\n",
            "Requirement already satisfied: numpy>=1.16.0 in /usr/local/lib/python3.6/dist-packages (from hdbscan) (1.18.5)\n",
            "Requirement already satisfied: six in /usr/local/lib/python3.6/dist-packages (from hdbscan) (1.15.0)\n",
            "Requirement already satisfied: joblib in /usr/local/lib/python3.6/dist-packages (from hdbscan) (0.17.0)\n",
            "Requirement already satisfied: cython>=0.27 in /usr/local/lib/python3.6/dist-packages (from hdbscan) (0.29.21)\n",
            "Building wheels for collected packages: hdbscan\n",
            "  Building wheel for hdbscan (PEP 517) ... \u001b[?25l\u001b[?25hdone\n",
            "  Created wheel for hdbscan: filename=hdbscan-0.8.26-cp36-cp36m-linux_x86_64.whl size=2301762 sha256=50697680ce4899219bdcb58277ce6fd954dbefb92cd7323b57ee6c1ab318c18c\n",
            "  Stored in directory: /root/.cache/pip/wheels/82/38/41/372f034d8abd271ef7787a681e0a47fc05d472683a7eb088ed\n",
            "Successfully built hdbscan\n",
            "Installing collected packages: hdbscan\n",
            "Successfully installed hdbscan-0.8.26\n"
          ],
          "name": "stdout"
        }
      ]
    },
    {
      "cell_type": "markdown",
      "metadata": {
        "id": "R50DnN4k5-4q"
      },
      "source": [
        "### dim reduction"
      ]
    },
    {
      "cell_type": "code",
      "metadata": {
        "id": "iee0lRrV5udz"
      },
      "source": [
        "# clusterable_embedding = umap.UMAP(n_neighbors=10,\n",
        "#     min_dist=0.0,\n",
        "#     n_components=10,\n",
        "#     random_state=42,\n",
        "#     metric='cosine'\n",
        "# ).fit_transform(train_embeddings)\n",
        "\n",
        "clusterable_embedding = umap.UMAP(n_neighbors=3,min_dist=0.0,n_components=10,random_state=42,metric='cosine'\n",
        ").fit_transform(train_embeddings)"
      ],
      "execution_count": null,
      "outputs": []
    },
    {
      "cell_type": "code",
      "metadata": {
        "id": "67mbvSIa_T_C"
      },
      "source": [
        ""
      ],
      "execution_count": null,
      "outputs": []
    },
    {
      "cell_type": "code",
      "metadata": {
        "id": "XjvjRhfE210Q"
      },
      "source": [
        "# plot the embedding\n",
        "\n",
        "# !pip install umap-learn[plot]\n",
        "\n",
        "# import umap.plot\n",
        "# import pandas as pd\n",
        "# import datashader as ds\n",
        "# import datashader.transfer_functions as tf\n",
        "# import datashader.bundling as bd\n",
        "# import matplotlib.pyplot as plt\n",
        "# import colorcet\n",
        "# import matplotlib.colors\n",
        "# import matplotlib.cm\n",
        "# import bokeh.plotting as bpl\n",
        "# import bokeh.transform as btr\n",
        "# import holoviews as hv\n",
        "# import holoviews.operation.datashader as hd\n",
        "\n",
        "# umap.plot.points(clusterable_embedding) \n",
        "# labels = cluster values\n",
        "# umap.plot.plt.show()"
      ],
      "execution_count": null,
      "outputs": []
    },
    {
      "cell_type": "markdown",
      "metadata": {
        "id": "TW737Vfx4rqy"
      },
      "source": [
        "### Optimum parameter tuning"
      ]
    },
    {
      "cell_type": "code",
      "metadata": {
        "id": "Gd5oZqQV4vhk",
        "outputId": "20e86439-e5aa-4149-84cb-2ecc591a40f0",
        "colab": {
          "base_uri": "https://localhost:8080/",
          "height": 317
        }
      },
      "source": [
        "# minimize the un clustered number usin probability\n",
        "import numpy as np\n",
        "\n",
        "\n",
        "scores = []\n",
        "min_pts = []\n",
        "\n",
        "for i in range(5,50):\n",
        "\n",
        "  clusterer = hdbscan.HDBSCAN(min_samples=i)\n",
        "  clusterer.fit(clusterable_embedding)\n",
        "  \n",
        "  all_prob = clusterer.probabilities_\n",
        "\n",
        "  # Count odd numbers in the list\n",
        "  count_niche = sum(map(lambda x : x <= 0.5, all_prob))\n",
        "\n",
        "  # fraction with low confid\n",
        "  score = count_niche/len(all_prob)\n",
        "\n",
        "  scores.append(score)\n",
        "  min_pts.append(i)\n",
        "\n",
        "\n",
        "percentile_list = pd.DataFrame(np.column_stack([min_pts, scores]),columns=['min_Pts', 'Scores'])\n",
        "index = percentile_list['Scores'].idxmin()\n",
        "row = percentile_list.iloc[index]\n",
        "\n",
        "print('The optimum value of min_pts is : ', row[0])\n",
        "# plot score vs min pts\n",
        "import matplotlib.pyplot as plt\n",
        "\n",
        "# plt.plot(min_pts,scores)\n",
        "percentile_list.plot(x='min_Pts', y='Scores', kind = 'line')"
      ],
      "execution_count": null,
      "outputs": [
        {
          "output_type": "stream",
          "text": [
            "The optimum value of min_pts is :  12.0\n"
          ],
          "name": "stdout"
        },
        {
          "output_type": "execute_result",
          "data": {
            "text/plain": [
              "<matplotlib.axes._subplots.AxesSubplot at 0x7f9a306c7198>"
            ]
          },
          "metadata": {
            "tags": []
          },
          "execution_count": 96
        },
        {
          "output_type": "display_data",
          "data": {
            "image/png": "[encoded data removed]",
            "text/plain": [
              "<Figure size 432x288 with 1 Axes>"
            ]
          },
          "metadata": {
            "tags": [],
            "needs_background": "light"
          }
        }
      ]
    },
    {
      "cell_type": "markdown",
      "metadata": {
        "id": "bA_N7qqf6Duh"
      },
      "source": [
        "### run clustering"
      ]
    },
    {
      "cell_type": "code",
      "metadata": {
        "id": "6LS4dgzV55FW",
        "outputId": "b7061250-9792-4429-a8c1-a86eaf12c86b",
        "colab": {
          "base_uri": "https://localhost:8080/",
          "height": 146
        }
      },
      "source": [
        "#min_samples 10\n",
        "clusterer = hdbscan.HDBSCAN(min_samples=12)\n",
        "\n",
        "clusterer.fit(clusterable_embedding)\n"
      ],
      "execution_count": null,
      "outputs": [
        {
          "output_type": "execute_result",
          "data": {
            "text/plain": [
              "HDBSCAN(algorithm='best', allow_single_cluster=False, alpha=1.0,\n",
              "        approx_min_span_tree=True, cluster_selection_epsilon=0.0,\n",
              "        cluster_selection_method='eom', core_dist_n_jobs=4,\n",
              "        gen_min_span_tree=False, leaf_size=40,\n",
              "        match_reference_implementation=False, memory=Memory(location=None),\n",
              "        metric='euclidean', min_cluster_size=5, min_samples=12, p=None,\n",
              "        prediction_data=False)"
            ]
          },
          "metadata": {
            "tags": []
          },
          "execution_count": 97
        }
      ]
    },
    {
      "cell_type": "markdown",
      "metadata": {
        "id": "Qo3mOqzb6IrW"
      },
      "source": [
        "### data exploration"
      ]
    },
    {
      "cell_type": "code",
      "metadata": {
        "id": "dCspZAnN57U3",
        "outputId": "4ba0dce0-c5f0-408f-b3b5-3650792be2ff",
        "colab": {
          "base_uri": "https://localhost:8080/",
          "height": 219
        }
      },
      "source": [
        "# clusterer.labels_.max()\n",
        "from collections import Counter\n",
        "Counter(clusterer.labels_)\n",
        "\n",
        "# clusterer.single_linkage_tree_.plot()\n",
        "\n",
        "# island plot\n",
        "# clusterer.condensed_tree_.plot()"
      ],
      "execution_count": null,
      "outputs": [
        {
          "output_type": "execute_result",
          "data": {
            "text/plain": [
              "Counter({-1: 72,\n",
              "         0: 20,\n",
              "         1: 284,\n",
              "         2: 106,\n",
              "         3: 222,\n",
              "         4: 48,\n",
              "         5: 16,\n",
              "         6: 8,\n",
              "         7: 16,\n",
              "         8: 40,\n",
              "         9: 14})"
            ]
          },
          "metadata": {
            "tags": []
          },
          "execution_count": 98
        }
      ]
    },
    {
      "cell_type": "code",
      "metadata": {
        "id": "e78ABvtRTVxG",
        "outputId": "4fb704bb-8f10-469c-a27f-c04135d61841",
        "colab": {
          "base_uri": "https://localhost:8080/",
          "height": 432
        }
      },
      "source": [
        "#  plot the umap 2d\n",
        "import matplotlib.pyplot as plt\n",
        "\n",
        "# Prepare data\n",
        "umap_data = umap.UMAP(n_neighbors=15, n_components=2, min_dist=0.0, metric='cosine').fit_transform(train_embeddings)\n",
        "result = pd.DataFrame(umap_data, columns=['x', 'y'])\n",
        "result['labels'] = clusterer.labels_\n",
        "\n",
        "# Visualize clusters\n",
        "fig, ax = plt.subplots(figsize=(20, 10))\n",
        "outliers = result.loc[result.labels == -1, :]\n",
        "clustered = result.loc[result.labels != -1, :]\n",
        "plt.scatter(outliers.x, outliers.y, color='#BDBDBD', s=0.05)\n",
        "plt.scatter(clustered.x, clustered.y, c=clustered.labels, s=2, cmap='hsv_r')\n",
        "plt.colorbar()"
      ],
      "execution_count": null,
      "outputs": [
        {
          "output_type": "execute_result",
          "data": {
            "text/plain": [
              "<matplotlib.colorbar.Colorbar at 0x7f9a16581518>"
            ]
          },
          "metadata": {
            "tags": []
          },
          "execution_count": 99
        },
        {
          "output_type": "display_data",
          "data": {
            "image/png": "[encoded data removed]",
            "text/plain": [
              "<Figure size 1440x720 with 2 Axes>"
            ]
          },
          "metadata": {
            "tags": [],
            "needs_background": "light"
          }
        }
      ]
    },
    {
      "cell_type": "markdown",
      "metadata": {
        "id": "Ni9jxnhR6RGi"
      },
      "source": [
        "## Append result to dataframe"
      ]
    },
    {
      "cell_type": "code",
      "metadata": {
        "id": "7nfJzN_w6QTM"
      },
      "source": [
        "df.loc[:,'hdbscan_Clusters'] = None\n",
        "df.loc[:,'hdbscan_Clusters'] = clusterer.labels_"
      ],
      "execution_count": null,
      "outputs": []
    },
    {
      "cell_type": "code",
      "metadata": {
        "id": "4Hl8M3ZD6Y9G",
        "outputId": "c7da960c-0db5-4c22-8aea-a4d444a74f8d",
        "colab": {
          "base_uri": "https://localhost:8080/",
          "height": 49,
          "referenced_widgets": [
            "ace723eff7e94ec6bcc9cedfc2b04748",
            "1bc123d28ab84ea381552f5173ff66b2",
            "26a7aabdb92041779c9bddc9604ff104"
          ]
        }
      },
      "source": [
        "# ipywidget \n",
        "import ipywidgets as widgets\n",
        "\n",
        "max_cluster = clusterer.labels_.max()\n",
        "cluster_slider = widgets.IntSlider(value=5, max=max_cluster,description='Cluster no:')\n",
        "display(cluster_slider)\n",
        "\n",
        "# clusterer.labels_\n",
        "# clusterer.probabilities_"
      ],
      "execution_count": null,
      "outputs": [
        {
          "output_type": "display_data",
          "data": {
            "application/vnd.jupyter.widget-view+json": {
              "model_id": "ace723eff7e94ec6bcc9cedfc2b04748",
              "version_minor": 0,
              "version_major": 2
            },
            "text/plain": [
              "IntSlider(value=5, description='Cluster no:', max=9)"
            ]
          },
          "metadata": {
            "tags": []
          }
        }
      ]
    },
    {
      "cell_type": "code",
      "metadata": {
        "id": "62lYDtfYEysq",
        "outputId": "a1d80e63-e7b8-4abf-fba1-48959aea9ad2",
        "colab": {
          "base_uri": "https://localhost:8080/",
          "height": 725
        }
      },
      "source": [
        "df.query('hdbscan_Clusters == @cluster_slider.value')"
      ],
      "execution_count": null,
      "outputs": [
        {
          "output_type": "execute_result",
          "data": {
            "text/html": [
              "<div>\n",
              "<style scoped>\n",
              "    .dataframe tbody tr th:only-of-type {\n",
              "        vertical-align: middle;\n",
              "    }\n",
              "\n",
              "    .dataframe tbody tr th {\n",
              "        vertical-align: top;\n",
              "    }\n",
              "\n",
              "    .dataframe thead th {\n",
              "        text-align: right;\n",
              "    }\n",
              "</style>\n",
              "<table border=\"1\" class=\"dataframe\">\n",
              "  <thead>\n",
              "    <tr style=\"text-align: right;\">\n",
              "      <th></th>\n",
              "      <th>date</th>\n",
              "      <th>title</th>\n",
              "      <th>hdbscan_Clusters</th>\n",
              "    </tr>\n",
              "  </thead>\n",
              "  <tbody>\n",
              "    <tr>\n",
              "      <th>80</th>\n",
              "      <td>2016-09-22</td>\n",
              "      <td>Autodesk Launches PDM-in-the-Cloud to Bolster PLM Solution – Finally</td>\n",
              "      <td>5</td>\n",
              "    </tr>\n",
              "    <tr>\n",
              "      <th>81</th>\n",
              "      <td>2016-08-30</td>\n",
              "      <td>Autodesk Records Strong Second Quarter, Beats Guidance</td>\n",
              "      <td>5</td>\n",
              "    </tr>\n",
              "    <tr>\n",
              "      <th>102</th>\n",
              "      <td>2018-01-22</td>\n",
              "      <td>Bosch Rexroth demonstrates uses IoT screw solutions</td>\n",
              "      <td>5</td>\n",
              "    </tr>\n",
              "    <tr>\n",
              "      <th>105</th>\n",
              "      <td>2018-01-19</td>\n",
              "      <td>Bosch inaugurates IoT hub in Berlin</td>\n",
              "      <td>5</td>\n",
              "    </tr>\n",
              "    <tr>\n",
              "      <th>106</th>\n",
              "      <td>2017-06-20</td>\n",
              "      <td>Bosch invests €1bn in IoT technology</td>\n",
              "      <td>5</td>\n",
              "    </tr>\n",
              "    <tr>\n",
              "      <th>120</th>\n",
              "      <td>2016-08-19</td>\n",
              "      <td>CIMdata Report Shows Dassault Systèmes is a PLM Revenue Leader in 2015</td>\n",
              "      <td>5</td>\n",
              "    </tr>\n",
              "    <tr>\n",
              "      <th>160</th>\n",
              "      <td>2017-03-09</td>\n",
              "      <td>Dassault Systèmes Releases Three New Solutions for the Retail Industry</td>\n",
              "      <td>5</td>\n",
              "    </tr>\n",
              "    <tr>\n",
              "      <th>263</th>\n",
              "      <td>2016-11-22</td>\n",
              "      <td>Honeywell Brings New Offerings through Collaboration on IIoT Solutions</td>\n",
              "      <td>5</td>\n",
              "    </tr>\n",
              "    <tr>\n",
              "      <th>347</th>\n",
              "      <td>2019-04-04</td>\n",
              "      <td>LPT: Controls and Drives – Hitachi Composite Cables, Sigmatek DC Motor Module&amp; More</td>\n",
              "      <td>5</td>\n",
              "    </tr>\n",
              "    <tr>\n",
              "      <th>432</th>\n",
              "      <td>2018-09-19</td>\n",
              "      <td>PLM &amp; Design Re-Use: Model Searching Works for Norden Machinery</td>\n",
              "      <td>5</td>\n",
              "    </tr>\n",
              "    <tr>\n",
              "      <th>437</th>\n",
              "      <td>2016-08-08</td>\n",
              "      <td>PLM This Week: Autodesk Uses Machine Learning to Find Part Models</td>\n",
              "      <td>5</td>\n",
              "    </tr>\n",
              "    <tr>\n",
              "      <th>438</th>\n",
              "      <td>2015-11-20</td>\n",
              "      <td>PLM This Week: Dassault Systèmes Releases End-to-End Solution for BioPharma</td>\n",
              "      <td>5</td>\n",
              "    </tr>\n",
              "    <tr>\n",
              "      <th>439</th>\n",
              "      <td>2016-02-19</td>\n",
              "      <td>PLM This Week: European Spallation Source Selects the 3DEXPERIENCE</td>\n",
              "      <td>5</td>\n",
              "    </tr>\n",
              "    <tr>\n",
              "      <th>451</th>\n",
              "      <td>2016-06-20</td>\n",
              "      <td>PTC’s New AgileWorx is an Industry-First Agile Software Solution</td>\n",
              "      <td>5</td>\n",
              "    </tr>\n",
              "    <tr>\n",
              "      <th>452</th>\n",
              "      <td>2019-10-31</td>\n",
              "      <td>PTC’s Onshape Acquisition: Did SOLIDWORKS Founder Jon Hirschtick Have to Sell?</td>\n",
              "      <td>5</td>\n",
              "    </tr>\n",
              "    <tr>\n",
              "      <th>546</th>\n",
              "      <td>2016-02-12</td>\n",
              "      <td>SolidWorks PDM Gets Integrated with Arena</td>\n",
              "      <td>5</td>\n",
              "    </tr>\n",
              "  </tbody>\n",
              "</table>\n",
              "</div>"
            ],
            "text/plain": [
              "          date  ... hdbscan_Clusters\n",
              "80  2016-09-22  ...                5\n",
              "81  2016-08-30  ...                5\n",
              "102 2018-01-22  ...                5\n",
              "105 2018-01-19  ...                5\n",
              "106 2017-06-20  ...                5\n",
              "120 2016-08-19  ...                5\n",
              "160 2017-03-09  ...                5\n",
              "263 2016-11-22  ...                5\n",
              "347 2019-04-04  ...                5\n",
              "432 2018-09-19  ...                5\n",
              "437 2016-08-08  ...                5\n",
              "438 2015-11-20  ...                5\n",
              "439 2016-02-19  ...                5\n",
              "451 2016-06-20  ...                5\n",
              "452 2019-10-31  ...                5\n",
              "546 2016-02-12  ...                5\n",
              "\n",
              "[16 rows x 3 columns]"
            ]
          },
          "metadata": {
            "tags": []
          },
          "execution_count": 102
        }
      ]
    },
    {
      "cell_type": "markdown",
      "metadata": {
        "id": "t-F1n1Qu-9IY"
      },
      "source": [
        "# Time series"
      ]
    },
    {
      "cell_type": "code",
      "metadata": {
        "id": "EeBgPW38-_06",
        "outputId": "82791d2c-cf8e-4c0b-ba3c-012169ccccba",
        "colab": {
          "base_uri": "https://localhost:8080/",
          "height": 790
        }
      },
      "source": [
        "!pip install moda"
      ],
      "execution_count": null,
      "outputs": [
        {
          "output_type": "stream",
          "text": [
            "Requirement already satisfied: moda in /usr/local/lib/python3.6/dist-packages (0.3.1)\n",
            "Requirement already satisfied: matplotlib in /usr/local/lib/python3.6/dist-packages (from moda) (3.2.2)\n",
            "Requirement already satisfied: comet-ml in /usr/local/lib/python3.6/dist-packages (from moda) (3.2.4)\n",
            "Requirement already satisfied: stldecompose in /usr/local/lib/python3.6/dist-packages (from moda) (0.0.5)\n",
            "Requirement already satisfied: requests in /usr/local/lib/python3.6/dist-packages (from moda) (2.23.0)\n",
            "Requirement already satisfied: pytest in /usr/local/lib/python3.6/dist-packages (from moda) (3.6.4)\n",
            "Requirement already satisfied: statsmodels==0.10.2 in /usr/local/lib/python3.6/dist-packages (from moda) (0.10.2)\n",
            "Requirement already satisfied: pandas in /usr/local/lib/python3.6/dist-packages (from moda) (1.1.2)\n",
            "Requirement already satisfied: scikit-learn==0.23.0 in /usr/local/lib/python3.6/dist-packages (from moda) (0.23.0)\n",
            "Requirement already satisfied: pytest-cov in /usr/local/lib/python3.6/dist-packages (from moda) (2.10.1)\n",
            "Requirement already satisfied: numpy in /usr/local/lib/python3.6/dist-packages (from moda) (1.18.5)\n",
            "Requirement already satisfied: python-dateutil>=2.1 in /usr/local/lib/python3.6/dist-packages (from matplotlib->moda) (2.8.1)\n",
            "Requirement already satisfied: kiwisolver>=1.0.1 in /usr/local/lib/python3.6/dist-packages (from matplotlib->moda) (1.2.0)\n",
            "Requirement already satisfied: cycler>=0.10 in /usr/local/lib/python3.6/dist-packages (from matplotlib->moda) (0.10.0)\n",
            "Requirement already satisfied: pyparsing!=2.0.4,!=2.1.2,!=2.1.6,>=2.0.1 in /usr/local/lib/python3.6/dist-packages (from matplotlib->moda) (2.4.7)\n",
            "Requirement already satisfied: nvidia-ml-py3>=7.352.0 in /usr/local/lib/python3.6/dist-packages (from comet-ml->moda) (7.352.0)\n",
            "Requirement already satisfied: dulwich>=0.20.6; python_version >= \"3.0\" in /usr/local/lib/python3.6/dist-packages (from comet-ml->moda) (0.20.6)\n",
            "Requirement already satisfied: jsonschema!=3.1.0,>=2.6.0 in /usr/local/lib/python3.6/dist-packages (from comet-ml->moda) (2.6.0)\n",
            "Requirement already satisfied: everett[ini]>=1.0.1; python_version >= \"3.0\" in /usr/local/lib/python3.6/dist-packages (from comet-ml->moda) (1.0.2)\n",
            "Requirement already satisfied: six in /usr/local/lib/python3.6/dist-packages (from comet-ml->moda) (1.15.0)\n",
            "Requirement already satisfied: wurlitzer>=1.0.2 in /usr/local/lib/python3.6/dist-packages (from comet-ml->moda) (2.0.1)\n",
            "Requirement already satisfied: websocket-client>=0.55.0 in /usr/local/lib/python3.6/dist-packages (from comet-ml->moda) (0.57.0)\n",
            "Requirement already satisfied: wrapt>=1.11.2 in /usr/local/lib/python3.6/dist-packages (from comet-ml->moda) (1.12.1)\n",
            "Requirement already satisfied: netifaces>=0.10.7 in /usr/local/lib/python3.6/dist-packages (from comet-ml->moda) (0.10.9)\n",
            "Requirement already satisfied: scipy in /usr/local/lib/python3.6/dist-packages (from stldecompose->moda) (1.4.1)\n",
            "Requirement already satisfied: urllib3!=1.25.0,!=1.25.1,<1.26,>=1.21.1 in /usr/local/lib/python3.6/dist-packages (from requests->moda) (1.24.3)\n",
            "Requirement already satisfied: chardet<4,>=3.0.2 in /usr/local/lib/python3.6/dist-packages (from requests->moda) (3.0.4)\n",
            "Requirement already satisfied: idna<3,>=2.5 in /usr/local/lib/python3.6/dist-packages (from requests->moda) (2.10)\n",
            "Requirement already satisfied: certifi>=2017.4.17 in /usr/local/lib/python3.6/dist-packages (from requests->moda) (2020.6.20)\n",
            "Requirement already satisfied: more-itertools>=4.0.0 in /usr/local/lib/python3.6/dist-packages (from pytest->moda) (8.5.0)\n",
            "Requirement already satisfied: py>=1.5.0 in /usr/local/lib/python3.6/dist-packages (from pytest->moda) (1.9.0)\n",
            "Requirement already satisfied: pluggy<0.8,>=0.5 in /usr/local/lib/python3.6/dist-packages (from pytest->moda) (0.7.1)\n",
            "Requirement already satisfied: setuptools in /usr/local/lib/python3.6/dist-packages (from pytest->moda) (50.3.0)\n",
            "Requirement already satisfied: atomicwrites>=1.0 in /usr/local/lib/python3.6/dist-packages (from pytest->moda) (1.4.0)\n",
            "Requirement already satisfied: attrs>=17.4.0 in /usr/local/lib/python3.6/dist-packages (from pytest->moda) (20.2.0)\n",
            "Requirement already satisfied: patsy>=0.4.0 in /usr/local/lib/python3.6/dist-packages (from statsmodels==0.10.2->moda) (0.5.1)\n",
            "Requirement already satisfied: pytz>=2017.2 in /usr/local/lib/python3.6/dist-packages (from pandas->moda) (2018.9)\n",
            "Requirement already satisfied: joblib>=0.11 in /usr/local/lib/python3.6/dist-packages (from scikit-learn==0.23.0->moda) (0.16.0)\n",
            "Requirement already satisfied: threadpoolctl>=2.0.0 in /usr/local/lib/python3.6/dist-packages (from scikit-learn==0.23.0->moda) (2.1.0)\n",
            "Requirement already satisfied: coverage>=4.4 in /usr/local/lib/python3.6/dist-packages (from pytest-cov->moda) (5.3)\n",
            "Requirement already satisfied: configobj; extra == \"ini\" in /usr/local/lib/python3.6/dist-packages (from everett[ini]>=1.0.1; python_version >= \"3.0\"->comet-ml->moda) (5.0.6)\n"
          ],
          "name": "stdout"
        }
      ]
    },
    {
      "cell_type": "code",
      "metadata": {
        "id": "RccSsgbvALFc"
      },
      "source": [
        "df.rename(columns={'hdbscan_Clusters':'category', 'title':'value'}, inplace = True)"
      ],
      "execution_count": null,
      "outputs": []
    },
    {
      "cell_type": "code",
      "metadata": {
        "id": "kvVb2UXDA_LC"
      },
      "source": [
        "# group by year month\n",
        "\n",
        "# ls.dropna().reset_index(drop=True, inplace = True)/\n",
        "# ls = df.query('date != \"NaT\"')\n",
        "\n",
        "# step 1: create a 'year-month' column\n",
        "# ls['dates'] = ls['date'].map(lambda x: x.strftime('%Y/%m'))\n",
        "\n",
        "# step 2: group by the created columns\n",
        "# grouped_df = ls.groupby('dates').size()\n",
        "\n",
        "# grouped_df"
      ],
      "execution_count": null,
      "outputs": []
    },
    {
      "cell_type": "code",
      "metadata": {
        "id": "Nv6LGH5uCcPC",
        "outputId": "df437166-fafc-4919-f826-8d7943511f31",
        "colab": {
          "base_uri": "https://localhost:8080/",
          "height": 255
        }
      },
      "source": [
        "from moda.dataprep import raw_to_ts\n",
        "\n",
        "\n",
        "# this changes the dataframe !!!!!!!!!!!\n",
        "ts = raw_to_ts(df)\n",
        "ts.head()"
      ],
      "execution_count": null,
      "outputs": [
        {
          "output_type": "execute_result",
          "data": {
            "text/html": [
              "<div>\n",
              "<style scoped>\n",
              "    .dataframe tbody tr th:only-of-type {\n",
              "        vertical-align: middle;\n",
              "    }\n",
              "\n",
              "    .dataframe tbody tr th {\n",
              "        vertical-align: top;\n",
              "    }\n",
              "\n",
              "    .dataframe thead th {\n",
              "        text-align: right;\n",
              "    }\n",
              "</style>\n",
              "<table border=\"1\" class=\"dataframe\">\n",
              "  <thead>\n",
              "    <tr style=\"text-align: right;\">\n",
              "      <th></th>\n",
              "      <th>value</th>\n",
              "      <th>category</th>\n",
              "      <th>timestamp</th>\n",
              "    </tr>\n",
              "    <tr>\n",
              "      <th>date</th>\n",
              "      <th></th>\n",
              "      <th></th>\n",
              "      <th></th>\n",
              "    </tr>\n",
              "  </thead>\n",
              "  <tbody>\n",
              "    <tr>\n",
              "      <th>2019-12-19</th>\n",
              "      <td>'Inconsistent and misleading' password meters could increase risk of cyber attacks</td>\n",
              "      <td>2</td>\n",
              "      <td>1576713600</td>\n",
              "    </tr>\n",
              "    <tr>\n",
              "      <th>2018-12-28</th>\n",
              "      <td>10 biggest robotics stories of 2018</td>\n",
              "      <td>1</td>\n",
              "      <td>1545955200</td>\n",
              "    </tr>\n",
              "    <tr>\n",
              "      <th>2018-12-24</th>\n",
              "      <td>10 most funded robotics companies of 2018</td>\n",
              "      <td>1</td>\n",
              "      <td>1545609600</td>\n",
              "    </tr>\n",
              "    <tr>\n",
              "      <th>2019-01-09</th>\n",
              "      <td>10 robotics companies to watch in 2019</td>\n",
              "      <td>1</td>\n",
              "      <td>1546992000</td>\n",
              "    </tr>\n",
              "    <tr>\n",
              "      <th>2019-07-09</th>\n",
              "      <td>20 largest robotics investments during 1st half of 2019</td>\n",
              "      <td>1</td>\n",
              "      <td>1562630400</td>\n",
              "    </tr>\n",
              "  </tbody>\n",
              "</table>\n",
              "</div>"
            ],
            "text/plain": [
              "                                                                                         value  ...   timestamp\n",
              "date                                                                                            ...            \n",
              "2019-12-19  'Inconsistent and misleading' password meters could increase risk of cyber attacks  ...  1576713600\n",
              "2018-12-28                                                 10 biggest robotics stories of 2018  ...  1545955200\n",
              "2018-12-24                                           10 most funded robotics companies of 2018  ...  1545609600\n",
              "2019-01-09                                              10 robotics companies to watch in 2019  ...  1546992000\n",
              "2019-07-09                             20 largest robotics investments during 1st half of 2019  ...  1562630400\n",
              "\n",
              "[5 rows x 3 columns]"
            ]
          },
          "metadata": {
            "tags": []
          },
          "execution_count": 106
        }
      ]
    },
    {
      "cell_type": "code",
      "metadata": {
        "id": "ek9BwMFW1-SI"
      },
      "source": [
        "# add widget to select parameter and custom dates"
      ],
      "execution_count": null,
      "outputs": []
    },
    {
      "cell_type": "code",
      "metadata": {
        "id": "oYdHalgQIcag",
        "outputId": "d27d6da7-d105-4b53-fc96-a8bc9603691b",
        "colab": {
          "base_uri": "https://localhost:8080/",
          "height": 109
        }
      },
      "source": [
        "## Some general stats\n",
        "\n",
        "print(\"Dataset length: \" + str(len(ts)))\n",
        "print(\"Min date: \" + str(ts.index.get_level_values('date').min()))\n",
        "print(\"Max date: \" + str(ts.index.get_level_values('date').max()))\n",
        "\n",
        "print(\"Total time: {}\".format(ts.index.get_level_values('date').max() - ts.index.get_level_values('date').min()))\n",
        "\n",
        "print(\"Dataset contains {} categories.\".format(len(ts['category'].unique())))"
      ],
      "execution_count": null,
      "outputs": [
        {
          "output_type": "stream",
          "text": [
            "Dataset length: 846\n",
            "Min date: 2015-07-02 00:00:00\n",
            "Max date: 2020-04-08 18:00:00\n",
            "Total time: 1742 days 18:00:00\n",
            "Dataset contains 11 categories.\n"
          ],
          "name": "stdout"
        }
      ]
    },
    {
      "cell_type": "code",
      "metadata": {
        "id": "tQP87VTzIm0g",
        "outputId": "6b2a45ec-076c-43ec-b7e7-f50ef563d369",
        "colab": {
          "base_uri": "https://localhost:8080/",
          "height": 708
        }
      },
      "source": [
        "from moda.dataprep import ts_to_range\n",
        "TIME_RANGE = \"2M\"                                     # Aggregate all events in the raw data into 3month intervals\n",
        "ranged_ts = ts_to_range(ts,time_range=TIME_RANGE)\n",
        "ranged_ts.head(20)\n",
        "# value:  is the number of articles belonging to that particular category"
      ],
      "execution_count": null,
      "outputs": [
        {
          "output_type": "execute_result",
          "data": {
            "text/html": [
              "<div>\n",
              "<style scoped>\n",
              "    .dataframe tbody tr th:only-of-type {\n",
              "        vertical-align: middle;\n",
              "    }\n",
              "\n",
              "    .dataframe tbody tr th {\n",
              "        vertical-align: top;\n",
              "    }\n",
              "\n",
              "    .dataframe thead th {\n",
              "        text-align: right;\n",
              "    }\n",
              "</style>\n",
              "<table border=\"1\" class=\"dataframe\">\n",
              "  <thead>\n",
              "    <tr style=\"text-align: right;\">\n",
              "      <th></th>\n",
              "      <th></th>\n",
              "      <th>value</th>\n",
              "    </tr>\n",
              "    <tr>\n",
              "      <th>date</th>\n",
              "      <th>category</th>\n",
              "      <th></th>\n",
              "    </tr>\n",
              "  </thead>\n",
              "  <tbody>\n",
              "    <tr>\n",
              "      <th>2015-07-31</th>\n",
              "      <th>1</th>\n",
              "      <td>1.0</td>\n",
              "    </tr>\n",
              "    <tr>\n",
              "      <th rowspan=\"2\" valign=\"top\">2015-09-30</th>\n",
              "      <th>1</th>\n",
              "      <td>0.0</td>\n",
              "    </tr>\n",
              "    <tr>\n",
              "      <th>3</th>\n",
              "      <td>1.0</td>\n",
              "    </tr>\n",
              "    <tr>\n",
              "      <th rowspan=\"7\" valign=\"top\">2015-11-30</th>\n",
              "      <th>-1</th>\n",
              "      <td>1.0</td>\n",
              "    </tr>\n",
              "    <tr>\n",
              "      <th>0</th>\n",
              "      <td>2.0</td>\n",
              "    </tr>\n",
              "    <tr>\n",
              "      <th>1</th>\n",
              "      <td>2.0</td>\n",
              "    </tr>\n",
              "    <tr>\n",
              "      <th>2</th>\n",
              "      <td>1.0</td>\n",
              "    </tr>\n",
              "    <tr>\n",
              "      <th>3</th>\n",
              "      <td>0.0</td>\n",
              "    </tr>\n",
              "    <tr>\n",
              "      <th>5</th>\n",
              "      <td>1.0</td>\n",
              "    </tr>\n",
              "    <tr>\n",
              "      <th>7</th>\n",
              "      <td>1.0</td>\n",
              "    </tr>\n",
              "    <tr>\n",
              "      <th rowspan=\"9\" valign=\"top\">2016-01-31</th>\n",
              "      <th>-1</th>\n",
              "      <td>0.0</td>\n",
              "    </tr>\n",
              "    <tr>\n",
              "      <th>0</th>\n",
              "      <td>0.0</td>\n",
              "    </tr>\n",
              "    <tr>\n",
              "      <th>1</th>\n",
              "      <td>5.0</td>\n",
              "    </tr>\n",
              "    <tr>\n",
              "      <th>2</th>\n",
              "      <td>0.0</td>\n",
              "    </tr>\n",
              "    <tr>\n",
              "      <th>3</th>\n",
              "      <td>0.0</td>\n",
              "    </tr>\n",
              "    <tr>\n",
              "      <th>5</th>\n",
              "      <td>0.0</td>\n",
              "    </tr>\n",
              "    <tr>\n",
              "      <th>7</th>\n",
              "      <td>0.0</td>\n",
              "    </tr>\n",
              "    <tr>\n",
              "      <th>8</th>\n",
              "      <td>1.0</td>\n",
              "    </tr>\n",
              "    <tr>\n",
              "      <th>9</th>\n",
              "      <td>2.0</td>\n",
              "    </tr>\n",
              "    <tr>\n",
              "      <th>2016-03-31</th>\n",
              "      <th>-1</th>\n",
              "      <td>2.0</td>\n",
              "    </tr>\n",
              "  </tbody>\n",
              "</table>\n",
              "</div>"
            ],
            "text/plain": [
              "                     value\n",
              "date       category       \n",
              "2015-07-31  1          1.0\n",
              "2015-09-30  1          0.0\n",
              "            3          1.0\n",
              "2015-11-30 -1          1.0\n",
              "            0          2.0\n",
              "            1          2.0\n",
              "            2          1.0\n",
              "            3          0.0\n",
              "            5          1.0\n",
              "            7          1.0\n",
              "2016-01-31 -1          0.0\n",
              "            0          0.0\n",
              "            1          5.0\n",
              "            2          0.0\n",
              "            3          0.0\n",
              "            5          0.0\n",
              "            7          0.0\n",
              "            8          1.0\n",
              "            9          2.0\n",
              "2016-03-31 -1          2.0"
            ]
          },
          "metadata": {
            "tags": []
          },
          "execution_count": 109
        }
      ]
    },
    {
      "cell_type": "code",
      "metadata": {
        "id": "Le5hJuxZSEx2",
        "outputId": "b3d4c805-f5e0-476c-987f-1d9ad2c326cb",
        "colab": {
          "base_uri": "https://localhost:8080/",
          "height": 788,
          "referenced_widgets": [
            "ace723eff7e94ec6bcc9cedfc2b04748",
            "1bc123d28ab84ea381552f5173ff66b2",
            "26a7aabdb92041779c9bddc9604ff104"
          ]
        }
      },
      "source": [
        "# view articles in seected cluster\n",
        "display(cluster_slider)\n",
        "df.query('category == @cluster_slider.value').sort_values(by=['date'])\n",
        "\n",
        "# filter_1 = df.query('category == @cluster_slider.value')\n",
        "# filter_1.sort_values(by=['date'], inplace=True)\n",
        "# filter_1.reset_index(drop=True, inplace=True)\n",
        "# filter_1.tail()"
      ],
      "execution_count": null,
      "outputs": [
        {
          "output_type": "display_data",
          "data": {
            "application/vnd.jupyter.widget-view+json": {
              "model_id": "ace723eff7e94ec6bcc9cedfc2b04748",
              "version_minor": 0,
              "version_major": 2
            },
            "text/plain": [
              "IntSlider(value=5, description='Cluster no:', max=9)"
            ]
          },
          "metadata": {
            "tags": []
          }
        },
        {
          "output_type": "execute_result",
          "data": {
            "text/html": [
              "<div>\n",
              "<style scoped>\n",
              "    .dataframe tbody tr th:only-of-type {\n",
              "        vertical-align: middle;\n",
              "    }\n",
              "\n",
              "    .dataframe tbody tr th {\n",
              "        vertical-align: top;\n",
              "    }\n",
              "\n",
              "    .dataframe thead th {\n",
              "        text-align: right;\n",
              "    }\n",
              "</style>\n",
              "<table border=\"1\" class=\"dataframe\">\n",
              "  <thead>\n",
              "    <tr style=\"text-align: right;\">\n",
              "      <th></th>\n",
              "      <th>value</th>\n",
              "      <th>category</th>\n",
              "      <th>timestamp</th>\n",
              "    </tr>\n",
              "    <tr>\n",
              "      <th>date</th>\n",
              "      <th></th>\n",
              "      <th></th>\n",
              "      <th></th>\n",
              "    </tr>\n",
              "  </thead>\n",
              "  <tbody>\n",
              "    <tr>\n",
              "      <th>2015-11-20</th>\n",
              "      <td>PLM This Week: Dassault Systèmes Releases End-to-End Solution for BioPharma</td>\n",
              "      <td>5</td>\n",
              "      <td>1447977600</td>\n",
              "    </tr>\n",
              "    <tr>\n",
              "      <th>2016-02-12</th>\n",
              "      <td>SolidWorks PDM Gets Integrated with Arena</td>\n",
              "      <td>5</td>\n",
              "      <td>1455235200</td>\n",
              "    </tr>\n",
              "    <tr>\n",
              "      <th>2016-02-19</th>\n",
              "      <td>PLM This Week: European Spallation Source Selects the 3DEXPERIENCE</td>\n",
              "      <td>5</td>\n",
              "      <td>1455840000</td>\n",
              "    </tr>\n",
              "    <tr>\n",
              "      <th>2016-06-20</th>\n",
              "      <td>PTC’s New AgileWorx is an Industry-First Agile Software Solution</td>\n",
              "      <td>5</td>\n",
              "      <td>1466380800</td>\n",
              "    </tr>\n",
              "    <tr>\n",
              "      <th>2016-08-08</th>\n",
              "      <td>PLM This Week: Autodesk Uses Machine Learning to Find Part Models</td>\n",
              "      <td>5</td>\n",
              "      <td>1470614400</td>\n",
              "    </tr>\n",
              "    <tr>\n",
              "      <th>2016-08-19</th>\n",
              "      <td>CIMdata Report Shows Dassault Systèmes is a PLM Revenue Leader in 2015</td>\n",
              "      <td>5</td>\n",
              "      <td>1471564800</td>\n",
              "    </tr>\n",
              "    <tr>\n",
              "      <th>2016-08-30</th>\n",
              "      <td>Autodesk Records Strong Second Quarter, Beats Guidance</td>\n",
              "      <td>5</td>\n",
              "      <td>1472515200</td>\n",
              "    </tr>\n",
              "    <tr>\n",
              "      <th>2016-09-22</th>\n",
              "      <td>Autodesk Launches PDM-in-the-Cloud to Bolster PLM Solution – Finally</td>\n",
              "      <td>5</td>\n",
              "      <td>1474502400</td>\n",
              "    </tr>\n",
              "    <tr>\n",
              "      <th>2016-11-22</th>\n",
              "      <td>Honeywell Brings New Offerings through Collaboration on IIoT Solutions</td>\n",
              "      <td>5</td>\n",
              "      <td>1479772800</td>\n",
              "    </tr>\n",
              "    <tr>\n",
              "      <th>2017-03-09</th>\n",
              "      <td>Dassault Systèmes Releases Three New Solutions for the Retail Industry</td>\n",
              "      <td>5</td>\n",
              "      <td>1489017600</td>\n",
              "    </tr>\n",
              "    <tr>\n",
              "      <th>2017-06-20</th>\n",
              "      <td>Bosch invests €1bn in IoT technology</td>\n",
              "      <td>5</td>\n",
              "      <td>1497916800</td>\n",
              "    </tr>\n",
              "    <tr>\n",
              "      <th>2018-01-19</th>\n",
              "      <td>Bosch inaugurates IoT hub in Berlin</td>\n",
              "      <td>5</td>\n",
              "      <td>1516320000</td>\n",
              "    </tr>\n",
              "    <tr>\n",
              "      <th>2018-01-22</th>\n",
              "      <td>Bosch Rexroth demonstrates uses IoT screw solutions</td>\n",
              "      <td>5</td>\n",
              "      <td>1516579200</td>\n",
              "    </tr>\n",
              "    <tr>\n",
              "      <th>2018-09-19</th>\n",
              "      <td>PLM &amp; Design Re-Use: Model Searching Works for Norden Machinery</td>\n",
              "      <td>5</td>\n",
              "      <td>1537315200</td>\n",
              "    </tr>\n",
              "    <tr>\n",
              "      <th>2019-04-04</th>\n",
              "      <td>LPT: Controls and Drives – Hitachi Composite Cables, Sigmatek DC Motor Module&amp; More</td>\n",
              "      <td>5</td>\n",
              "      <td>1554336000</td>\n",
              "    </tr>\n",
              "    <tr>\n",
              "      <th>2019-10-31</th>\n",
              "      <td>PTC’s Onshape Acquisition: Did SOLIDWORKS Founder Jon Hirschtick Have to Sell?</td>\n",
              "      <td>5</td>\n",
              "      <td>1572480000</td>\n",
              "    </tr>\n",
              "  </tbody>\n",
              "</table>\n",
              "</div>"
            ],
            "text/plain": [
              "                                                                                          value  ...   timestamp\n",
              "date                                                                                             ...            \n",
              "2015-11-20          PLM This Week: Dassault Systèmes Releases End-to-End Solution for BioPharma  ...  1447977600\n",
              "2016-02-12                                            SolidWorks PDM Gets Integrated with Arena  ...  1455235200\n",
              "2016-02-19                   PLM This Week: European Spallation Source Selects the 3DEXPERIENCE  ...  1455840000\n",
              "2016-06-20                     PTC’s New AgileWorx is an Industry-First Agile Software Solution  ...  1466380800\n",
              "2016-08-08                    PLM This Week: Autodesk Uses Machine Learning to Find Part Models  ...  1470614400\n",
              "2016-08-19               CIMdata Report Shows Dassault Systèmes is a PLM Revenue Leader in 2015  ...  1471564800\n",
              "2016-08-30                               Autodesk Records Strong Second Quarter, Beats Guidance  ...  1472515200\n",
              "2016-09-22                 Autodesk Launches PDM-in-the-Cloud to Bolster PLM Solution – Finally  ...  1474502400\n",
              "2016-11-22               Honeywell Brings New Offerings through Collaboration on IIoT Solutions  ...  1479772800\n",
              "2017-03-09               Dassault Systèmes Releases Three New Solutions for the Retail Industry  ...  1489017600\n",
              "2017-06-20                                                 Bosch invests €1bn in IoT technology  ...  1497916800\n",
              "2018-01-19                                                  Bosch inaugurates IoT hub in Berlin  ...  1516320000\n",
              "2018-01-22                                  Bosch Rexroth demonstrates uses IoT screw solutions  ...  1516579200\n",
              "2018-09-19                      PLM & Design Re-Use: Model Searching Works for Norden Machinery  ...  1537315200\n",
              "2019-04-04  LPT: Controls and Drives – Hitachi Composite Cables, Sigmatek DC Motor Module& More  ...  1554336000\n",
              "2019-10-31       PTC’s Onshape Acquisition: Did SOLIDWORKS Founder Jon Hirschtick Have to Sell?  ...  1572480000\n",
              "\n",
              "[16 rows x 3 columns]"
            ]
          },
          "metadata": {
            "tags": []
          },
          "execution_count": 110
        }
      ]
    },
    {
      "cell_type": "markdown",
      "metadata": {
        "id": "hfK0Gbwq1ImY"
      },
      "source": [
        "## widget"
      ]
    },
    {
      "cell_type": "code",
      "metadata": {
        "id": "BAmnFqXwzeQF",
        "outputId": "679b3671-e2ef-49db-9208-730d0fcf073f",
        "colab": {
          "base_uri": "https://localhost:8080/",
          "height": 79,
          "referenced_widgets": [
            "ace723eff7e94ec6bcc9cedfc2b04748",
            "1bc123d28ab84ea381552f5173ff66b2",
            "26a7aabdb92041779c9bddc9604ff104",
            "8ad66bad407d4595b57c3f6e74baf186",
            "b30407a9d47f4c64b6caa59754d8feb3",
            "495abbfd258c474384012b2eb2d1dea4"
          ]
        }
      },
      "source": [
        "# ipywidget \n",
        "# import ipywidgets as widgets\n",
        "\n",
        "# max_cluster = clusterer.labels_.max()\n",
        "# cluster_slider = widgets.IntSlider(value=5, max=max_cluster,description='Cluster no:')\n",
        "display(cluster_slider)\n",
        "\n",
        "from datetime import datetime\n",
        "\n",
        "# start_date = datetime(2015, 1, 1)                                # make this block global and user input <----------------------------\n",
        "# end_date = datetime(2020, 5, 1)                                  \n",
        "\n",
        "start_date = ts.index.get_level_values('date').min()\n",
        "end_date = ts.index.get_level_values('date').max()\n",
        "\n",
        "dates = pd.date_range(start_date, end_date, freq=TIME_RANGE)\n",
        "\n",
        "options = [(date.strftime(' %d %b %Y '), date) for date in dates]\n",
        "index = (0, len(options)-1)\n",
        "\n",
        "\n",
        "selection_range_slider = widgets.SelectionRangeSlider(\n",
        "    options=options,\n",
        "    index=index,\n",
        "    description='Dates',\n",
        "    orientation='horizontal',\n",
        "    layout={'width': '500px'}\n",
        ")\n",
        "\n",
        "selection_range_slider"
      ],
      "execution_count": null,
      "outputs": [
        {
          "output_type": "display_data",
          "data": {
            "application/vnd.jupyter.widget-view+json": {
              "model_id": "ace723eff7e94ec6bcc9cedfc2b04748",
              "version_minor": 0,
              "version_major": 2
            },
            "text/plain": [
              "IntSlider(value=5, description='Cluster no:', max=9)"
            ]
          },
          "metadata": {
            "tags": []
          }
        },
        {
          "output_type": "display_data",
          "data": {
            "application/vnd.jupyter.widget-view+json": {
              "model_id": "8ad66bad407d4595b57c3f6e74baf186",
              "version_minor": 0,
              "version_major": 2
            },
            "text/plain": [
              "SelectionRangeSlider(description='Dates', index=(0, 28), layout=Layout(width='500px'), options=((' 31 Jul 2015…"
            ]
          },
          "metadata": {
            "tags": []
          }
        }
      ]
    },
    {
      "cell_type": "code",
      "metadata": {
        "id": "AhFKKa70IqYv",
        "outputId": "79cf1498-376c-4362-ded2-3e69d0afe56d",
        "colab": {
          "base_uri": "https://localhost:8080/",
          "height": 231
        }
      },
      "source": [
        "# growth of particular category/cluster\n",
        "category = cluster_slider.value\n",
        "ranged_ts.loc[pd.IndexSlice[:, category], :].reset_index().plot(kind='line',x='date',y='value',figsize=(24,6),linewidth=0.7, \n",
        "                          title = \"Number of mentions for {}\".format(category))"
      ],
      "execution_count": null,
      "outputs": [
        {
          "output_type": "execute_result",
          "data": {
            "text/plain": [
              "<matplotlib.axes._subplots.AxesSubplot at 0x7f9a1814bb00>"
            ]
          },
          "metadata": {
            "tags": []
          },
          "execution_count": 112
        },
        {
          "output_type": "display_data",
          "data": {
            "image/png": "[encoded data removed]",
            "text/plain": [
              "<Figure size 1728x432 with 1 Axes>"
            ]
          },
          "metadata": {
            "tags": [],
            "needs_background": "light"
          }
        }
      ]
    },
    {
      "cell_type": "code",
      "metadata": {
        "id": "Wp_9Dh0JPBQC",
        "outputId": "f16a7a3e-d970-4f61-9e40-211ac660b1af",
        "colab": {
          "base_uri": "https://localhost:8080/",
          "height": 233
        }
      },
      "source": [
        "# Custom date\n",
        "# START = '2015-11-01'\n",
        "# END = '2018-07-01'\n",
        "START = str(selection_range_slider.value[0])[:10]\n",
        "END = str(selection_range_slider.value[1])[:10]\n",
        "\n",
        "category = 8\n",
        "cleaning = ranged_ts.loc[pd.IndexSlice[:, category], :].reset_index()\n",
        "cleaning[(cleaning.date > START) & (cleaning.date<=END)].plot(kind='line',x='date',y='value',figsize=(24,6),linewidth=0.7, \n",
        "                          title = \"Number of incidents for {0} between {1} and {2}\".format(category,START,END))"
      ],
      "execution_count": null,
      "outputs": [
        {
          "output_type": "execute_result",
          "data": {
            "text/plain": [
              "<matplotlib.axes._subplots.AxesSubplot at 0x7f9a17b079b0>"
            ]
          },
          "metadata": {
            "tags": []
          },
          "execution_count": 113
        },
        {
          "output_type": "display_data",
          "data": {
            "image/png": "[encoded data removed]",
            "text/plain": [
              "<Figure size 1728x432 with 1 Axes>"
            ]
          },
          "metadata": {
            "tags": [],
            "needs_background": "light"
          }
        }
      ]
    },
    {
      "cell_type": "code",
      "metadata": {
        "id": "LnLGDUAIQFBJ",
        "outputId": "06bd5fd7-2da2-4d09-93ab-948f80fdcb91",
        "colab": {
          "base_uri": "https://localhost:8080/",
          "height": 445
        }
      },
      "source": [
        "# from moda.dataprep.ts_to_range import ts_to_range\n",
        "\n",
        "ranged_ts_3H = ts_to_range(ts,time_range='1M',pad_with_zeros=True)\n",
        "ranged_ts_30min = ts_to_range(ts,time_range='2W',pad_with_zeros=True)\n",
        "\n",
        "START = '2015-11-01'\n",
        "END = '2019-01-01'\n",
        "category = 2\n",
        "\n",
        "fig, axes = plt.subplots(nrows=3, ncols=1,figsize=(20,12))\n",
        "\n",
        "cleaning_30min = ranged_ts_30min.loc[pd.IndexSlice[:, category], :].reset_index()\n",
        "a1=cleaning_30min[(cleaning_30min.date > START) & (cleaning_30min.date<=END)].plot(kind='line',x='date',y='value',linewidth=0.7, ax=axes[0])\n",
        "\n",
        "cleaning_3H = ranged_ts_3H.loc[pd.IndexSlice[:, category], :].reset_index()\n",
        "a2=cleaning_3H[(cleaning_3H.date > START) & (cleaning_3H.date<=END)].plot(kind='line',x='date',y='value',linewidth=0.7, ax=axes[1])\n",
        "\n",
        "cleaning_24H = ranged_ts.loc[pd.IndexSlice[:, category], :].reset_index()\n",
        "a3=cleaning_24H[(cleaning_24H.date > START) & (cleaning_24H.date<=END)].plot(kind='line',x='date',y='value',linewidth=0.7, ax=axes[2])"
      ],
      "execution_count": null,
      "outputs": [
        {
          "output_type": "display_data",
          "data": {
            "image/png": "[encoded data removed]",
            "text/plain": [
              "<Figure size 1440x864 with 3 Axes>"
            ]
          },
          "metadata": {
            "tags": [],
            "needs_background": "light"
          }
        }
      ]
    },
    {
      "cell_type": "code",
      "metadata": {
        "id": "lPZ9FqlwJNzF",
        "outputId": "a1225a8a-7c35-481f-8353-9d3d2aeb7225",
        "colab": {
          "base_uri": "https://localhost:8080/",
          "height": 824
        }
      },
      "source": [
        "# common categories\n",
        "!pip install dfply\n",
        "from dfply import *\n",
        "import matplotlib.pyplot as plt\n",
        "## Remove categories with less than 1000 items (in more than 10 years) or that existed less than 100 days\n",
        "min_values = 5\n",
        "min_days = 10\n",
        "\n",
        "\n",
        "\n",
        "categories = ranged_ts.reset_index() >> group_by(X.category) >> \\\n",
        "    summarise(value = np.sum(X.value),duration_in_dataset = X.date.max()-X.date.min()) >> \\\n",
        "    ungroup() >> \\\n",
        "    mask(X.duration_in_dataset.dt.days > min_days) >> \\\n",
        "    mask(X.value > min_values) >> \\\n",
        "    arrange(X.value,ascending=False)\n",
        "\n",
        "\n",
        "\n",
        "print(\"Filtered dataset contains {0} categories,\\nafter filtering the small ones that existed less than {1} days or had {2} values of less.\".\n",
        "      format(len(categories),min_days,min_values))\n",
        "\n",
        "categories.head()\n",
        "\n",
        "category_names = categories['category'].values\n",
        "num_categories = len(categories)\n",
        "\n",
        "major_category_threshold=11\n",
        "major_categories = category_names[:major_category_threshold]\n",
        "minor_categories = category_names[major_category_threshold:]\n",
        "\n",
        "fig, axes = plt.subplots(nrows=1, ncols=2)\n",
        "fig.set_figheight(5)\n",
        "fig.set_figwidth(20)\n",
        "\n",
        "categories[categories['category'].isin(major_categories)].plot(kind='bar',\n",
        "                                                               x='category',\n",
        "                                                               y='value',\n",
        "                                                               title=\"Top \"+str(major_category_threshold-1)+\" common categories on the SF311 dataset\",\n",
        "                                                               ax=axes[0])\n",
        "categories[categories['category'].isin(minor_categories)].plot(kind='bar',\n",
        "                                                               x='category',\n",
        "                                                               y='value',\n",
        "                                                               title=str(major_category_threshold)+\"th to \"+str(num_categories)+\"th most common categories on the SF311 dataset\",\n",
        "                                                               ax=axes[1])\n",
        "\n",
        "plt.savefig(\"category_values.png\",bbox_inches='tight')"
      ],
      "execution_count": null,
      "outputs": [
        {
          "output_type": "stream",
          "text": [
            "Requirement already satisfied: dfply in /usr/local/lib/python3.6/dist-packages (0.3.3)\n",
            "Requirement already satisfied: pandas in /usr/local/lib/python3.6/dist-packages (from dfply) (1.1.2)\n",
            "Requirement already satisfied: numpy in /usr/local/lib/python3.6/dist-packages (from dfply) (1.18.5)\n",
            "Requirement already satisfied: python-dateutil>=2.7.3 in /usr/local/lib/python3.6/dist-packages (from pandas->dfply) (2.8.1)\n",
            "Requirement already satisfied: pytz>=2017.2 in /usr/local/lib/python3.6/dist-packages (from pandas->dfply) (2018.9)\n",
            "Requirement already satisfied: six>=1.5 in /usr/local/lib/python3.6/dist-packages (from python-dateutil>=2.7.3->pandas->dfply) (1.15.0)\n",
            "Filtered dataset contains 11 categories,\n",
            "after filtering the small ones that existed less than 10 days or had 5 values of less.\n"
          ],
          "name": "stdout"
        },
        {
          "output_type": "error",
          "ename": "IndexError",
          "evalue": "ignored",
          "traceback": [
            "\u001b[0;31m---------------------------------------------------------------------------\u001b[0m",
            "\u001b[0;31mIndexError\u001b[0m                                Traceback (most recent call last)",
            "\u001b[0;32m<ipython-input-115-857434c4b554>\u001b[0m in \u001b[0;36m<module>\u001b[0;34m()\u001b[0m\n\u001b[1;32m     38\u001b[0m                                                                \u001b[0my\u001b[0m\u001b[0;34m=\u001b[0m\u001b[0;34m'value'\u001b[0m\u001b[0;34m,\u001b[0m\u001b[0;34m\u001b[0m\u001b[0;34m\u001b[0m\u001b[0m\n\u001b[1;32m     39\u001b[0m                                                                \u001b[0mtitle\u001b[0m\u001b[0;34m=\u001b[0m\u001b[0mstr\u001b[0m\u001b[0;34m(\u001b[0m\u001b[0mmajor_category_threshold\u001b[0m\u001b[0;34m)\u001b[0m\u001b[0;34m+\u001b[0m\u001b[0;34m\"th to \"\u001b[0m\u001b[0;34m+\u001b[0m\u001b[0mstr\u001b[0m\u001b[0;34m(\u001b[0m\u001b[0mnum_categories\u001b[0m\u001b[0;34m)\u001b[0m\u001b[0;34m+\u001b[0m\u001b[0;34m\"th most common categories on the SF311 dataset\"\u001b[0m\u001b[0;34m,\u001b[0m\u001b[0;34m\u001b[0m\u001b[0;34m\u001b[0m\u001b[0m\n\u001b[0;32m---> 40\u001b[0;31m                                                                ax=axes[1])\n\u001b[0m\u001b[1;32m     41\u001b[0m \u001b[0;34m\u001b[0m\u001b[0m\n\u001b[1;32m     42\u001b[0m \u001b[0mplt\u001b[0m\u001b[0;34m.\u001b[0m\u001b[0msavefig\u001b[0m\u001b[0;34m(\u001b[0m\u001b[0;34m\"category_values.png\"\u001b[0m\u001b[0;34m,\u001b[0m\u001b[0mbbox_inches\u001b[0m\u001b[0;34m=\u001b[0m\u001b[0;34m'tight'\u001b[0m\u001b[0;34m)\u001b[0m\u001b[0;34m\u001b[0m\u001b[0;34m\u001b[0m\u001b[0m\n",
            "\u001b[0;32m/usr/local/lib/python3.6/dist-packages/pandas/plotting/_core.py\u001b[0m in \u001b[0;36m__call__\u001b[0;34m(self, *args, **kwargs)\u001b[0m\n\u001b[1;32m    947\u001b[0m                     \u001b[0mdata\u001b[0m\u001b[0;34m.\u001b[0m\u001b[0mcolumns\u001b[0m \u001b[0;34m=\u001b[0m \u001b[0mlabel_name\u001b[0m\u001b[0;34m\u001b[0m\u001b[0;34m\u001b[0m\u001b[0m\n\u001b[1;32m    948\u001b[0m \u001b[0;34m\u001b[0m\u001b[0m\n\u001b[0;32m--> 949\u001b[0;31m         \u001b[0;32mreturn\u001b[0m \u001b[0mplot_backend\u001b[0m\u001b[0;34m.\u001b[0m\u001b[0mplot\u001b[0m\u001b[0;34m(\u001b[0m\u001b[0mdata\u001b[0m\u001b[0;34m,\u001b[0m \u001b[0mkind\u001b[0m\u001b[0;34m=\u001b[0m\u001b[0mkind\u001b[0m\u001b[0;34m,\u001b[0m \u001b[0;34m**\u001b[0m\u001b[0mkwargs\u001b[0m\u001b[0;34m)\u001b[0m\u001b[0;34m\u001b[0m\u001b[0;34m\u001b[0m\u001b[0m\n\u001b[0m\u001b[1;32m    950\u001b[0m \u001b[0;34m\u001b[0m\u001b[0m\n\u001b[1;32m    951\u001b[0m     \u001b[0m__call__\u001b[0m\u001b[0;34m.\u001b[0m\u001b[0m__doc__\u001b[0m \u001b[0;34m=\u001b[0m \u001b[0m__doc__\u001b[0m\u001b[0;34m\u001b[0m\u001b[0;34m\u001b[0m\u001b[0m\n",
            "\u001b[0;32m/usr/local/lib/python3.6/dist-packages/pandas/plotting/_matplotlib/__init__.py\u001b[0m in \u001b[0;36mplot\u001b[0;34m(data, kind, **kwargs)\u001b[0m\n\u001b[1;32m     59\u001b[0m             \u001b[0mkwargs\u001b[0m\u001b[0;34m[\u001b[0m\u001b[0;34m\"ax\"\u001b[0m\u001b[0;34m]\u001b[0m \u001b[0;34m=\u001b[0m \u001b[0mgetattr\u001b[0m\u001b[0;34m(\u001b[0m\u001b[0max\u001b[0m\u001b[0;34m,\u001b[0m \u001b[0;34m\"left_ax\"\u001b[0m\u001b[0;34m,\u001b[0m \u001b[0max\u001b[0m\u001b[0;34m)\u001b[0m\u001b[0;34m\u001b[0m\u001b[0;34m\u001b[0m\u001b[0m\n\u001b[1;32m     60\u001b[0m     \u001b[0mplot_obj\u001b[0m \u001b[0;34m=\u001b[0m \u001b[0mPLOT_CLASSES\u001b[0m\u001b[0;34m[\u001b[0m\u001b[0mkind\u001b[0m\u001b[0;34m]\u001b[0m\u001b[0;34m(\u001b[0m\u001b[0mdata\u001b[0m\u001b[0;34m,\u001b[0m \u001b[0;34m**\u001b[0m\u001b[0mkwargs\u001b[0m\u001b[0;34m)\u001b[0m\u001b[0;34m\u001b[0m\u001b[0;34m\u001b[0m\u001b[0m\n\u001b[0;32m---> 61\u001b[0;31m     \u001b[0mplot_obj\u001b[0m\u001b[0;34m.\u001b[0m\u001b[0mgenerate\u001b[0m\u001b[0;34m(\u001b[0m\u001b[0;34m)\u001b[0m\u001b[0;34m\u001b[0m\u001b[0;34m\u001b[0m\u001b[0m\n\u001b[0m\u001b[1;32m     62\u001b[0m     \u001b[0mplot_obj\u001b[0m\u001b[0;34m.\u001b[0m\u001b[0mdraw\u001b[0m\u001b[0;34m(\u001b[0m\u001b[0;34m)\u001b[0m\u001b[0;34m\u001b[0m\u001b[0;34m\u001b[0m\u001b[0m\n\u001b[1;32m     63\u001b[0m     \u001b[0;32mreturn\u001b[0m \u001b[0mplot_obj\u001b[0m\u001b[0;34m.\u001b[0m\u001b[0mresult\u001b[0m\u001b[0;34m\u001b[0m\u001b[0;34m\u001b[0m\u001b[0m\n",
            "\u001b[0;32m/usr/local/lib/python3.6/dist-packages/pandas/plotting/_matplotlib/core.py\u001b[0m in \u001b[0;36mgenerate\u001b[0;34m(self)\u001b[0m\n\u001b[1;32m    276\u001b[0m         \u001b[0;32mfor\u001b[0m \u001b[0max\u001b[0m \u001b[0;32min\u001b[0m \u001b[0mself\u001b[0m\u001b[0;34m.\u001b[0m\u001b[0maxes\u001b[0m\u001b[0;34m:\u001b[0m\u001b[0;34m\u001b[0m\u001b[0;34m\u001b[0m\u001b[0m\n\u001b[1;32m    277\u001b[0m             \u001b[0mself\u001b[0m\u001b[0;34m.\u001b[0m\u001b[0m_post_plot_logic_common\u001b[0m\u001b[0;34m(\u001b[0m\u001b[0max\u001b[0m\u001b[0;34m,\u001b[0m \u001b[0mself\u001b[0m\u001b[0;34m.\u001b[0m\u001b[0mdata\u001b[0m\u001b[0;34m)\u001b[0m\u001b[0;34m\u001b[0m\u001b[0;34m\u001b[0m\u001b[0m\n\u001b[0;32m--> 278\u001b[0;31m             \u001b[0mself\u001b[0m\u001b[0;34m.\u001b[0m\u001b[0m_post_plot_logic\u001b[0m\u001b[0;34m(\u001b[0m\u001b[0max\u001b[0m\u001b[0;34m,\u001b[0m \u001b[0mself\u001b[0m\u001b[0;34m.\u001b[0m\u001b[0mdata\u001b[0m\u001b[0;34m)\u001b[0m\u001b[0;34m\u001b[0m\u001b[0;34m\u001b[0m\u001b[0m\n\u001b[0m\u001b[1;32m    279\u001b[0m \u001b[0;34m\u001b[0m\u001b[0m\n\u001b[1;32m    280\u001b[0m     \u001b[0;32mdef\u001b[0m \u001b[0m_args_adjust\u001b[0m\u001b[0;34m(\u001b[0m\u001b[0mself\u001b[0m\u001b[0;34m)\u001b[0m\u001b[0;34m:\u001b[0m\u001b[0;34m\u001b[0m\u001b[0;34m\u001b[0m\u001b[0m\n",
            "\u001b[0;32m/usr/local/lib/python3.6/dist-packages/pandas/plotting/_matplotlib/core.py\u001b[0m in \u001b[0;36m_post_plot_logic\u001b[0;34m(self, ax, data)\u001b[0m\n\u001b[1;32m   1459\u001b[0m         \u001b[0mname\u001b[0m \u001b[0;34m=\u001b[0m \u001b[0mself\u001b[0m\u001b[0;34m.\u001b[0m\u001b[0m_get_index_name\u001b[0m\u001b[0;34m(\u001b[0m\u001b[0;34m)\u001b[0m\u001b[0;34m\u001b[0m\u001b[0;34m\u001b[0m\u001b[0m\n\u001b[1;32m   1460\u001b[0m \u001b[0;34m\u001b[0m\u001b[0m\n\u001b[0;32m-> 1461\u001b[0;31m         \u001b[0ms_edge\u001b[0m \u001b[0;34m=\u001b[0m \u001b[0mself\u001b[0m\u001b[0;34m.\u001b[0m\u001b[0max_pos\u001b[0m\u001b[0;34m[\u001b[0m\u001b[0;36m0\u001b[0m\u001b[0;34m]\u001b[0m \u001b[0;34m-\u001b[0m \u001b[0;36m0.25\u001b[0m \u001b[0;34m+\u001b[0m \u001b[0mself\u001b[0m\u001b[0;34m.\u001b[0m\u001b[0mlim_offset\u001b[0m\u001b[0;34m\u001b[0m\u001b[0;34m\u001b[0m\u001b[0m\n\u001b[0m\u001b[1;32m   1462\u001b[0m         \u001b[0me_edge\u001b[0m \u001b[0;34m=\u001b[0m \u001b[0mself\u001b[0m\u001b[0;34m.\u001b[0m\u001b[0max_pos\u001b[0m\u001b[0;34m[\u001b[0m\u001b[0;34m-\u001b[0m\u001b[0;36m1\u001b[0m\u001b[0;34m]\u001b[0m \u001b[0;34m+\u001b[0m \u001b[0;36m0.25\u001b[0m \u001b[0;34m+\u001b[0m \u001b[0mself\u001b[0m\u001b[0;34m.\u001b[0m\u001b[0mbar_width\u001b[0m \u001b[0;34m+\u001b[0m \u001b[0mself\u001b[0m\u001b[0;34m.\u001b[0m\u001b[0mlim_offset\u001b[0m\u001b[0;34m\u001b[0m\u001b[0;34m\u001b[0m\u001b[0m\n\u001b[1;32m   1463\u001b[0m \u001b[0;34m\u001b[0m\u001b[0m\n",
            "\u001b[0;31mIndexError\u001b[0m: index 0 is out of bounds for axis 0 with size 0"
          ]
        },
        {
          "output_type": "display_data",
          "data": {
            "image/png": "[encoded data removed]",
            "text/plain": [
              "<Figure size 1440x360 with 2 Axes>"
            ]
          },
          "metadata": {
            "tags": [],
            "needs_background": "light"
          }
        }
      ]
    },
    {
      "cell_type": "code",
      "metadata": {
        "id": "uQdIYa35N3lJ",
        "outputId": "74bfcd0e-0cad-49c4-fdbf-f3292aecb2fb",
        "colab": {
          "base_uri": "https://localhost:8080/",
          "height": 287
        }
      },
      "source": [
        "\n",
        "## Calculate the number of values per category per year\n",
        "categories_yearly = ranged_ts.reset_index() >> mutate(year = X.date.dt.year) >> group_by(X.category,X.year) >> \\\n",
        "    summarise(value_per_year = np.sum(X.value),\n",
        "              duration_in_dataset = X.date.max()-X.date.min()) >>\\\n",
        "    ungroup() >> \\\n",
        "    mask(X.value_per_year > (min_values/12.0)) >> \\\n",
        "    arrange(X.value_per_year,ascending=False)\n",
        "\n",
        "import seaborn as sns\n",
        "\n",
        "major_cats_yearly = categories_yearly[categories_yearly['category'].isin(major_categories)]\n",
        "\n",
        "g = sns.factorplot(x='category', y='value_per_year', hue='year', data=major_cats_yearly, kind='bar', size=4, aspect=4,legend=True)\n",
        "g.set_xticklabels(rotation=90)\n",
        "axes = g.axes.flatten()\n",
        "axes[0].set_title(\"Yearly number of incidents for the top \"+str(major_category_threshold-1)+\" categories\")\n",
        "plt.savefig(\"yearly_values.png\",bbox_inches='tight')"
      ],
      "execution_count": null,
      "outputs": [
        {
          "output_type": "stream",
          "text": [
            "/usr/local/lib/python3.6/dist-packages/seaborn/categorical.py:3704: UserWarning: The `factorplot` function has been renamed to `catplot`. The original name will be removed in a future release. Please update your code. Note that the default `kind` in `factorplot` (`'point'`) has changed `'strip'` in `catplot`.\n",
            "  warnings.warn(msg)\n",
            "/usr/local/lib/python3.6/dist-packages/seaborn/categorical.py:3710: UserWarning: The `size` parameter has been renamed to `height`; please update your code.\n",
            "  warnings.warn(msg, UserWarning)\n"
          ],
          "name": "stderr"
        },
        {
          "output_type": "display_data",
          "data": {
            "image/png": "[encoded data removed]",
            "text/plain": [
              "<Figure size 1213.38x288 with 1 Axes>"
            ]
          },
          "metadata": {
            "tags": [],
            "needs_background": "light"
          }
        }
      ]
    },
    {
      "cell_type": "code",
      "metadata": {
        "id": "_5nxjH2qWUAQ"
      },
      "source": [
        "# do it for monthly basis"
      ],
      "execution_count": null,
      "outputs": []
    },
    {
      "cell_type": "code",
      "metadata": {
        "id": "y-OS9vWGOZg6",
        "outputId": "e7f69d59-13a0-4ff6-84d2-975809d343e7",
        "colab": {
          "base_uri": "https://localhost:8080/",
          "height": 569
        }
      },
      "source": [
        "categories_yearly_pivot = categories_yearly.pivot(\"year\", \"category\", \"value_per_year\")\n",
        "categories_yearly_pivot.head()\n",
        "corr = categories_yearly_pivot.corr()\n",
        "mask = np.zeros_like(corr, dtype=np.bool)\n",
        "mask[np.triu_indices_from(mask)] = True\n",
        "\n",
        "# Set up the matplotlib figure\n",
        "f, ax = plt.subplots(figsize=(11, 9))\n",
        "\n",
        "# Generate a custom diverging colormap\n",
        "cmap = sns.diverging_palette(220, 10, as_cmap=True)\n",
        "\n",
        "# Draw the heatmap with the mask and correct aspect ratio\n",
        "sns.heatmap(corr, mask=mask, cmap=cmap, vmax=.3, center=0,\n",
        "            square=True, linewidths=.5, cbar_kws={\"shrink\": .5})"
      ],
      "execution_count": null,
      "outputs": [
        {
          "output_type": "execute_result",
          "data": {
            "text/plain": [
              "<matplotlib.axes._subplots.AxesSubplot at 0x7f9a17d384a8>"
            ]
          },
          "metadata": {
            "tags": []
          },
          "execution_count": 117
        },
        {
          "output_type": "display_data",
          "data": {
            "image/png": "[encoded data removed]",
            "text/plain": [
              "<Figure size 792x648 with 2 Axes>"
            ]
          },
          "metadata": {
            "tags": [],
            "needs_background": "light"
          }
        }
      ]
    },
    {
      "cell_type": "markdown",
      "metadata": {
        "id": "aZ5iqaon-_Tl"
      },
      "source": [
        "# Summarization"
      ]
    },
    {
      "cell_type": "code",
      "metadata": {
        "id": "DKiNW2qg_CEA",
        "outputId": "62e80353-d136-46e6-cafc-e736bf1dfeaa",
        "colab": {
          "base_uri": "https://localhost:8080/",
          "height": 808
        }
      },
      "source": [
        "!pip install pytextrank\n",
        "!pip install git+https://github.com/LIAAD/yake\n",
        "import yake\n",
        "\n",
        "import spacy\n",
        "nlp = spacy.load(\"en_core_web_sm\")\n",
        "import pytextrank\n",
        "\n",
        "# add PyTextRank to the spaCy pipeline\n",
        "tr = pytextrank.TextRank()\n",
        "nlp.add_pipe(tr.PipelineComponent, name=\"textrank\", last=True)\n",
        "\n",
        "# Yake\n",
        "language = \"en\"\n",
        "max_ngram_size = 3\n",
        "deduplication_thresold = 0.9\n",
        "deduplication_algo = 'seqm'\n",
        "windowSize = 4                    # <----\n",
        "numOfKeywords = 20\n",
        "\n",
        "kw_extractor = yake.KeywordExtractor(lan=language, n=max_ngram_size, dedupLim=deduplication_thresold, dedupFunc=deduplication_algo, windowsSize=windowSize, top=numOfKeywords, features=None)\n"
      ],
      "execution_count": null,
      "outputs": [
        {
          "output_type": "stream",
          "text": [
            "Requirement already satisfied: pytextrank in /usr/local/lib/python3.6/dist-packages (2.0.3)\n",
            "Requirement already satisfied: networkx in /usr/local/lib/python3.6/dist-packages (from pytextrank) (2.5)\n",
            "Requirement already satisfied: coverage in /usr/local/lib/python3.6/dist-packages (from pytextrank) (5.3)\n",
            "Requirement already satisfied: graphviz in /usr/local/lib/python3.6/dist-packages (from pytextrank) (0.10.1)\n",
            "Requirement already satisfied: spacy in /usr/local/lib/python3.6/dist-packages (from pytextrank) (2.2.4)\n",
            "Requirement already satisfied: decorator>=4.3.0 in /usr/local/lib/python3.6/dist-packages (from networkx->pytextrank) (4.4.2)\n",
            "Requirement already satisfied: catalogue<1.1.0,>=0.0.7 in /usr/local/lib/python3.6/dist-packages (from spacy->pytextrank) (1.0.0)\n",
            "Requirement already satisfied: wasabi<1.1.0,>=0.4.0 in /usr/local/lib/python3.6/dist-packages (from spacy->pytextrank) (0.8.0)\n",
            "Requirement already satisfied: blis<0.5.0,>=0.4.0 in /usr/local/lib/python3.6/dist-packages (from spacy->pytextrank) (0.4.1)\n",
            "Requirement already satisfied: murmurhash<1.1.0,>=0.28.0 in /usr/local/lib/python3.6/dist-packages (from spacy->pytextrank) (1.0.2)\n",
            "Requirement already satisfied: srsly<1.1.0,>=1.0.2 in /usr/local/lib/python3.6/dist-packages (from spacy->pytextrank) (1.0.2)\n",
            "Requirement already satisfied: preshed<3.1.0,>=3.0.2 in /usr/local/lib/python3.6/dist-packages (from spacy->pytextrank) (3.0.2)\n",
            "Requirement already satisfied: thinc==7.4.0 in /usr/local/lib/python3.6/dist-packages (from spacy->pytextrank) (7.4.0)\n",
            "Requirement already satisfied: tqdm<5.0.0,>=4.38.0 in /usr/local/lib/python3.6/dist-packages (from spacy->pytextrank) (4.41.1)\n",
            "Requirement already satisfied: plac<1.2.0,>=0.9.6 in /usr/local/lib/python3.6/dist-packages (from spacy->pytextrank) (1.1.3)\n",
            "Requirement already satisfied: requests<3.0.0,>=2.13.0 in /usr/local/lib/python3.6/dist-packages (from spacy->pytextrank) (2.23.0)\n",
            "Requirement already satisfied: setuptools in /usr/local/lib/python3.6/dist-packages (from spacy->pytextrank) (50.3.0)\n",
            "Requirement already satisfied: numpy>=1.15.0 in /usr/local/lib/python3.6/dist-packages (from spacy->pytextrank) (1.18.5)\n",
            "Requirement already satisfied: cymem<2.1.0,>=2.0.2 in /usr/local/lib/python3.6/dist-packages (from spacy->pytextrank) (2.0.3)\n",
            "Requirement already satisfied: importlib-metadata>=0.20; python_version < \"3.8\" in /usr/local/lib/python3.6/dist-packages (from catalogue<1.1.0,>=0.0.7->spacy->pytextrank) (2.0.0)\n",
            "Requirement already satisfied: chardet<4,>=3.0.2 in /usr/local/lib/python3.6/dist-packages (from requests<3.0.0,>=2.13.0->spacy->pytextrank) (3.0.4)\n",
            "Requirement already satisfied: certifi>=2017.4.17 in /usr/local/lib/python3.6/dist-packages (from requests<3.0.0,>=2.13.0->spacy->pytextrank) (2020.6.20)\n",
            "Requirement already satisfied: urllib3!=1.25.0,!=1.25.1,<1.26,>=1.21.1 in /usr/local/lib/python3.6/dist-packages (from requests<3.0.0,>=2.13.0->spacy->pytextrank) (1.24.3)\n",
            "Requirement already satisfied: idna<3,>=2.5 in /usr/local/lib/python3.6/dist-packages (from requests<3.0.0,>=2.13.0->spacy->pytextrank) (2.10)\n",
            "Requirement already satisfied: zipp>=0.5 in /usr/local/lib/python3.6/dist-packages (from importlib-metadata>=0.20; python_version < \"3.8\"->catalogue<1.1.0,>=0.0.7->spacy->pytextrank) (3.2.0)\n",
            "Collecting git+https://github.com/LIAAD/yake\n",
            "  Cloning https://github.com/LIAAD/yake to /tmp/pip-req-build-p2gfp0a1\n",
            "  Running command git clone -q https://github.com/LIAAD/yake /tmp/pip-req-build-p2gfp0a1\n",
            "Requirement already satisfied (use --upgrade to upgrade): yake==0.4.3 from git+https://github.com/LIAAD/yake in /usr/local/lib/python3.6/dist-packages\n",
            "Requirement already satisfied: tabulate in /usr/local/lib/python3.6/dist-packages (from yake==0.4.3) (0.8.7)\n",
            "Requirement already satisfied: click>=6.0 in /usr/local/lib/python3.6/dist-packages (from yake==0.4.3) (7.1.2)\n",
            "Requirement already satisfied: numpy in /usr/local/lib/python3.6/dist-packages (from yake==0.4.3) (1.18.5)\n",
            "Requirement already satisfied: segtok in /usr/local/lib/python3.6/dist-packages (from yake==0.4.3) (1.5.10)\n",
            "Requirement already satisfied: networkx in /usr/local/lib/python3.6/dist-packages (from yake==0.4.3) (2.5)\n",
            "Requirement already satisfied: jellyfish in /usr/local/lib/python3.6/dist-packages (from yake==0.4.3) (0.8.2)\n",
            "Requirement already satisfied: regex in /usr/local/lib/python3.6/dist-packages (from segtok->yake==0.4.3) (2019.12.20)\n",
            "Requirement already satisfied: decorator>=4.3.0 in /usr/local/lib/python3.6/dist-packages (from networkx->yake==0.4.3) (4.4.2)\n",
            "Building wheels for collected packages: yake\n",
            "  Building wheel for yake (setup.py) ... \u001b[?25l\u001b[?25hdone\n",
            "  Created wheel for yake: filename=yake-0.4.3-py2.py3-none-any.whl size=65942 sha256=2fd9598b1dfabf6a2d1dd1b3ee68520bbe537787237b9d9d61e2b045085319a9\n",
            "  Stored in directory: /tmp/pip-ephem-wheel-cache-cth_3u4p/wheels/be/35/27/e4ebd54b78c1806ed8b0271ce247fcd91e2bedde35889fbc9b\n",
            "Successfully built yake\n"
          ],
          "name": "stdout"
        }
      ]
    },
    {
      "cell_type": "code",
      "metadata": {
        "id": "4B1UVGCm_zv7"
      },
      "source": [
        "# max_cluster = clusterer.labels_.max()\n",
        "# print('Max cluster size is: ', max_cluster)"
      ],
      "execution_count": null,
      "outputs": []
    },
    {
      "cell_type": "code",
      "metadata": {
        "id": "sZFRK25JDVq3",
        "outputId": "76b19ae0-f293-457d-a452-6955829b809b",
        "colab": {
          "base_uri": "https://localhost:8080/",
          "height": 141,
          "referenced_widgets": [
            "ace723eff7e94ec6bcc9cedfc2b04748",
            "1bc123d28ab84ea381552f5173ff66b2",
            "26a7aabdb92041779c9bddc9604ff104",
            "b556fc3e224f43d7a43d37a0077d5383",
            "4ec67aa58dd346789b4a7f95212b8ca8",
            "5f16b8518da54cba9466d0f6b3b89237",
            "8ad66bad407d4595b57c3f6e74baf186",
            "b30407a9d47f4c64b6caa59754d8feb3",
            "495abbfd258c474384012b2eb2d1dea4"
          ]
        }
      },
      "source": [
        "display(cluster_slider)\n",
        "\n",
        "algorithm_radio_button = widgets.RadioButtons(\n",
        "    options=['TextRank', 'Yake'], value='TextRank',description='Algorithm:',disabled=False)\n",
        "display(algorithm_radio_button)\n",
        "\n",
        "selection_range_slider"
      ],
      "execution_count": null,
      "outputs": [
        {
          "output_type": "display_data",
          "data": {
            "application/vnd.jupyter.widget-view+json": {
              "model_id": "ace723eff7e94ec6bcc9cedfc2b04748",
              "version_minor": 0,
              "version_major": 2
            },
            "text/plain": [
              "IntSlider(value=5, description='Cluster no:', max=9)"
            ]
          },
          "metadata": {
            "tags": []
          }
        },
        {
          "output_type": "display_data",
          "data": {
            "application/vnd.jupyter.widget-view+json": {
              "model_id": "b556fc3e224f43d7a43d37a0077d5383",
              "version_minor": 0,
              "version_major": 2
            },
            "text/plain": [
              "RadioButtons(description='Algorithm:', options=('TextRank', 'Yake'), value='TextRank')"
            ]
          },
          "metadata": {
            "tags": []
          }
        },
        {
          "output_type": "display_data",
          "data": {
            "application/vnd.jupyter.widget-view+json": {
              "model_id": "8ad66bad407d4595b57c3f6e74baf186",
              "version_minor": 0,
              "version_major": 2
            },
            "text/plain": [
              "SelectionRangeSlider(description='Dates', index=(0, 28), layout=Layout(width='500px'), options=((' 31 Jul 2015…"
            ]
          },
          "metadata": {
            "tags": []
          }
        }
      ]
    },
    {
      "cell_type": "code",
      "metadata": {
        "id": "Iq0YGawrThTL",
        "outputId": "18a41d74-5e44-47c4-d0bc-18c776e71f25",
        "colab": {
          "base_uri": "https://localhost:8080/",
          "height": 1000
        }
      },
      "source": [
        "begin = str(selection_range_slider.value[0])[:10]\n",
        "end = str(selection_range_slider.value[1])[:10]\n",
        "\n",
        "# selected_articles = df.loc[(df.hdbscan_Clusters == cluster_slider.value) & (df.date < end) & (df.date > begin) ]\n",
        "selected_articles = df.loc[(df.category == cluster_slider.value) & (df.index < end) & (df.index > begin) ]\n",
        "\n",
        "text = '.'.join(selected_articles.value)  # join all to single list\n",
        "\n",
        "if algorithm_radio_button.value == 'TextRank':\n",
        "  doc = nlp(text)\n",
        "  for p in doc._.phrases:\n",
        "    print(\"{}  {:.4f} {:5d} \".format(p.text,p.rank, p.count))\n",
        "else:\n",
        "  keywords = kw_extractor.extract_keywords(text)\n",
        "  for kw in keywords:\n",
        "\t  print(kw)\n",
        "   \n",
        "text"
      ],
      "execution_count": null,
      "outputs": [
        {
          "output_type": "stream",
          "text": [
            "autonomous driving tech  0.0849     1 \n",
            "self driving cars  0.0814     1 \n",
            "autonomous vehicle investments  0.0802     1 \n",
            "waymo autonomous vehicles  0.0793     1 \n",
            "autonomous vehicle tech  0.0779     1 \n",
            "autonomous vehicle funding  0.0775     1 \n",
            "autonomous vehicle safety  0.0773     2 \n",
            "autonomous vehicle researchers  0.0770     1 \n",
            "vehicles?.why autonomous vehicles  0.0761     1 \n",
            "autonomous vehicle exemption  0.0761     1 \n",
            "autonomous vehicle night vision  0.0731     1 \n",
            "autonomous vehicle research center  0.0719     1 \n",
            "nuro r2 autonomous delivery vehicle  0.0706     1 \n",
            "futuristic autonomous car cabin  0.0697     1 \n",
            "first self-driving vehicles  0.0659     1 \n",
            "self-driving vehicles  0.0653     3 \n",
            "waymo self-driving vehicles  0.0653     1 \n",
            "electric vehicles  0.0647     1 \n",
            "self-driving car technologies  0.0644     1 \n",
            "waymo self-driving cars  0.0643     1 \n",
            "self-driving car services  0.0639     1 \n",
            "self-driving car race  0.0639     1 \n",
            "self-driving car efforts  0.0638     1 \n",
            "self-driving car drama  0.0638     1 \n",
            "self-driving car kits  0.0637     1 \n",
            "self-driving car production  0.0637     1 \n",
            "self-learning autonomous vehicles  0.0630     1 \n",
            "state self-driving car regulations  0.0629     1 \n",
            "uber self-driving car kills pedestrian  0.0629     1 \n",
            "autonomous shuttles  0.0627     1 \n",
            "autonomous driving  0.0622     1 \n",
            "autonomous fleet  0.0621     1 \n",
            "autonomous shipping  0.0616     1 \n",
            "autonomous ships  0.0611     1 \n",
            "tusimple autonomous trucks  0.0606     1 \n",
            "autonomous mobile robot trends  0.0603     1 \n",
            "autonomous mining truck  0.0600     1 \n",
            "self-driving cars  0.0595     5 \n",
            "2017.how uber self-driving cars  0.0593     1 \n",
            "first autonomous public shuttle  0.0584     1 \n",
            "autonomous shipping vessels  0.0579     1 \n",
            "self-driving technology  0.0577     1 \n",
            "embark self-driving trucks  0.0575     1 \n",
            "uber self-driving trucks  0.0575     1 \n",
            "waymo lapping self-driving competition  0.0575     1 \n",
            "driverless vehicles  0.0572     1 \n",
            "self-driving trucks  0.0572     2 \n",
            "self-driving fleet  0.0570     1 \n",
            "self-driving trucking  0.0569     1 \n",
            "automated vehicles  0.0568     1 \n",
            "honda self-driving concept  0.0568     1 \n",
            "cruise origin driverless vehicle  0.0565     1 \n",
            "k self-driving dataset  0.0565     1 \n",
            "self-driving software firm torc robotics  0.0565     1 \n",
            "vehicle guidelines  0.0562     1 \n",
            "connected vehicles  0.0562     1 \n",
            "car tech  0.0557     1 \n",
            "electric smart cars  0.0518     1 \n",
            "self driving delivery vehicle  0.0516     1 \n",
            "uk car sales  0.0511     1 \n",
            "british car industry  0.0510     1 \n",
            "its self-driving vehicle platform  0.0503     1 \n",
            "light-duty autonomous delivery vehicles  0.0502     1 \n",
            "pilot learning-based self-driving cars  0.0498     1 \n",
            "urge moratorium on state self-driving car regulations  0.0494     1 \n",
            "tesla model  0.0494     1 \n",
            "tesla needs  0.0473     1 \n",
            "can tesla  0.0466     1 \n",
            "tesla autopilot fatality  0.0463     3 \n",
            "vision for self-driving cars  0.0461     1 \n",
            "california’s self-driving cars  0.0460     1 \n",
            "electric cars  0.0458     1 \n",
            "tesla service  0.0454     1 \n",
            "daimler and bosch self-driving pilot  0.0453     1 \n",
            "the first self-driving chevy bolt  0.0451     1 \n",
            "tesla slips  0.0450     1 \n",
            "baidu’s self-driving tech plans  0.0446     1 \n",
            "the self-driving experience  0.0431     1 \n",
            "100,000 self-driving rides  0.0431     1 \n",
            "tesla model s falls short  0.0427     1 \n",
            "self-driving shuttles  0.0424     1 \n",
            "tesla racial bias suit  0.0424     1 \n",
            "tesla faces heavy lift  0.0420     1 \n",
            "indian government courts tesla  0.0418     1 \n",
            "‘driving test  0.0402     1 \n",
            "peoples driving personalities  0.0401     1 \n",
            "2m autonomous miles  0.0400     1 \n",
            "national electric car mandate  0.0393     1 \n",
            "the tesla autopilot fatality mean for self  0.0389     1 \n",
            "largest robotics investments  0.0376     1 \n",
            "electric  0.0366     1 \n",
            "volvo goes electric  0.0360     1 \n",
            "first driverless electric racing competition  0.0360     2 \n",
            "jaguar electric  0.0351     1 \n",
            "ford package delivery tests  0.0349     1 \n",
            "driverless delivery pod  0.0346     1 \n",
            "driverless cargo delivery  0.0346     1 \n",
            "fiat chrysler debuts electric van  0.0343     2 \n",
            "cars  0.0340     1 \n",
            "driverless waymo signups  0.0339     1 \n",
            "50% electric car target  0.0338     1 \n",
            "new road  0.0335     1 \n",
            "mobile robot collaboration  0.0332     1 \n",
            "driverless investment  0.0324     1 \n",
            "clean-car authority  0.0318     1 \n",
            "robot  0.0314     5 \n",
            "tesla model 3 production lags  0.0311     1 \n",
            "robots hot  0.0309     1 \n",
            "things robots  0.0309     1 \n",
            "gm cruise  0.0307     1 \n",
            "bipedal robots  0.0305     1 \n",
            "covid-19 updates  0.0303     1 \n",
            "gm autonomous unit  0.0301     1 \n",
            "security robots  0.0301     1 \n",
            "new model y  0.0296     1 \n",
            "driverless deliveries  0.0296     1 \n",
            "north american car  0.0295     1 \n",
            "car standards  0.0295     1 \n",
            "new economy.6 industries  0.0294     1 \n",
            "autonomous vehicles  0.0292     1 \n",
            "car  0.0290     1 \n",
            "private car  0.0289     1 \n",
            "robotics developers  0.0289     1 \n",
            "robotics  0.0287     4 \n",
            "teslas battery revolution  0.0287     1 \n",
            "up electric-car plants  0.0286     1 \n",
            "updates news factory magna  0.0285     2 \n",
            "updates news factory  0.0283     1 \n",
            "fedml.nuscenes open-sources self-driving dataset  0.0282     1 \n",
            "covid-19 uncertainty  0.0280     1 \n",
            "waymo adding  0.0279     1 \n",
            "dot updates driverless  0.0279     1 \n",
            "ford shares videos  0.0279     1 \n",
            "waymo open dataset  0.0278     1 \n",
            "first fully digitalized electric vehicle production factory  0.0276     1 \n",
            "food deliveries  0.0274     1 \n",
            "new robotaxi concept  0.0274     1 \n",
            "still lead electric car race  0.0272     1 \n",
            "better autonomous reasoning  0.0271     1 \n",
            "call for national electric car mandate  0.0270     1 \n",
            "teslas survival  0.0269     1 \n",
            "ford  0.0268    14 \n",
            "new documents  0.0268     1 \n",
            "teslas capacity  0.0267     1 \n",
            "new partnerships  0.0267     1 \n",
            "affectiva automotive ai  0.0264     1 \n",
            "uber news  0.0256     1 \n",
            "europe plants  0.0255     1 \n",
            "tesla model 3 production lags as gigafactory hits delays  0.0255     1 \n",
            "cruise fuels interest  0.0254     1 \n",
            "predix manufacturing data cloud  0.0254     1 \n",
            "us auto industry  0.0253     2 \n",
            "predix manufacturing data  0.0252     1 \n",
            "wall street analysts  0.0252     1 \n",
            "startup cruise automation  0.0252     1 \n",
            "fleet management software  0.0251     1 \n",
            "cruise  0.0250     1 \n",
            "transport?.argo ai  0.0246     2 \n",
            "river systems acquisition  0.0246     1 \n",
            "leveraging multi-segment lidar  0.0245     1 \n",
            "ai  0.0245     2 \n",
            "multi-segment lidar  0.0245     1 \n",
            "coast autonomous  0.0244     2 \n",
            "california vows fight  0.0244     1 \n",
            "normal air travel  0.0243     1 \n",
            "unmapped roads  0.0242     1 \n",
            "elon musk  0.0242     4 \n",
            "wheeler river environmental assessment  0.0241     2 \n",
            "road  0.0241     1 \n",
            "argo ai  0.0240     2 \n",
            "sinopec joins global fight  0.0240     2 \n",
            "october 2018.robotics investments recap  0.0238     1 \n",
            "report says  0.0238     1 \n",
            "most american-made cars  0.0236     1 \n",
            "away?.the intelligent enterprise  0.0236     1 \n",
            "universal technical institute outlines approach  0.0235     2 \n",
            "softbank vision fund  0.0235     2 \n",
            "intelligent transportation systems  0.0233     1 \n",
            "trucking industry applauds senate  0.0233     1 \n",
            "mary barra shows willingness  0.0232     1 \n",
            "wall street  0.0231     1 \n",
            "gm breaks  0.0231     1 \n",
            "us dot approval  0.0230     1 \n",
            "commercial uav show asia  0.0229     1 \n",
            "february 2019.robotics investments recap  0.0229     1 \n",
            "january 2019.robotics investments recap  0.0229     1 \n",
            "june 2019.robotics investments recap  0.0229     1 \n",
            "march 2019.robotics investments recap  0.0229     1 \n",
            "trump safety pitch  0.0229     1 \n",
            "fully automated cars  0.0228     1 \n",
            "interior quality control tests  0.0228     2 \n",
            "dutch emissions data probe  0.0227     1 \n",
            "uber  0.0226     1 \n",
            "pilot  0.0226     1 \n",
            "uber atg  0.0225     1 \n",
            "gm forward  0.0224     1 \n",
            "pilot sites  0.0224     1 \n",
            "co-founder sofman  0.0224     1 \n",
            "big funding  0.0224     1 \n",
            "gm  0.0222     6 \n",
            "technology barriers  0.0222     1 \n",
            "adient suspends fy2020 outlook  0.0222     1 \n",
            "bosch partners  0.0222     1 \n",
            "monitor aging bridges  0.0221     1 \n",
            "south africa imposes  0.0218     1 \n",
            "visualising value  0.0217     1 \n",
            "auto tech startups  0.0217     1 \n",
            "torc robotics  0.0217     1 \n",
            "thermal vision  0.0216     1 \n",
            "musk reiterates  0.0216     1 \n",
            "trump administration  0.0216     2 \n",
            "river systems  0.0215     1 \n",
            "musk  0.0215     3 \n",
            "trade war tensions  0.0214     1 \n",
            "10 electric cars  0.0214     1 \n",
            "vision processing  0.0213     1 \n",
            "safety concerns  0.0212     1 \n",
            "india electronics week  0.0212     2 \n",
            "major automotive manufacturers  0.0212     1 \n",
            "perrone robotics  0.0212     1 \n",
            "the electric charge  0.0210     1 \n",
            "former anki employees  0.0210     1 \n",
            "next-gen autonomous vehicles  0.0209     1 \n",
            "joint venture  0.0209     2 \n",
            "new iiot platform  0.0208     1 \n",
            "software  0.0208     2 \n",
            "machines europe  0.0208     1 \n",
            "fiat chrysler  0.0207     2 \n",
            "cobalt robotics  0.0206     2 \n",
            "kodiak robotics  0.0206     1 \n",
            "starsky robotics  0.0206     1 \n",
            "industry collaboration  0.0205     1 \n",
            "autopilot  0.0205     2 \n",
            "china  0.0204    10 \n",
            "manufacturing  0.0204     1 \n",
            "simulation paves way  0.0203     1 \n",
            "toyota  0.0203     9 \n",
            "live coverage  0.0201     1 \n",
            "insurance premiums  0.0200     2 \n",
            "vision  0.0200     1 \n",
            "model y  0.0199     1 \n",
            "europe  0.0198     2 \n",
            "digital solutions  0.0197     1 \n",
            "older drivers  0.0197     1 \n",
            "its mobile robots  0.0197     1 \n",
            "uk.robotics investments recap  0.0196     1 \n",
            "us  0.0195     1 \n",
            "scalable testing  0.0195     1 \n",
            "financial relief  0.0194     1 \n",
            "daimler trucks  0.0194     2 \n",
            "bosch  0.0193     7 \n",
            "policy makers  0.0192     1 \n",
            "vw scandal  0.0192     1 \n",
            "auto show  0.0192     1 \n",
            "software expertise  0.0192     1 \n",
            "funding round  0.0192     1 \n",
            "roi calculators  0.0192     1 \n",
            "frontline report  0.0192     1 \n",
            "outbreak impedes  0.0192     1 \n",
            "1.4m images  0.0191     1 \n",
            "october 2019.robotics investments  0.0190     1 \n",
            "trump safety pitch for easing car standards rebutted by  0.0190     1 \n",
            "gigafactory hits delays  0.0190     1 \n",
            "worst potholes  0.0190     2 \n",
            "value  0.0190     2 \n",
            "10 biggest robotics stories  0.0189     1 \n",
            "broken glass  0.0188     1 \n",
            "safety  0.0188     1 \n",
            "novel coronavirus  0.0187     1 \n",
            "vision processing for next-gen autonomous vehicles  0.0187     1 \n",
            "autonomous cars  0.0187     1 \n",
            "south africa  0.0187     1 \n",
            "2018.10 robotics companies  0.0187     1 \n",
            "waymo  0.0187     1 \n",
            "model  0.0186     1 \n",
            "customer experience  0.0186     1 \n",
            "handle surge and execute contactless home deliveries  0.0186     1 \n",
            "newcastle university study  0.0186     1 \n",
            "lidar  0.0185     2 \n",
            "alleging stolen secrets  0.0185     1 \n",
            "brooklyn navy yard  0.0185     2 \n",
            "tesla model 3 rolls out as battery and charging markets  0.0184     1 \n",
            "august 2019.robotics investments  0.0184     1 \n",
            "10th anniversary  0.0184     2 \n",
            "relief legislation  0.0183     1 \n",
            "liability rules  0.0183     1 \n",
            "usps selects mahindra  0.0183     1 \n",
            "australian labor party  0.0182     2 \n",
            "april 2019.robotics investments  0.0181     1 \n",
            "a new speed record  0.0181     1 \n",
            "developing robots.5 robots walmart  0.0181     1 \n",
            "scant disclosure  0.0181     1 \n",
            "eu  0.0180     1 \n",
            "temporary suspension  0.0180     1 \n",
            "new iiot platform for major automotive manufacturers  0.0180     1 \n",
            "untapped vein  0.0180     1 \n",
            "next-gen delivery vehicles  0.0180     2 \n",
            "july 2019.robotics investments  0.0179     1 \n",
            "california  0.0179    10 \n",
            "mary barra  0.0179     1 \n",
            "world  0.0179     2 \n",
            "its first digital platform  0.0179     1 \n",
            "model 3 enters europe  0.0179     1 \n",
            "cybertruck orders  0.0178     2 \n",
            "infiniti owners  0.0178     1 \n",
            "scotty labs  0.0178     2 \n",
            "testing  0.0177     1 \n",
            "north american  0.0177     1 \n",
            "chevrolet bolt  0.0176     1 \n",
            "property owners  0.0175     1 \n",
            "platform  0.0175     1 \n",
            "hd maps  0.0174     1 \n",
            "optimus ride  0.0173     1 \n",
            "ai-powered iiot solution  0.0173     1 \n",
            "power consumption problems  0.0173     1 \n",
            "surge and execute contactless home deliveries  0.0173     1 \n",
            "windfall profits  0.0173     1 \n",
            "charging markets  0.0173     1 \n",
            "lower premiums  0.0172     1 \n",
            "$1.5b autonomous vehicle tech fund  0.0172     1 \n",
            "display  0.0172     1 \n",
            "pedestrian behavior  0.0172     1 \n",
            "latent logic  0.0172     1 \n",
            "new mexico  0.0171     2 \n",
            "researchers  0.0171     3 \n",
            "ownership?.will manufacturers  0.0171     1 \n",
            "first  0.0171     1 \n",
            "heavy lift  0.0171     1 \n",
            "acquisitions  0.0171     2 \n",
            "uk manufacturers  0.0170     1 \n",
            "raising stake  0.0170     1 \n",
            "model 3 manufacturing  0.0169     2 \n",
            "covid-19 virus  0.0169     1 \n",
            "investments recap  0.0169     1 \n",
            "2019.robotics investments  0.0168     1 \n",
            "general motors  0.0168     2 \n",
            "insurance  0.0168     1 \n",
            "volvo cto  0.0168     1 \n",
            "newcastle university  0.0167     1 \n",
            "ford’s nightmare road  0.0167     1 \n",
            "image annotation  0.0167     1 \n",
            "game theory  0.0167     1 \n",
            "vw cranks  0.0166     1 \n",
            "flying taxis  0.0166     1 \n",
            "ian callum  0.0166     2 \n",
            "tourism  0.0166     1 \n",
            "battery revolution just reached critical mass  0.0165     1 \n",
            "media flame-war continues  0.0165     1 \n",
            "human behavior  0.0165     1 \n",
            "battery  0.0165     1 \n",
            "fleet expansion  0.0164     1 \n",
            "fleets  0.0163     1 \n",
            "demand  0.0163     1 \n",
            "simulation  0.0163     1 \n",
            "business value  0.0162     1 \n",
            "honda factory  0.0162     1 \n",
            "otto motors  0.0162     2 \n",
            "humans?.woven city  0.0161     1 \n",
            "noted exceptions  0.0161     1 \n",
            "wannacry virus  0.0161     1 \n",
            "paves way  0.0161     1 \n",
            "critical mass  0.0160     1 \n",
            "business financials  0.0160     1 \n",
            "machine sensing  0.0160     1 \n",
            "its first unicorn  0.0160     1 \n",
            "traffic capacity  0.0159     1 \n",
            "a road sign trick  0.0158     1 \n",
            "singapore  0.0158     6 \n",
            "renault  0.0158     1 \n",
            "second gen  0.0158     1 \n",
            "their first real riders  0.0157     1 \n",
            "its lidar tech  0.0157     1 \n",
            "uc berkeley open-sources bdd100  0.0157     1 \n",
            "1st half  0.0156     2 \n",
            "willingness  0.0156     1 \n",
            "apple  0.0155     4 \n",
            "pilot-less planes  0.0155     1 \n",
            "passengers  0.0154     1 \n",
            "$530m series b  0.0154     1 \n",
            "$30m series b.fanuc  0.0154     1 \n",
            "covid-19.fareye  0.0154     1 \n",
            "heavy-duty funding  0.0153     1 \n",
            "the road network  0.0153     1 \n",
            "crash test  0.0153     1 \n",
            "daimler  0.0153     3 \n",
            "bmw  0.0153     3 \n",
            "bolt  0.0152     1 \n",
            "ride sharing  0.0152     1 \n",
            "amazon  0.0152     4 \n",
            "accidents  0.0152     1 \n",
            "contract workers  0.0152     1 \n",
            "survival depends  0.0152     1 \n",
            "highest-valued us automotive company  0.0151     1 \n",
            "connected vehicles generates ~10x data  0.0151     1 \n",
            "brexit  0.0151     2 \n",
            "brooklyn  0.0151     2 \n",
            "deeproute coo  0.0150     1 \n",
            "on-demand robot taxis  0.0150     1 \n",
            "taxi cabs  0.0150     1 \n",
            "otto motors receives multi-million-dollar  0.0149     1 \n",
            "desperation move  0.0149     1 \n",
            "easing  0.0149     1 \n",
            "tusimple  0.0149     3 \n",
            "dot  0.0149     1 \n",
            "announces upgrades  0.0148     1 \n",
            "uc berkeley  0.0148     1 \n",
            "networks  0.0148     1 \n",
            "roundup  0.0147     1 \n",
            "green light  0.0147     1 \n",
            "2018.10 most funded robotics companies  0.0147     1 \n",
            "storm clouds  0.0147     1 \n",
            "liability  0.0146     1 \n",
            "analysts  0.0146     1 \n",
            "low-cost manufacturing  0.0145     1 \n",
            "walmart  0.0145     2 \n",
            "refunds  0.0145     1 \n",
            "tricky intersections  0.0144     1 \n",
            "people  0.0144     1 \n",
            "last years accident  0.0144     1 \n",
            "tidal wave  0.0144     1 \n",
            "nissan  0.0144     1 \n",
            "japanese markets  0.0144     1 \n",
            "the eastern innovation tiger  0.0143     2 \n",
            "bosch and nvidia partner  0.0143     1 \n",
            "middle-finger wars  0.0143     1 \n",
            "baidu invest  0.0142     1 \n",
            "corners  0.0142     2 \n",
            "uk  0.0142     2 \n",
            "1.5b  0.0142     1 \n",
            "plm  0.0142     1 \n",
            "trains  0.0142     2 \n",
            "softbank  0.0142     4 \n",
            "former director  0.0142     1 \n",
            "vision-based, 3d object recognition  0.0141     1 \n",
            "zero-fee technology  0.0141     1 \n",
            "buzz  0.0141     1 \n",
            "growth  0.0140     1 \n",
            "dutch  0.0140     1 \n",
            "lyft  0.0140     3 \n",
            "covid-19  0.0139     1 \n",
            "shockwaves  0.0137     1 \n",
            "october 2017 fundings  0.0137     1 \n",
            "fy2020  0.0137     1 \n",
            "volvo  0.0137     2 \n",
            "infrastructure  0.0136     1 \n",
            "minds + machines europe  0.0136     1 \n",
            "consumer advocates call for refunds, lower premiums  0.0136     1 \n",
            "budget  0.0136     1 \n",
            "californians  0.0135     2 \n",
            "suzuki  0.0135     1 \n",
            "gm’s purchase  0.0135     1 \n",
            "apex  0.0134     1 \n",
            "lofty promises  0.0134     1 \n",
            "teleoperation  0.0134     1 \n",
            "rail yard  0.0134     1 \n",
            "media flame-war  0.0134     1 \n",
            "daimler, bosch  0.0133     1 \n",
            "mercedes  0.0133     3 \n",
            "texas  0.0133     2 \n",
            "shanghai  0.0133     2 \n",
            "bahamas ministry of tourism & aviation statement  0.0132     1 \n",
            "an automotive design legend  0.0132     1 \n",
            "fiat-peugeot merger  0.0132     1 \n",
            "top 10 news stories  0.0131     1 \n",
            "nuro  0.0131     5 \n",
            "servitization  0.0131     1 \n",
            "ipos  0.0131     2 \n",
            "uncertainty  0.0131     1 \n",
            "2016.panasonic  0.0131     1 \n",
            "2019.2019 iw tech survey  0.0131     2 \n",
            "september 2019.robotics research alliance  0.0131     1 \n",
            "call  0.0131     1 \n",
            "two lidar makers  0.0131     1 \n",
            "fleet  0.0130     1 \n",
            "cmu  0.0130     1 \n",
            "mahindra  0.0130     1 \n",
            "conversation  0.0129     1 \n",
            "china’s return  0.0129     1 \n",
            "porsche  0.0129     1 \n",
            "human-like reasoning  0.0128     1 \n",
            "honda  0.0128     2 \n",
            "speedbumps  0.0128     1 \n",
            "aptiv  0.0128     2 \n",
            "parts  0.0128     1 \n",
            "focus  0.0127     1 \n",
            "moratorium  0.0127     1 \n",
            "levandowski  0.0127     2 \n",
            "cyclist  0.0127     1 \n",
            "drivent  0.0127     1 \n",
            "technique  0.0126     1 \n",
            "the model  0.0125     2 \n",
            "$940m  0.0125     8 \n",
            "minivans  0.0125     1 \n",
            "inevitability  0.0125     1 \n",
            "ai.roborace  0.0124     1 \n",
            "april 2017 fundings  0.0124     1 \n",
            "august  0.0124     3 \n",
            "defense  0.0124     1 \n",
            "2019.the value of thermal vision  0.0124     1 \n",
            "questions  0.0123     1 \n",
            "day 1.mobility technology  0.0123     1 \n",
            "british  0.0123     1 \n",
            "infiniti  0.0122     1 \n",
            "centre  0.0122     1 \n",
            "mobility  0.0121     2 \n",
            "development  0.0121     1 \n",
            "hyundai  0.0121     2 \n",
            "jibo  0.0121     2 \n",
            "victoria  0.0121     2 \n",
            "ride  0.0120     1 \n",
            "u.k  0.0120     2 \n",
            "pseudo-lidar  0.0120     1 \n",
            "approval  0.0120     1 \n",
            "humans  0.0119     1 \n",
            "products  0.0119     1 \n",
            "$7tn passenger economy  0.0119     1 \n",
            "wannacry  0.0119     1 \n",
            "high-speed mode  0.0118     1 \n",
            "transportation  0.0118     2 \n",
            "7tn  0.0118     1 \n",
            "aim  0.0118     1 \n",
            "carmera  0.0117     1 \n",
            "decks  0.0117     2 \n",
            "cloudminds  0.0117     1 \n",
            "denison  0.0117     1 \n",
            "sensors  0.0116     1 \n",
            "baidu  0.0116     2 \n",
            "chevrolet  0.0116     1 \n",
            "truckin  0.0116     1 \n",
            "nissan-renault  0.0116     2 \n",
            "american  0.0116     1 \n",
            "second  0.0115     1 \n",
            "next 50 years  0.0115     2 \n",
            "emissions  0.0114     1 \n",
            "the u.s. army  0.0114     2 \n",
            "subaru  0.0114     2 \n",
            "lessons  0.0114     1 \n",
            "3d  0.0113     1 \n",
            "the legal debate  0.0113     1 \n",
            "this petri dish  0.0113     1 \n",
            "the emoji jacket  0.0113     1 \n",
            "ge  0.0113     2 \n",
            "fiat-peugeot  0.0113     1 \n",
            "drive.ai  0.0112     2 \n",
            "multi-million-dollar investment  0.0112     1 \n",
            "disinfectant  0.0112     1 \n",
            "pact  0.0112     1 \n",
            "nhtsa  0.0111     1 \n",
            "gigafactory  0.0110     1 \n",
            "tesla?.views  0.0110     1 \n",
            "a safety incident  0.0110     1 \n",
            "i-pace suvs  0.0110     1 \n",
            "minds  0.0110     1 \n",
            "mobile  0.0110     2 \n",
            "mojio  0.0109     2 \n",
            "our top 5 manufacturing stories  0.0109     1 \n",
            "phase  0.0109     1 \n",
            "forecasts  0.0108     1 \n",
            "silc  0.0108     1 \n",
            "optimus  0.0108     1 \n",
            "nvidia  0.0108     1 \n",
            "audi  0.0108     2 \n",
            "maplite  0.0107     2 \n",
            "review  0.0107     1 \n",
            "chevy  0.0107     1 \n",
            "study  0.0107     1 \n",
            "ready to pounce  0.0106     1 \n",
            "the ag industry  0.0106     1 \n",
            "un  0.0106     1 \n",
            "pounce  0.0105     1 \n",
            "modes  0.0105     1 \n",
            "xain  0.0104     2 \n",
            "ride-sharing  0.0104     1 \n",
            "some plants  0.0104     1 \n",
            "disruptions  0.0103     1 \n",
            "japanese  0.0103     1 \n",
            "the companies  0.0101     1 \n",
            "ups  0.0101     1 \n",
            "florida  0.0101     2 \n",
            "revolution”  0.0100     1 \n",
            "the digital storm  0.0100     2 \n",
            "arizona  0.0100     2 \n",
            "1.6b  0.0099     2 \n",
            "fmcw  0.0099     1 \n",
            ", fmcw approach  0.0099     1 \n",
            "wield the ax  0.0099     1 \n",
            "report  0.0098     1 \n",
            "phoenix  0.0098     2 \n",
            "work  0.0098     1 \n",
            "ag  0.0098     1 \n",
            "the nissan-renault-mitsubishi alliance  0.0098     1 \n",
            "uniti  0.0098     2 \n",
            "cornell  0.0097     2 \n",
            "video  0.0097     8 \n",
            "roadsight  0.0097     2 \n",
            "virginia  0.0096     2 \n",
            "bmw’s backyard  0.0096     1 \n",
            "don’t).6  0.0096     1 \n",
            "seegrid  0.0096     2 \n",
            "a western view  0.0096     1 \n",
            "atg  0.0094     1 \n",
            "2020 wish list  0.0093     1 \n",
            "the future  0.0093     4 \n",
            "google  0.0093     1 \n",
            "a must  0.0092     1 \n",
            "kalahari  0.0091     2 \n",
            "failures  0.0090     1 \n",
            "the perfect on-ramp  0.0090     1 \n",
            "the driving  0.0090     1 \n",
            "volkswagen  0.0088     2 \n",
            "about last years  0.0087     1 \n",
            "the economic benefits  0.0087     1 \n",
            "itu  0.0086     1 \n",
            "australia  0.0086     2 \n",
            "agvs  0.0086     1 \n",
            "50%  0.0086     3 \n",
            "stakeholders  0.0086     1 \n",
            "six-year low  0.0085     1 \n",
            "return to work  0.0085     1 \n",
            "taas  0.0084     2 \n",
            "the global march  0.0084     1 \n",
            "21-day lockdown  0.0083     1 \n",
            "‘living laboratory  0.0083     1 \n",
            "pittsburgh  0.0082     2 \n",
            "a date  0.0082     1 \n",
            "tesla  0.0082     1 \n",
            "a “manufacturing revolution”  0.0082     1 \n",
            "market  0.0082     1 \n",
            "a unicorn  0.0081     1 \n",
            "october 2017  0.0080     3 \n",
            "trouble?.video  0.0080     2 \n",
            "cooperate  0.0078     1 \n",
            "aurora  0.0078     2 \n",
            "deeproute.ai  0.0078     1 \n",
            "luminar  0.0078     1 \n",
            "wayve  0.0078     1 \n",
            "the rights  0.0078     1 \n",
            "may 2019.robotics  0.0076     1 \n",
            "a concern  0.0072     1 \n",
            "a service  0.0071     1 \n",
            "six-year  0.0070     1 \n",
            "the ax  0.0066     1 \n",
            "the costs?.doordash  0.0064     1 \n",
            "the storms  0.0064     1 \n",
            "3 things  0.0063     1 \n",
            "covid-19.auto insurers  0.0063     1 \n",
            "the hood  0.0061     1 \n",
            "far too much fun  0.0059     1 \n",
            "5g  0.0059     1 \n",
            "analytics  0.0057     1 \n",
            "‘look  0.0057     1 \n",
            "april 2017  0.0057     2 \n",
            "what aerospace  0.0057     1 \n",
            "over 10,000 tonnes  0.0056     2 \n",
            "september 2019.robotics  0.0055     1 \n",
            "the waterways  0.0054     1 \n",
            "no place  0.0052     1 \n",
            "a pickup  0.0052     1 \n",
            "the changeover  0.0051     1 \n",
            "the world”  0.0051     1 \n",
            "your emotions  0.0050     1 \n",
            "february 2019.robotics  0.0050     1 \n",
            "january 2019.robotics  0.0050     1 \n",
            "july 2019.robotics  0.0050     1 \n",
            "june 2019.robotics  0.0050     1 \n",
            "march 2019.robotics  0.0050     1 \n",
            "$1 billion fund  0.0050     1 \n",
            "five updates  0.0049     1 \n",
            "the world  0.0049     1 \n",
            "the terrible, horrible, no good $779 million day  0.0047     1 \n",
            "the dust  0.0043     1 \n",
            "two weeks  0.0043     2 \n",
            "the year  0.0042     2 \n",
            "a “brain”  0.0036     1 \n",
            "a projector  0.0030     1 \n",
            "the manufacturer  0.0030     1 \n",
            "a look  0.0030     1 \n",
            "this month  0.0030     1 \n",
            "they  0.0000    63 \n"
          ],
          "name": "stdout"
        },
        {
          "output_type": "execute_result",
          "data": {
            "application/vnd.google.colaboratory.intrinsic+json": {
              "type": "string"
            },
            "text/plain": [
              "'10 biggest robotics stories of 2018.10 most funded robotics companies of 2018.10 robotics companies to watch in 2019.20 largest robotics investments during 1st half of 2019.2019 IW Tech Survey: Robots Hot; IIoT Not.5 Must-Ask Questions When Developing Robots.5 Robots Walmart is Testing for Retail Innovation.5 things robots do better than humans (and 3 things they don’t).6 Autonomous mobile robot trends to watch.6 River Systems acquisition: Mobile robots a must in new economy.6 industries where demand for robotics developers will grow by 2025.A (Rather Slow) Ride in the First Self-Driving Chevy Bolt.A Western View of PLM in China: The Eastern Innovation Tiger is Ready to Pounce.A projector had far too much fun with car tech.AI-Powered IIoT Solution to Help Manage and Monitor Aging Bridges, Tunnels, Highways and Railways.AUTO SHOW: Can Tesla Still Lead Electric Car Race? It Wants To.Affectiva Automotive AI Helps Cars Monitor Your Emotions.Amazon keeps on truckin’ with autonomous vehicle investments.Analytics: Robotics’ Untapped Vein of Business Value.Apple acquires Drive.ai as self-driving car drama continues.April 2017 fundings, acquisitions, IPOs and failures.Aptiv, Hyundai create joint venture for autonomous vehicles.Aptiv, Lyft draw lessons from 100,000 self-driving rides.Are autonomous vehicles the future of transport?.Argo AI, CMU developing autonomous vehicle research center.As Ford sets a date, Jibo retracts theirs.Audi opens centre for self-learning autonomous vehicles.Aurora raises $530M Series B as Amazon joins self-driving car race.Australian Labor party announces 50% electric car target by 2030.Auto Insurance Premiums.Autonomous shipping: The future of seafaring.Autonomous vehicles to create $7tn passenger economy.BMW Anticipates Double-Digit Electric Vehicle Sales Increase in 2018.Bad robot: Will you trust your autonomous vehicle?.Baidu announces $1.5B autonomous vehicle tech fund to drive development.Baidu’s self-driving tech plans revealed.Better autonomous \\'reasoning\\' at tricky intersections.Birth of a unicorn: Nuro gets $940M from SoftBank for driverless deliveries.Bosch and Nvidia partner to develop AI for self-driving cars.Bosch granted approval to test autonomous driving tech in Victoria, Australia.Bosch partners with Mojio to deliver its first digital platform for connected vehicles.Bosch: Will its lidar tech turn a corner for autonomous driving?.Bring on the storms: Waymo to test sensors in Florida.Bringing human-like reasoning to autonomous vehicles.CARMERA builds HD maps for autonomous vehicles in Brooklyn.COAST Autonomous to deploy first self-driving vehicles at rail yard.California Vows Fight as Trump Takes Aim at Clean-Car Authority.California approves testing of light-duty autonomous delivery vehicles.Can Ford Deliver Self-Driving Cars for Ride-Sharing by 2021?.Caterpillar announces upgrades to autonomous mining truck.Chevrolet Bolt Named North American Car of the Year.CloudMinds demoes XR-1 humanoid robot using 5G, scales up for fleets.Cobalt Robotics raises $35M for security robots.Cornell’s ‘pseudo-lidar’ advances vision-based, 3D object recognition for autonomous driving.Cruise Origin driverless vehicle designed to disrupt transportation.Cyclist and driver middle-finger wars: Enter the emoji jacket.DOT updates driverless vehicle guidelines.Daimler Trucks picks up self-driving software firm Torc Robotics.Daimler and Bosch self-driving pilot will be held in California.Daimler preparing to manufacture electric smart cars in China.Daimler, Bosch to Cooperate on \\'Fully Automated\\' Cars.DeepRoute COO describes road to autonomous vehicle funding, testing in California.DeepRoute.ai raises $50M for autonomous vehicle tech.Despite VW Scandal, EU Ignoring Diesel Pollution: NGO.Do the Economic Benefits of Automated Vehicles Outweigh the Costs?.DoorDash acquires Scotty Labs for teleoperation of food deliveries.Drivent emerges from stealth with products for autonomous vehicle safety.Driverless Cargo Delivery May Arrive Before Taxi Cabs.Driverless investment tops $1.6B so far this month.Electric Vehicles Presents Growth for Property Owners.Elon Musk Says Cybertruck Orders Have Climbed to 200,000.Elon Musk and the Terrible, Horrible, No Good $779 Million Day.Elon Musk claims Tesla’s new Model Y will be a “manufacturing revolution”.Embark self-driving trucks raise $30M Series B.FANUC to Offer New IIoT Platform for Major Automotive Manufacturers.Fiat Chrysler Debuts Electric Van.Fiat Chrysler, Suzuki in Dutch Emissions Data Probe.Fiat-Peugeot merger sends shockwaves through British car industry.Five updates on driverless vehicles as pilot-less planes could be introduced within next 50 years.Fleet Expansion Shows Waymo Lapping Self-Driving Competition.Flying Taxis Bring Speedbumps.Ford Invests $182 Million to Boost Software Expertise.Ford Shares Videos of Interior Quality Control Tests.Ford and Baidu Invest $150 Million in LiDAR for Self-Driving Cars.Ford package delivery tests combine autonomous vehicles, bipedal robots.Ford’s Nightmare Road: Inspired by World’s Worst Potholes.GE Gives its Trains a “Brain”.GM Autonomous Unit Cruise Valued at $19 Billion in Funding Round.GM Breaks with Trump Administration in Call for National Electric Car Mandate.GM Cruise raises $1.15B for self-driving cars.GM\\'s Cruise heads down new road with new robotaxi concept.GM’s purchase of Cruise fuels interest in self-driving car kits.Getting under the hood of Predix Manufacturing Data Cloud.Google’s Autonomous Cars to Get Their First Real Riders.Helping autonomous vehicles see around corners.Honda factory forced to close due to WannaCry virus.Honda self-driving concept offers on and off modes.How California’s Self-Driving Cars Performed in 2017.How Uber Self-Driving Cars See the World.How a road sign trick sent a self-driving car into high-speed mode.How the road network determines traffic capacity.ITU to devise ‘driving test’ for autonomous vehicles.Ian Callum: In conversation with an automotive design legend.Indian Government Courts Tesla for Manufacturing.Industry Collaboration Aims to Accelerate Development of Autonomous Vehicles.Integrating AI with fleet management software improves mobile robot collaboration.Kodiak Robotics Raises $40M for Self-Driving Trucks.Leading the Electric Charge at General Motors.Leveraging Multi-Segment LiDAR Sensing for Efficient, Intelligent Transportation Systems.Liability in robotics: inside the legal debate.Lofty promises for autonomous cars unfulfilled.Low-Cost Manufacturing on Display at India Electronics Week.Luminar raises $100M to scale LiDAR for autonomous vehicles.Lyft continues self-driving car efforts with new partnerships.Machine sensing, smell to improve the self-driving experience, safety.Making Connected Vehicles Generates ~10x Data as Driving Them.MapLite enables autonomous vehicles to navigate unmapped roads.Mary Barra Shows Willingness to Wield the Ax to Push GM Forward.May Mobility Raises $11.5M for Self-Driving Shuttles.May Mobility raises $50M to develop autonomous shuttles.Mercedes Plans 10 Electric Cars to Take on Tesla.Mercedes, Infiniti Owners Most Likely to Let Car Do the Driving.Minds + Machines Europe 2017: Day 1.Mobility technology: Will transport revolution live up to the hype?.Model beats Wall Street analysts in forecasting business financials.Musk Goes Back to Wall Street to Bring the Model 3 to Market.NHTSA redefines “driver” of self-driving car.Nissan-Renault Plans $1 Billion Fund for Auto Tech Startups.No place for technology barriers as focus turns to customer experience.Nuro R2 autonomous delivery vehicle gets green light.Nuro: driverless delivery pod granted autonomous vehicle exemption.OTTO Motors Receives Multi-Million-Dollar Investment for Self-Driving Vehicles.OTTO Motors to expand into Japanese markets with its mobile robots.October 2017 fundings, acquisitions and IPOs.Optimus Ride driverless shuttles launch in Brooklyn Navy Yard.Our Top 5 Manufacturing Stories of 2016.Panasonic reveals vision for futuristic autonomous car cabin.Perrone Robotics begins pilot of first autonomous public shuttle in Virginia.Phoenix rises with driverless Waymo signups.Pittsburgh and Singapore are now pilot sites for self-driving car services.Predicting people\\'s driving personalities.Researchers back Tesla’s non-LiDAR approach to self-driving cars.Researchers develop platform for scalable testing of autonomous vehicle safety.Researchers use game theory to help policy makers create liability rules for accidents involving self-driving cars.Review of Commercial UAV Show Asia held in Singapore.Revving up to a new speed record in the Kalahari.Ride Sharing May Provide The Perfect On-Ramp for Self-Driving Cars.RoadSight aims to enhance autonomous vehicle night vision with AI.Roborace, First Driverless Electric Racing Competition, Coming to UK.Robotics Investments Recap: August 2018.Robotics Roundup: ROI Calculators.Robotics has its first unicorn: startup Cruise Automation.Robotics investments February 2019.Robotics investments recap: April 2019.Robotics investments recap: August 2019.Robotics investments recap: January 2019.Robotics investments recap: July 2019.Robotics investments recap: June 2019.Robotics investments recap: March 2019.Robotics investments recap: May 2019.Robotics investments recap: October 2018.Robotics investments recap: October 2019.Robotics investments recap: September 2019.Robotics research alliance for the U.S. Army marks 10th anniversary.Robots are software and software is “eating the world”.Seegrid celebrates 2M autonomous miles driven without a safety incident.Self Driving Delivery Vehicle First to Receive US DOT Approval.Self-Driving Cars Have Power Consumption Problems.Self-driving cars may not be best for older drivers, says Newcastle University study.Self-driving cars, networks, and the companies and people that are stimulating development.Servitization 2016: live coverage.SiLC takes modular, FMCW approach to lidar for self-driving cars, robots.Simulation Paves Way for Drive.ai Self-Driving Vehicles.Singapore to begin testing on-demand robot taxis.Softbank Vision Fund to invest $2.25B in GM’s Cruise.Stainless steel, broken glass and buzz, Tesla makes a pickup.Stakeholders likely to be disrupted by the changeover to self-driving vehicles.Starsky Robotics Raises $16.5M for Self-Driving Trucks.Tesla Faces Heavy Lift as Model 3 Enters Europe and China.Tesla Model 3 Production Lags as Gigafactory Hits Delays.Tesla Model 3 Rolls Out as Battery and Charging Markets Projected to Grow.Tesla Model S Falls Short in Crash Test Yet Again.Tesla Pushing Ahead for Gigafactory 3 In Shanghai amid Trade War Tensions.Tesla Racial Bias Suit Tests the Rights of Contract Workers.Tesla Service Is Criticized in BMW’s Backyard.Tesla Slips Financially, as Musk Reiterates 500,000 Cars by 2018.Tesla Sues Former Director of Autopilot, Alleging Stolen Secrets.Tesla becomes highest-valued US automotive company.Tesla gives self-driving trucking a boost.Tesla\\'s Battery Revolution Just Reached Critical Mass.Tesla’s Scant Disclosure Leaves Analysts Guessing on Model 3.The 3 Most American-Made Cars of 2016.The Budget 2020 wish list – what UK manufacturers want and need.The Digital Storm is upon us – are you going to ride it, or get blown away?.The Intelligent Enterprise: visualising value, realising value.The Manufacturer: Top 10 news stories of 2019.The Value of Thermal Vision in ADAS.The inevitability of the global march toward self-driving vehicles.This is Ford’s Vision for Self-Driving Cars.Tidal wave of Uber news eclipses regrouping over Levandowski firing.Toyota Raising Stake in Subaru to at Least 20%, Report Says.Toyota and SoftBank combine in joint venture to develop self-driving technology.Toyota reveals second gen of its self-driving vehicle platform.Toyota to Urge Moratorium on State Self-Driving Car Regulations.Transportation as a service (TaaS): a look ahead.Trump Safety Pitch for Easing Car Standards Rebutted by Study.TuSimple gets heavy-duty funding for autonomous fleet.Two LiDAR makers each get big funding.UC Berkeley open-sources BDD100K self-driving dataset.UK car sales hit six-year low on Brexit and emissions uncertainty.UPS invests in TuSimple autonomous trucks.USPS Selects Mahindra for Next-Gen Delivery Vehicles.Uber ATG gets $1B to accelerate toward self-driving car production.Uber Self-Driving Car Kills Pedestrian in Arizona.Uber develops technique to predict pedestrian behavior, while new documents are released about last year\\'s accident.Uber self-driving trucks shutting down in desperation move.Un-man the Decks: How autonomous shipping vessels could reshape the waterways.Understand.ai accelerates image annotation for self-driving cars.Uniti Announces First Fully Digitalized Electric Vehicle Production Factory in the U.K..VIDEO: Can Tesla Manufacture 500,000 Cars Annually by 2018?.VIDEO: How Self-Driving Vehicles Stand Apart from AGVs.VIDEO: Is Tesla in Trouble?.VIDEO: Media Flame-War Continues over Tesla Autopilot Fatality.VIDEO: Self Driving Cars Mean Less Than You Think.VIDEO: Storm Clouds Ahead for US Auto Industry.VIDEO: Tesla May Fail--And Here\\'s Why.VIDEO: Tesla\\'s Survival Depends on Model 3 Manufacturing.VIDEO: Why Tesla May Not Be the Future of Electric Cars.VW Cranks Up Electric-Car Plants to Overtake Tesla\\'s Capacity.Video: Tesla Needs to Quit Making Cars. Here’s Why.Video: What is Going on with Tesla?.Views and forecasts about robotics for the ag industry.Vision Processing for Next-Gen Autonomous Vehicles.Volkswagen invests $2.6B in Argo AI for self-driving cars, expands pact with Ford.Volvo CTO Trusts Autonomous Truck Not to Run Him Over.Volvo Goes Electric.Waymo Adding 20,000 Jaguar Electric I-PACE SUVs to Self-driving Fleet.Waymo Open Dataset available for autonomous vehicle researchers.Waymo autonomous trucks, minivans roll into Texas, New Mexico.Waymo autonomous vehicles leave Apple in the dust.Waymo buys Latent Logic for simulation of human behavior.Waymo hires former Anki employees, including co-founder Sofman.Waymo is looking at partnering with the Nissan-Renault-Mitsubishi alliance.Waymo self-driving cars OK’d to carry passengers in California.Waymo self-driving vehicles head to China.Waymo, Walmart offer glimpse into commercializing self-driving cars.Wayve raises $20M to pilot learning-based self-driving cars.What Aerospace And Defense Should Learn From Tesla.What Does the Tesla Autopilot Fatality Mean for Self-Driving Vehicles?.Why autonomous vehicles may prove a must-buy for the elderly.Will Autonomous Cars End Private Car Ownership?.Will Manufacturers Cover Insurance for Driverless Car Owners?.Will the future of autonomous ships enable them to mimic humans?.Woven City: Toyota’s ‘living laboratory’ for autonomous cars & robots.XAIN builds infrastructure for training Porsche vehicle AI with FedML.nuScenes open-sources self-driving dataset with 1.4M images.‘Look Who’s Driving’ to examine self-driving car technologies, safety concerns.APEX Encourages Normal Air Travel During Novel Coronavirus COVID-19 with Noted Exceptions.Frontline Report: Covid-19 Outbreak Impedes China’s Return to Work.COVID-19 Updates News Factory Magna says some plants in China still offline, parts supplies a concern.Covid-19: We’re All in This Petri Dish Together.COVID-19 Updates News Factory Volkswagen to close Europe plants for two weeks.Universal Technical Institute Outlines Approach to COVID-19 Updates.Adient suspends FY2020 outlook due to COVID-19 uncertainty.Denison Announces Temporary Suspension of Wheeler River Environmental Assessment Amidst COVID-19 Disruptions.Bahamas Ministry of Tourism & Aviation Statement on COVID-19.FarEye Offers Zero-Fee Technology to Handle Surge and Execute Contactless Home Deliveries Amidst COVID-19.CARS Provides Financial Relief and Expands Digital Solutions to Support Dealer Customer Needs During COVID-19.Auto Insurers Make Windfall Profits from COVID-19; Consumer Advocates Call for Refunds, Lower Premiums to Californians Who Stopped Driving.Sinopec Joins Global Fight Against COVID-19, Shipping Over 10,000 Tonnes of Disinfectant.Trucking Industry Applauds Senate for Passing \"Phase Three\" COVID-19 Relief Legislation.South Africa Imposes 21-Day Lockdown Due to Covid-19 Virus'"
            ]
          },
          "metadata": {
            "tags": []
          },
          "execution_count": 130
        }
      ]
    },
    {
      "cell_type": "code",
      "metadata": {
        "id": "kQ-BfBzgdkYq",
        "outputId": "7587c612-5bef-49c5-bcd9-8feaf0a1a3a4",
        "colab": {
          "base_uri": "https://localhost:8080/",
          "height": 537
        }
      },
      "source": [
        "# df.loc[(df.category == -1) & (df.index < end) & (df.index > begin) ].sort_values(by=['date'])\n",
        "df.loc[(df.category == cluster_slider.value) & (df.index < end) & (df.index > begin) ].sort_values(by=['date'])\n"
      ],
      "execution_count": null,
      "outputs": [
        {
          "output_type": "execute_result",
          "data": {
            "text/html": [
              "<div>\n",
              "<style scoped>\n",
              "    .dataframe tbody tr th:only-of-type {\n",
              "        vertical-align: middle;\n",
              "    }\n",
              "\n",
              "    .dataframe tbody tr th {\n",
              "        vertical-align: top;\n",
              "    }\n",
              "\n",
              "    .dataframe thead th {\n",
              "        text-align: right;\n",
              "    }\n",
              "</style>\n",
              "<table border=\"1\" class=\"dataframe\">\n",
              "  <thead>\n",
              "    <tr style=\"text-align: right;\">\n",
              "      <th></th>\n",
              "      <th>value</th>\n",
              "      <th>category</th>\n",
              "      <th>timestamp</th>\n",
              "    </tr>\n",
              "    <tr>\n",
              "      <th>date</th>\n",
              "      <th></th>\n",
              "      <th></th>\n",
              "      <th></th>\n",
              "    </tr>\n",
              "  </thead>\n",
              "  <tbody>\n",
              "    <tr>\n",
              "      <th>2019-01-18 00:00:00</th>\n",
              "      <td>TV Report: “Turning PLM on Its Head” – Meet Dassault’s New Generation Leader Olivier Ribet</td>\n",
              "      <td>0</td>\n",
              "      <td>1547769600</td>\n",
              "    </tr>\n",
              "    <tr>\n",
              "      <th>2019-03-19 00:00:00</th>\n",
              "      <td>Standardizing the ADAS Lexicon</td>\n",
              "      <td>0</td>\n",
              "      <td>1552953600</td>\n",
              "    </tr>\n",
              "    <tr>\n",
              "      <th>2020-03-19 09:26:00</th>\n",
              "      <td>Pricer: Update on Possible Effects of the Coronavirus (COVID-19)</td>\n",
              "      <td>0</td>\n",
              "      <td>1584609960</td>\n",
              "    </tr>\n",
              "    <tr>\n",
              "      <th>2020-03-24 21:30:00</th>\n",
              "      <td>Village Farms International to Host Year End 2019 Conference Call on Tuesday, March 31, 2020 at 8:30 a.m. ET / Company Provides COVID-19 Update: All Facilities Remain Open</td>\n",
              "      <td>0</td>\n",
              "      <td>1585085400</td>\n",
              "    </tr>\n",
              "    <tr>\n",
              "      <th>2020-03-25 06:51:00</th>\n",
              "      <td>Volvo Provides an Update on the Current Situation in Respect of COVID-19 and Postpones the Annual General Meeting</td>\n",
              "      <td>0</td>\n",
              "      <td>1585119060</td>\n",
              "    </tr>\n",
              "    <tr>\n",
              "      <th>2020-03-26 20:15:00</th>\n",
              "      <td>Farmer Mac CEO Provides COVID-19 Business Update</td>\n",
              "      <td>0</td>\n",
              "      <td>1585253700</td>\n",
              "    </tr>\n",
              "    <tr>\n",
              "      <th>2020-03-30 10:45:00</th>\n",
              "      <td>CONSOL Operations Update at Bailey Mine and Response to COVID-19 Cases</td>\n",
              "      <td>0</td>\n",
              "      <td>1585565100</td>\n",
              "    </tr>\n",
              "    <tr>\n",
              "      <th>2020-03-30 12:33:00</th>\n",
              "      <td>Stoneridge Provides Business Updates Related to COVID-19</td>\n",
              "      <td>0</td>\n",
              "      <td>1585571580</td>\n",
              "    </tr>\n",
              "    <tr>\n",
              "      <th>2020-03-30 21:21:00</th>\n",
              "      <td>Scientific Games Statement on COVID-19 Response</td>\n",
              "      <td>0</td>\n",
              "      <td>1585603260</td>\n",
              "    </tr>\n",
              "  </tbody>\n",
              "</table>\n",
              "</div>"
            ],
            "text/plain": [
              "                                                                                                                                                                                           value  ...   timestamp\n",
              "date                                                                                                                                                                                              ...            \n",
              "2019-01-18 00:00:00                                                                                   TV Report: “Turning PLM on Its Head” – Meet Dassault’s New Generation Leader Olivier Ribet  ...  1547769600\n",
              "2019-03-19 00:00:00                                                                                                                                               Standardizing the ADAS Lexicon  ...  1552953600\n",
              "2020-03-19 09:26:00                                                                                                             Pricer: Update on Possible Effects of the Coronavirus (COVID-19)  ...  1584609960\n",
              "2020-03-24 21:30:00  Village Farms International to Host Year End 2019 Conference Call on Tuesday, March 31, 2020 at 8:30 a.m. ET / Company Provides COVID-19 Update: All Facilities Remain Open  ...  1585085400\n",
              "2020-03-25 06:51:00                                                            Volvo Provides an Update on the Current Situation in Respect of COVID-19 and Postpones the Annual General Meeting  ...  1585119060\n",
              "2020-03-26 20:15:00                                                                                                                             Farmer Mac CEO Provides COVID-19 Business Update  ...  1585253700\n",
              "2020-03-30 10:45:00                                                                                                       CONSOL Operations Update at Bailey Mine and Response to COVID-19 Cases  ...  1585565100\n",
              "2020-03-30 12:33:00                                                                                                                     Stoneridge Provides Business Updates Related to COVID-19  ...  1585571580\n",
              "2020-03-30 21:21:00                                                                                                                              Scientific Games Statement on COVID-19 Response  ...  1585603260\n",
              "\n",
              "[9 rows x 3 columns]"
            ]
          },
          "metadata": {
            "tags": []
          },
          "execution_count": 126
        }
      ]
    },
    {
      "cell_type": "markdown",
      "metadata": {
        "id": "_6aft9eqUB_e"
      },
      "source": [
        "## class based TF idf"
      ]
    },
    {
      "cell_type": "code",
      "metadata": {
        "id": "Wwt3xBoKLQhm"
      },
      "source": [
        "# c tf odf\n",
        "\n",
        "docs_df = df.copy()\n",
        "docs_df.reset_index(inplace=True)\n",
        "docs_df.drop(['timestamp', 'date'], axis=1, inplace=True)\n",
        "docs_df.rename(columns={'value':'Doc', 'category':'Topic'}, inplace = True)\n",
        "docs_df.index.name = 'Doc_ID'\n",
        "docs_df\n",
        "\n",
        "docs_per_topic = docs_df.groupby(['Topic'], as_index = False).agg({'Doc': ' '.join})\n",
        "\n",
        "# docs_per_topic\n",
        "\n"
      ],
      "execution_count": null,
      "outputs": []
    },
    {
      "cell_type": "code",
      "metadata": {
        "id": "zMnM7ZG8NP65"
      },
      "source": [
        "import numpy as np\n",
        "from sklearn.feature_extraction.text import CountVectorizer\n",
        "\n",
        "def c_tf_idf(documents, m, ngram_range=(1, 2)):\n",
        "    count = CountVectorizer(ngram_range=ngram_range, stop_words=\"english\").fit(documents)\n",
        "    t = count.transform(documents).toarray()\n",
        "    w = t.sum(axis=1)\n",
        "    tf = np.divide(t.T, w)\n",
        "    sum_t = t.sum(axis=0)\n",
        "    idf = np.log(np.divide(m, sum_t)).reshape(-1, 1)\n",
        "    tf_idf = np.multiply(tf, idf)\n",
        "\n",
        "    return tf_idf, count\n",
        "  \n",
        "tf_idf, count = c_tf_idf(docs_per_topic.Doc.values, m=len(docs_df))"
      ],
      "execution_count": null,
      "outputs": []
    },
    {
      "cell_type": "code",
      "metadata": {
        "id": "4vG9wz2NPOrW"
      },
      "source": [
        "# Topic representation\n",
        "\n",
        "def extract_top_n_words_per_topic(tf_idf, count, docs_per_topic, n=20):\n",
        "    words = count.get_feature_names()\n",
        "    labels = list(docs_per_topic.Topic)\n",
        "    tf_idf_transposed = tf_idf.T\n",
        "    indices = tf_idf_transposed.argsort()[:, -n:]\n",
        "    top_n_words = {label: [(words[j], tf_idf_transposed[i][j]) for j in indices[i]][::-1] for i, label in enumerate(labels)}\n",
        "    return top_n_words\n",
        "\n",
        "def extract_topic_sizes(df):\n",
        "    topic_sizes = (df.groupby(['Topic'])\n",
        "                     .Doc\n",
        "                     .count()\n",
        "                     .reset_index()\n",
        "                     .rename({\"Topic\": \"Topic\", \"Doc\": \"Size\"}, axis='columns')\n",
        "                     .sort_values(\"Size\", ascending=False))\n",
        "    return topic_sizes\n",
        "\n",
        "top_n_words = extract_top_n_words_per_topic(tf_idf, count, docs_per_topic, n=20)\n",
        "topic_sizes = extract_topic_sizes(docs_df); topic_sizes.head(10)"
      ],
      "execution_count": null,
      "outputs": []
    },
    {
      "cell_type": "code",
      "metadata": {
        "id": "gRnOJXutQNWt"
      },
      "source": [
        "top_n_words[1][:20]"
      ],
      "execution_count": null,
      "outputs": []
    },
    {
      "cell_type": "code",
      "metadata": {
        "id": "gi0sQCiaRr2M"
      },
      "source": [
        "# topic reduction\n",
        "# merging the topic vectors that were most similar to each other.\n",
        "\n",
        "from sklearn.metrics.pairwise import cosine_similarity\n",
        "\n",
        "for i in range(20):\n",
        "    # Calculate cosine similarity\n",
        "    similarities = cosine_similarity(tf_idf.T)\n",
        "    np.fill_diagonal(similarities, 0)\n",
        "\n",
        "    # Extract label to merge into and from where\n",
        "    topic_sizes = docs_df.groupby(['Topic']).count().sort_values(\"Doc\", ascending=False).reset_index()\n",
        "    topic_to_merge = topic_sizes.iloc[-1].Topic\n",
        "    topic_to_merge_into = np.argmax(similarities[topic_to_merge + 1]) - 1\n",
        "\n",
        "    # Adjust topics\n",
        "    docs_df.loc[docs_df.Topic == topic_to_merge, \"Topic\"] = topic_to_merge_into\n",
        "    old_topics = docs_df.sort_values(\"Topic\").Topic.unique()\n",
        "    map_topics = {old_topic: index - 1 for index, old_topic in enumerate(old_topics)}\n",
        "    docs_df.Topic = docs_df.Topic.map(map_topics)\n",
        "    docs_per_topic = docs_df.groupby(['Topic'], as_index = False).agg({'Doc': ' '.join})\n",
        "\n",
        "    # Calculate new topic words\n",
        "    m = len(docs_df)\n",
        "    tf_idf, count = c_tf_idf(docs_per_topic.Doc.values, m)\n",
        "    top_n_words = extract_top_n_words_per_topic(tf_idf, count, docs_per_topic, n=20)\n",
        "\n",
        "topic_sizes = extract_topic_sizes(docs_df); topic_sizes.head(10)"
      ],
      "execution_count": null,
      "outputs": []
    },
    {
      "cell_type": "markdown",
      "metadata": {
        "id": "OS3YfExg8Qtr"
      },
      "source": [
        "## Moda (to delet3)"
      ]
    },
    {
      "cell_type": "code",
      "metadata": {
        "id": "qubCQmAy8gYu"
      },
      "source": [
        "pip install moda"
      ],
      "execution_count": null,
      "outputs": []
    },
    {
      "cell_type": "code",
      "metadata": {
        "id": "vgcNxUos-KZQ"
      },
      "source": [
        "import pandas as pd\n",
        "ls = pd.read_csv('/content/catalog.csv')\n",
        "ls['date'].head()"
      ],
      "execution_count": null,
      "outputs": []
    },
    {
      "cell_type": "code",
      "metadata": {
        "id": "lemAmxhN_udJ"
      },
      "source": [
        "# Parsing\n",
        "# %d for day, %m for month, %y for a two-digit year and %Y for a four digit year\n",
        "# infer_datetime_format=True, dates in different formats\n",
        "ls['date_new'] = pd.to_datetime(ls['date'], errors = 'coerce')\n",
        "ls['date_new'].head()"
      ],
      "execution_count": null,
      "outputs": []
    },
    {
      "cell_type": "code",
      "metadata": {
        "id": "SLLDrPCpA4Au"
      },
      "source": [
        "# check if day-month reversed\n",
        "days = ls['date_new'].dt.day\n",
        "import seaborn as sns\n",
        "\n",
        "sns.displot(days, kde= False, bins = 31)"
      ],
      "execution_count": null,
      "outputs": []
    },
    {
      "cell_type": "code",
      "metadata": {
        "id": "4i7uOOFaIBPY"
      },
      "source": [
        "ls.info()"
      ],
      "execution_count": null,
      "outputs": []
    },
    {
      "cell_type": "code",
      "metadata": {
        "id": "lC81Sg2XHwPJ"
      },
      "source": [
        "# group by year month\n",
        "\n",
        "# ls.dropna().reset_index(drop=True, inplace = True)/\n",
        "ls = ls.query('date_new != \"NaT\"')\n",
        "\n",
        "# step 1: create a 'year-month' column\n",
        "ls['dates'] = ls['date_new'].map(lambda x: x.strftime('%Y/%m'))\n",
        "\n",
        "# step 2: group by the created columns\n",
        "grouped_df = ls.groupby('dates').size()\n",
        "\n",
        "grouped_df"
      ],
      "execution_count": null,
      "outputs": []
    },
    {
      "cell_type": "code",
      "metadata": {
        "id": "Z3CN6gwtFH9X"
      },
      "source": [
        "ls.info()\n",
        "# ls"
      ],
      "execution_count": null,
      "outputs": []
    },
    {
      "cell_type": "code",
      "metadata": {
        "id": "10SJ9UbEF_8l"
      },
      "source": [
        "# without using the datetime format\n",
        "df1 = ls[['date','landslide_type','trigger']]\n",
        "df1.rename(columns={'landslide_type':'category', 'trigger':'value'}, inplace = True)\n",
        "df1"
      ],
      "execution_count": null,
      "outputs": []
    },
    {
      "cell_type": "code",
      "metadata": {
        "id": "68Mfnx5gHfHz"
      },
      "source": [
        "TIME_RANGE = \"6M\" # Aggregate all events in the raw data into 3 hour intervals\n",
        "from moda.dataprep import raw_to_ts\n",
        "\n",
        "ts = raw_to_ts(df1)\n",
        "ts.head()"
      ],
      "execution_count": null,
      "outputs": []
    },
    {
      "cell_type": "code",
      "metadata": {
        "id": "C3qyxnOwLnm7"
      },
      "source": [
        "## Some general stats\n",
        "\n",
        "print(\"Dataset length: \" + str(len(ts)))\n",
        "print(\"Min date: \" + str(ts.index.get_level_values('date').min()))\n",
        "print(\"Max date: \" + str(ts.index.get_level_values('date').max()))\n",
        "\n",
        "print(\"Total time: {}\".format(ts.index.get_level_values('date').max() - ts.index.get_level_values('date').min()))\n",
        "\n",
        "print(\"Dataset contains {} categories.\".format(len(ts['category'].unique())))"
      ],
      "execution_count": null,
      "outputs": []
    },
    {
      "cell_type": "code",
      "metadata": {
        "id": "_nk5lN1jLwwP"
      },
      "source": [
        "\n",
        "from moda.dataprep import ts_to_range\n",
        "ranged_ts = ts_to_range(ts,time_range=TIME_RANGE)\n",
        "ranged_ts.head(20)"
      ],
      "execution_count": null,
      "outputs": []
    },
    {
      "cell_type": "code",
      "metadata": {
        "id": "ioTARup7Ms13"
      },
      "source": [
        "category = \"Landslide\"\n",
        "ranged_ts.loc[pd.IndexSlice[:, category], :].reset_index().plot(kind='line',x='date',y='value',figsize=(24,6),linewidth=0.7, \n",
        "                          title = \"Number of incidents per 24 hours for {}\".format(category))"
      ],
      "execution_count": null,
      "outputs": []
    },
    {
      "cell_type": "markdown",
      "metadata": {
        "id": "Z2rsgh30RSZu"
      },
      "source": [
        "# Export for visualization"
      ]
    },
    {
      "cell_type": "code",
      "metadata": {
        "id": "46ho-97mBGNF"
      },
      "source": [
        "# export for visualisation\n",
        "\n",
        "np.savetxt('out.tsv', clusterable_embedding ,delimiter='\\t')\n",
        "\n",
        "# Save dataframe without any index\n",
        "df.to_csv('metadata.tsv', index=False, sep='\\t')\n",
        "\n",
        "# https://projector.tensorflow.org/"
      ],
      "execution_count": null,
      "outputs": []
    },
    {
      "cell_type": "code",
      "metadata": {
        "id": "5yaYmW1Gh3iB"
      },
      "source": [
        "# TextRank keywords\n",
        "\n",
        "ab = str(df['title'].iloc[0]) + str(df['text'].iloc[0])\n",
        "do = nlp(ab)\n",
        "for p in do._.phrases:\n",
        "  print(\"{}  {:.4f} {:5d} \".format(p.text,p.rank, p.count))"
      ],
      "execution_count": null,
      "outputs": []
    },
    {
      "cell_type": "code",
      "metadata": {
        "id": "aQ6Ebn5digOV"
      },
      "source": [
        "# YAKE\n",
        "keywords = kw_extractor.extract_keywords(ab)\n",
        "for kw in keywords:\n",
        "\t  print(kw)"
      ],
      "execution_count": null,
      "outputs": []
    },
    {
      "cell_type": "code",
      "metadata": {
        "id": "0xBjJ-GCo2QE"
      },
      "source": [
        "# florrians keywords\n",
        "keyphrase_matrix = pd.read_json('/content/Car_IoT_Cybersecurity_bert2tag_kp50_09.28_11.43.json')\n",
        "\n",
        "keyphrase_matrix.loc[0]\n",
        "# %whos"
      ],
      "execution_count": null,
      "outputs": []
    }
  ]
}
