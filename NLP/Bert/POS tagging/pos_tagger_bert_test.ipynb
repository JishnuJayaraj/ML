{
  "nbformat": 4,
  "nbformat_minor": 0,
  "metadata": {
    "kernelspec": {
      "display_name": "Python 3",
      "language": "python",
      "name": "python3"
    },
    "language_info": {
      "codemirror_mode": {
        "name": "ipython",
        "version": 3
      },
      "file_extension": ".py",
      "mimetype": "text/x-python",
      "name": "python",
      "nbconvert_exporter": "python",
      "pygments_lexer": "ipython3",
      "version": "3.6.3"
    },
    "colab": {
      "name": "pos_tagger_bert_test.ipynb",
      "provenance": [],
      "toc_visible": true,
      "include_colab_link": true
    },
    "accelerator": "GPU",
    "widgets": {
      "application/vnd.jupyter.widget-state+json": {
        "e224ef214caa488c9fe78a6553f9600a": {
          "model_module": "@jupyter-widgets/controls",
          "model_name": "HBoxModel",
          "state": {
            "_view_name": "HBoxView",
            "_dom_classes": [],
            "_model_name": "HBoxModel",
            "_view_module": "@jupyter-widgets/controls",
            "_model_module_version": "1.5.0",
            "_view_count": null,
            "_view_module_version": "1.5.0",
            "box_style": "",
            "layout": "IPY_MODEL_f695066b3d4a4663b718a0ee320e650e",
            "_model_module": "@jupyter-widgets/controls",
            "children": [
              "IPY_MODEL_922649be53f244e39752aacb65509b31",
              "IPY_MODEL_cbb776a186ec480fbb910eb274022c47"
            ]
          }
        },
        "f695066b3d4a4663b718a0ee320e650e": {
          "model_module": "@jupyter-widgets/base",
          "model_name": "LayoutModel",
          "state": {
            "_view_name": "LayoutView",
            "grid_template_rows": null,
            "right": null,
            "justify_content": null,
            "_view_module": "@jupyter-widgets/base",
            "overflow": null,
            "_model_module_version": "1.2.0",
            "_view_count": null,
            "flex_flow": null,
            "width": null,
            "min_width": null,
            "border": null,
            "align_items": null,
            "bottom": null,
            "_model_module": "@jupyter-widgets/base",
            "top": null,
            "grid_column": null,
            "overflow_y": null,
            "overflow_x": null,
            "grid_auto_flow": null,
            "grid_area": null,
            "grid_template_columns": null,
            "flex": null,
            "_model_name": "LayoutModel",
            "justify_items": null,
            "grid_row": null,
            "max_height": null,
            "align_content": null,
            "visibility": null,
            "align_self": null,
            "height": null,
            "min_height": null,
            "padding": null,
            "grid_auto_rows": null,
            "grid_gap": null,
            "max_width": null,
            "order": null,
            "_view_module_version": "1.2.0",
            "grid_template_areas": null,
            "object_position": null,
            "object_fit": null,
            "grid_auto_columns": null,
            "margin": null,
            "display": null,
            "left": null
          }
        },
        "922649be53f244e39752aacb65509b31": {
          "model_module": "@jupyter-widgets/controls",
          "model_name": "FloatProgressModel",
          "state": {
            "_view_name": "ProgressView",
            "style": "IPY_MODEL_bd0e0313ddff4047b58661628873c6b8",
            "_dom_classes": [],
            "description": "Converting examples to features: 100%",
            "_model_name": "FloatProgressModel",
            "bar_style": "success",
            "max": 1,
            "_view_module": "@jupyter-widgets/controls",
            "_model_module_version": "1.5.0",
            "value": 1,
            "_view_count": null,
            "_view_module_version": "1.5.0",
            "orientation": "horizontal",
            "min": 0,
            "description_tooltip": null,
            "_model_module": "@jupyter-widgets/controls",
            "layout": "IPY_MODEL_857fcd56485742c8becb9604c36a1713"
          }
        },
        "cbb776a186ec480fbb910eb274022c47": {
          "model_module": "@jupyter-widgets/controls",
          "model_name": "HTMLModel",
          "state": {
            "_view_name": "HTMLView",
            "style": "IPY_MODEL_88e1b39ce87d4acabd7b8dfc27b57290",
            "_dom_classes": [],
            "description": "",
            "_model_name": "HTMLModel",
            "placeholder": "​",
            "_view_module": "@jupyter-widgets/controls",
            "_model_module_version": "1.5.0",
            "value": " 1/1 [00:00&lt;00:00,  1.54it/s]",
            "_view_count": null,
            "_view_module_version": "1.5.0",
            "description_tooltip": null,
            "_model_module": "@jupyter-widgets/controls",
            "layout": "IPY_MODEL_57f92bda584a4e4d8eef0b93f746e804"
          }
        },
        "bd0e0313ddff4047b58661628873c6b8": {
          "model_module": "@jupyter-widgets/controls",
          "model_name": "ProgressStyleModel",
          "state": {
            "_view_name": "StyleView",
            "_model_name": "ProgressStyleModel",
            "description_width": "initial",
            "_view_module": "@jupyter-widgets/base",
            "_model_module_version": "1.5.0",
            "_view_count": null,
            "_view_module_version": "1.2.0",
            "bar_color": null,
            "_model_module": "@jupyter-widgets/controls"
          }
        },
        "857fcd56485742c8becb9604c36a1713": {
          "model_module": "@jupyter-widgets/base",
          "model_name": "LayoutModel",
          "state": {
            "_view_name": "LayoutView",
            "grid_template_rows": null,
            "right": null,
            "justify_content": null,
            "_view_module": "@jupyter-widgets/base",
            "overflow": null,
            "_model_module_version": "1.2.0",
            "_view_count": null,
            "flex_flow": null,
            "width": null,
            "min_width": null,
            "border": null,
            "align_items": null,
            "bottom": null,
            "_model_module": "@jupyter-widgets/base",
            "top": null,
            "grid_column": null,
            "overflow_y": null,
            "overflow_x": null,
            "grid_auto_flow": null,
            "grid_area": null,
            "grid_template_columns": null,
            "flex": null,
            "_model_name": "LayoutModel",
            "justify_items": null,
            "grid_row": null,
            "max_height": null,
            "align_content": null,
            "visibility": null,
            "align_self": null,
            "height": null,
            "min_height": null,
            "padding": null,
            "grid_auto_rows": null,
            "grid_gap": null,
            "max_width": null,
            "order": null,
            "_view_module_version": "1.2.0",
            "grid_template_areas": null,
            "object_position": null,
            "object_fit": null,
            "grid_auto_columns": null,
            "margin": null,
            "display": null,
            "left": null
          }
        },
        "88e1b39ce87d4acabd7b8dfc27b57290": {
          "model_module": "@jupyter-widgets/controls",
          "model_name": "DescriptionStyleModel",
          "state": {
            "_view_name": "StyleView",
            "_model_name": "DescriptionStyleModel",
            "description_width": "",
            "_view_module": "@jupyter-widgets/base",
            "_model_module_version": "1.5.0",
            "_view_count": null,
            "_view_module_version": "1.2.0",
            "_model_module": "@jupyter-widgets/controls"
          }
        },
        "57f92bda584a4e4d8eef0b93f746e804": {
          "model_module": "@jupyter-widgets/base",
          "model_name": "LayoutModel",
          "state": {
            "_view_name": "LayoutView",
            "grid_template_rows": null,
            "right": null,
            "justify_content": null,
            "_view_module": "@jupyter-widgets/base",
            "overflow": null,
            "_model_module_version": "1.2.0",
            "_view_count": null,
            "flex_flow": null,
            "width": null,
            "min_width": null,
            "border": null,
            "align_items": null,
            "bottom": null,
            "_model_module": "@jupyter-widgets/base",
            "top": null,
            "grid_column": null,
            "overflow_y": null,
            "overflow_x": null,
            "grid_auto_flow": null,
            "grid_area": null,
            "grid_template_columns": null,
            "flex": null,
            "_model_name": "LayoutModel",
            "justify_items": null,
            "grid_row": null,
            "max_height": null,
            "align_content": null,
            "visibility": null,
            "align_self": null,
            "height": null,
            "min_height": null,
            "padding": null,
            "grid_auto_rows": null,
            "grid_gap": null,
            "max_width": null,
            "order": null,
            "_view_module_version": "1.2.0",
            "grid_template_areas": null,
            "object_position": null,
            "object_fit": null,
            "grid_auto_columns": null,
            "margin": null,
            "display": null,
            "left": null
          }
        },
        "769b0360bcc74dad86fa868224c26f9f": {
          "model_module": "@jupyter-widgets/controls",
          "model_name": "HBoxModel",
          "state": {
            "_view_name": "HBoxView",
            "_dom_classes": [],
            "_model_name": "HBoxModel",
            "_view_module": "@jupyter-widgets/controls",
            "_model_module_version": "1.5.0",
            "_view_count": null,
            "_view_module_version": "1.5.0",
            "box_style": "",
            "layout": "IPY_MODEL_4b570f9e782049669bba1ea24b3d4b2e",
            "_model_module": "@jupyter-widgets/controls",
            "children": [
              "IPY_MODEL_b774897ac31e457f83d011ad8382bb52",
              "IPY_MODEL_855c1fc068cc44598530791628beb2dd"
            ]
          }
        },
        "4b570f9e782049669bba1ea24b3d4b2e": {
          "model_module": "@jupyter-widgets/base",
          "model_name": "LayoutModel",
          "state": {
            "_view_name": "LayoutView",
            "grid_template_rows": null,
            "right": null,
            "justify_content": null,
            "_view_module": "@jupyter-widgets/base",
            "overflow": null,
            "_model_module_version": "1.2.0",
            "_view_count": null,
            "flex_flow": null,
            "width": null,
            "min_width": null,
            "border": null,
            "align_items": null,
            "bottom": null,
            "_model_module": "@jupyter-widgets/base",
            "top": null,
            "grid_column": null,
            "overflow_y": null,
            "overflow_x": null,
            "grid_auto_flow": null,
            "grid_area": null,
            "grid_template_columns": null,
            "flex": null,
            "_model_name": "LayoutModel",
            "justify_items": null,
            "grid_row": null,
            "max_height": null,
            "align_content": null,
            "visibility": null,
            "align_self": null,
            "height": null,
            "min_height": null,
            "padding": null,
            "grid_auto_rows": null,
            "grid_gap": null,
            "max_width": null,
            "order": null,
            "_view_module_version": "1.2.0",
            "grid_template_areas": null,
            "object_position": null,
            "object_fit": null,
            "grid_auto_columns": null,
            "margin": null,
            "display": null,
            "left": null
          }
        },
        "b774897ac31e457f83d011ad8382bb52": {
          "model_module": "@jupyter-widgets/controls",
          "model_name": "FloatProgressModel",
          "state": {
            "_view_name": "ProgressView",
            "style": "IPY_MODEL_00e3175430524e5faeb9c8b3b764fe01",
            "_dom_classes": [],
            "description": "Converting examples to features: 100%",
            "_model_name": "FloatProgressModel",
            "bar_style": "success",
            "max": 1951,
            "_view_module": "@jupyter-widgets/controls",
            "_model_module_version": "1.5.0",
            "value": 1951,
            "_view_count": null,
            "_view_module_version": "1.5.0",
            "orientation": "horizontal",
            "min": 0,
            "description_tooltip": null,
            "_model_module": "@jupyter-widgets/controls",
            "layout": "IPY_MODEL_1a7bc00beb4d49298106a559620d52e4"
          }
        },
        "855c1fc068cc44598530791628beb2dd": {
          "model_module": "@jupyter-widgets/controls",
          "model_name": "HTMLModel",
          "state": {
            "_view_name": "HTMLView",
            "style": "IPY_MODEL_20d3c29bf3484d3d90fc45fcb18adc4e",
            "_dom_classes": [],
            "description": "",
            "_model_name": "HTMLModel",
            "placeholder": "​",
            "_view_module": "@jupyter-widgets/controls",
            "_model_module_version": "1.5.0",
            "value": " 1951/1951 [00:03&lt;00:00, 586.76it/s]",
            "_view_count": null,
            "_view_module_version": "1.5.0",
            "description_tooltip": null,
            "_model_module": "@jupyter-widgets/controls",
            "layout": "IPY_MODEL_ae8c096473444b0e8902741be03c83c2"
          }
        },
        "00e3175430524e5faeb9c8b3b764fe01": {
          "model_module": "@jupyter-widgets/controls",
          "model_name": "ProgressStyleModel",
          "state": {
            "_view_name": "StyleView",
            "_model_name": "ProgressStyleModel",
            "description_width": "initial",
            "_view_module": "@jupyter-widgets/base",
            "_model_module_version": "1.5.0",
            "_view_count": null,
            "_view_module_version": "1.2.0",
            "bar_color": null,
            "_model_module": "@jupyter-widgets/controls"
          }
        },
        "1a7bc00beb4d49298106a559620d52e4": {
          "model_module": "@jupyter-widgets/base",
          "model_name": "LayoutModel",
          "state": {
            "_view_name": "LayoutView",
            "grid_template_rows": null,
            "right": null,
            "justify_content": null,
            "_view_module": "@jupyter-widgets/base",
            "overflow": null,
            "_model_module_version": "1.2.0",
            "_view_count": null,
            "flex_flow": null,
            "width": null,
            "min_width": null,
            "border": null,
            "align_items": null,
            "bottom": null,
            "_model_module": "@jupyter-widgets/base",
            "top": null,
            "grid_column": null,
            "overflow_y": null,
            "overflow_x": null,
            "grid_auto_flow": null,
            "grid_area": null,
            "grid_template_columns": null,
            "flex": null,
            "_model_name": "LayoutModel",
            "justify_items": null,
            "grid_row": null,
            "max_height": null,
            "align_content": null,
            "visibility": null,
            "align_self": null,
            "height": null,
            "min_height": null,
            "padding": null,
            "grid_auto_rows": null,
            "grid_gap": null,
            "max_width": null,
            "order": null,
            "_view_module_version": "1.2.0",
            "grid_template_areas": null,
            "object_position": null,
            "object_fit": null,
            "grid_auto_columns": null,
            "margin": null,
            "display": null,
            "left": null
          }
        },
        "20d3c29bf3484d3d90fc45fcb18adc4e": {
          "model_module": "@jupyter-widgets/controls",
          "model_name": "DescriptionStyleModel",
          "state": {
            "_view_name": "StyleView",
            "_model_name": "DescriptionStyleModel",
            "description_width": "",
            "_view_module": "@jupyter-widgets/base",
            "_model_module_version": "1.5.0",
            "_view_count": null,
            "_view_module_version": "1.2.0",
            "_model_module": "@jupyter-widgets/controls"
          }
        },
        "ae8c096473444b0e8902741be03c83c2": {
          "model_module": "@jupyter-widgets/base",
          "model_name": "LayoutModel",
          "state": {
            "_view_name": "LayoutView",
            "grid_template_rows": null,
            "right": null,
            "justify_content": null,
            "_view_module": "@jupyter-widgets/base",
            "overflow": null,
            "_model_module_version": "1.2.0",
            "_view_count": null,
            "flex_flow": null,
            "width": null,
            "min_width": null,
            "border": null,
            "align_items": null,
            "bottom": null,
            "_model_module": "@jupyter-widgets/base",
            "top": null,
            "grid_column": null,
            "overflow_y": null,
            "overflow_x": null,
            "grid_auto_flow": null,
            "grid_area": null,
            "grid_template_columns": null,
            "flex": null,
            "_model_name": "LayoutModel",
            "justify_items": null,
            "grid_row": null,
            "max_height": null,
            "align_content": null,
            "visibility": null,
            "align_self": null,
            "height": null,
            "min_height": null,
            "padding": null,
            "grid_auto_rows": null,
            "grid_gap": null,
            "max_width": null,
            "order": null,
            "_view_module_version": "1.2.0",
            "grid_template_areas": null,
            "object_position": null,
            "object_fit": null,
            "grid_auto_columns": null,
            "margin": null,
            "display": null,
            "left": null
          }
        },
        "5e5ed3d3cc0745e687df78ab1ce87c84": {
          "model_module": "@jupyter-widgets/controls",
          "model_name": "HBoxModel",
          "state": {
            "_view_name": "HBoxView",
            "_dom_classes": [],
            "_model_name": "HBoxModel",
            "_view_module": "@jupyter-widgets/controls",
            "_model_module_version": "1.5.0",
            "_view_count": null,
            "_view_module_version": "1.5.0",
            "box_style": "",
            "layout": "IPY_MODEL_7c0522480cc6451f983efdfa54d0cc8b",
            "_model_module": "@jupyter-widgets/controls",
            "children": [
              "IPY_MODEL_9d1011924e614f50ae7714fb127af768",
              "IPY_MODEL_e8dc2a2a71654dbca02abe707e2d7c39"
            ]
          }
        },
        "7c0522480cc6451f983efdfa54d0cc8b": {
          "model_module": "@jupyter-widgets/base",
          "model_name": "LayoutModel",
          "state": {
            "_view_name": "LayoutView",
            "grid_template_rows": null,
            "right": null,
            "justify_content": null,
            "_view_module": "@jupyter-widgets/base",
            "overflow": null,
            "_model_module_version": "1.2.0",
            "_view_count": null,
            "flex_flow": null,
            "width": null,
            "min_width": null,
            "border": null,
            "align_items": null,
            "bottom": null,
            "_model_module": "@jupyter-widgets/base",
            "top": null,
            "grid_column": null,
            "overflow_y": null,
            "overflow_x": null,
            "grid_auto_flow": null,
            "grid_area": null,
            "grid_template_columns": null,
            "flex": null,
            "_model_name": "LayoutModel",
            "justify_items": null,
            "grid_row": null,
            "max_height": null,
            "align_content": null,
            "visibility": null,
            "align_self": null,
            "height": null,
            "min_height": null,
            "padding": null,
            "grid_auto_rows": null,
            "grid_gap": null,
            "max_width": null,
            "order": null,
            "_view_module_version": "1.2.0",
            "grid_template_areas": null,
            "object_position": null,
            "object_fit": null,
            "grid_auto_columns": null,
            "margin": null,
            "display": null,
            "left": null
          }
        },
        "9d1011924e614f50ae7714fb127af768": {
          "model_module": "@jupyter-widgets/controls",
          "model_name": "FloatProgressModel",
          "state": {
            "_view_name": "ProgressView",
            "style": "IPY_MODEL_1d46c70d10214edd81cefaee7e626b7f",
            "_dom_classes": [],
            "description": "Converting examples to features: 100%",
            "_model_name": "FloatProgressModel",
            "bar_style": "success",
            "max": 154,
            "_view_module": "@jupyter-widgets/controls",
            "_model_module_version": "1.5.0",
            "value": 154,
            "_view_count": null,
            "_view_module_version": "1.5.0",
            "orientation": "horizontal",
            "min": 0,
            "description_tooltip": null,
            "_model_module": "@jupyter-widgets/controls",
            "layout": "IPY_MODEL_4d738c7e619448c189b08a5335443bcb"
          }
        },
        "e8dc2a2a71654dbca02abe707e2d7c39": {
          "model_module": "@jupyter-widgets/controls",
          "model_name": "HTMLModel",
          "state": {
            "_view_name": "HTMLView",
            "style": "IPY_MODEL_83295964a8f0474f8ccd26f18062d64d",
            "_dom_classes": [],
            "description": "",
            "_model_name": "HTMLModel",
            "placeholder": "​",
            "_view_module": "@jupyter-widgets/controls",
            "_model_module_version": "1.5.0",
            "value": " 154/154 [00:00&lt;00:00, 236.01it/s]",
            "_view_count": null,
            "_view_module_version": "1.5.0",
            "description_tooltip": null,
            "_model_module": "@jupyter-widgets/controls",
            "layout": "IPY_MODEL_8fbafcdc2c98430abd94b40a2c233ec5"
          }
        },
        "1d46c70d10214edd81cefaee7e626b7f": {
          "model_module": "@jupyter-widgets/controls",
          "model_name": "ProgressStyleModel",
          "state": {
            "_view_name": "StyleView",
            "_model_name": "ProgressStyleModel",
            "description_width": "initial",
            "_view_module": "@jupyter-widgets/base",
            "_model_module_version": "1.5.0",
            "_view_count": null,
            "_view_module_version": "1.2.0",
            "bar_color": null,
            "_model_module": "@jupyter-widgets/controls"
          }
        },
        "4d738c7e619448c189b08a5335443bcb": {
          "model_module": "@jupyter-widgets/base",
          "model_name": "LayoutModel",
          "state": {
            "_view_name": "LayoutView",
            "grid_template_rows": null,
            "right": null,
            "justify_content": null,
            "_view_module": "@jupyter-widgets/base",
            "overflow": null,
            "_model_module_version": "1.2.0",
            "_view_count": null,
            "flex_flow": null,
            "width": null,
            "min_width": null,
            "border": null,
            "align_items": null,
            "bottom": null,
            "_model_module": "@jupyter-widgets/base",
            "top": null,
            "grid_column": null,
            "overflow_y": null,
            "overflow_x": null,
            "grid_auto_flow": null,
            "grid_area": null,
            "grid_template_columns": null,
            "flex": null,
            "_model_name": "LayoutModel",
            "justify_items": null,
            "grid_row": null,
            "max_height": null,
            "align_content": null,
            "visibility": null,
            "align_self": null,
            "height": null,
            "min_height": null,
            "padding": null,
            "grid_auto_rows": null,
            "grid_gap": null,
            "max_width": null,
            "order": null,
            "_view_module_version": "1.2.0",
            "grid_template_areas": null,
            "object_position": null,
            "object_fit": null,
            "grid_auto_columns": null,
            "margin": null,
            "display": null,
            "left": null
          }
        },
        "83295964a8f0474f8ccd26f18062d64d": {
          "model_module": "@jupyter-widgets/controls",
          "model_name": "DescriptionStyleModel",
          "state": {
            "_view_name": "StyleView",
            "_model_name": "DescriptionStyleModel",
            "description_width": "",
            "_view_module": "@jupyter-widgets/base",
            "_model_module_version": "1.5.0",
            "_view_count": null,
            "_view_module_version": "1.2.0",
            "_model_module": "@jupyter-widgets/controls"
          }
        },
        "8fbafcdc2c98430abd94b40a2c233ec5": {
          "model_module": "@jupyter-widgets/base",
          "model_name": "LayoutModel",
          "state": {
            "_view_name": "LayoutView",
            "grid_template_rows": null,
            "right": null,
            "justify_content": null,
            "_view_module": "@jupyter-widgets/base",
            "overflow": null,
            "_model_module_version": "1.2.0",
            "_view_count": null,
            "flex_flow": null,
            "width": null,
            "min_width": null,
            "border": null,
            "align_items": null,
            "bottom": null,
            "_model_module": "@jupyter-widgets/base",
            "top": null,
            "grid_column": null,
            "overflow_y": null,
            "overflow_x": null,
            "grid_auto_flow": null,
            "grid_area": null,
            "grid_template_columns": null,
            "flex": null,
            "_model_name": "LayoutModel",
            "justify_items": null,
            "grid_row": null,
            "max_height": null,
            "align_content": null,
            "visibility": null,
            "align_self": null,
            "height": null,
            "min_height": null,
            "padding": null,
            "grid_auto_rows": null,
            "grid_gap": null,
            "max_width": null,
            "order": null,
            "_view_module_version": "1.2.0",
            "grid_template_areas": null,
            "object_position": null,
            "object_fit": null,
            "grid_auto_columns": null,
            "margin": null,
            "display": null,
            "left": null
          }
        }
      }
    }
  },
  "cells": [
    {
      "cell_type": "markdown",
      "metadata": {
        "id": "view-in-github",
        "colab_type": "text"
      },
      "source": [
        "<a href=\"https://colab.research.google.com/github/JishnuJayaraj/ML/blob/master/NLP/Bert/POS%20tagging/pos_tagger_bert_test.ipynb\" target=\"_parent\"><img src=\"https://colab.research.google.com/assets/colab-badge.svg\" alt=\"Open In Colab\"/></a>"
      ]
    },
    {
      "cell_type": "markdown",
      "metadata": {
        "nbpresent": {
          "id": "2b1b350c-5a3c-434c-bcb2-0672625d154d"
        },
        "id": "83TCwQnal9oH"
      },
      "source": [
        "# NATURAL LANGUAGE PROCESSING WITH TRANSFORMERS\n",
        "# Α Pos Tagger trained on UD treebank with fine-tuning a BERT model"
      ]
    },
    {
      "cell_type": "markdown",
      "metadata": {
        "id": "NWtf_aErl9oI"
      },
      "source": [
        "# Keras BERT implementation"
      ]
    },
    {
      "cell_type": "code",
      "metadata": {
        "nbpresent": {
          "id": "f61bc4e3-579a-44c9-a7c6-4dc1f9fbf7cb"
        },
        "id": "EYnfyErsl9oJ",
        "outputId": "f13595bc-4525-42e1-d11e-47963b02bb3d",
        "colab": {
          "base_uri": "https://localhost:8080/",
          "height": 377
        }
      },
      "source": [
        "# First install some extra packages\n",
        "%tensorflow_version 1.x\n",
        "! pip install pyconll\n",
        "! pip install pydot\n",
        "! pip install graphiz\n",
        "! pip install bert-tensorflow\n"
      ],
      "execution_count": null,
      "outputs": [
        {
          "output_type": "stream",
          "text": [
            "TensorFlow 1.x selected.\n",
            "Collecting pyconll\n",
            "  Downloading https://files.pythonhosted.org/packages/2c/6e/c325d0db05ac1b8d45645de903e4ba691d419e861c915c3d4ebfcaf8ac25/pyconll-2.2.1-py3-none-any.whl\n",
            "Requirement already satisfied: requests>=2.21 in /usr/local/lib/python3.6/dist-packages (from pyconll) (2.23.0)\n",
            "Requirement already satisfied: urllib3!=1.25.0,!=1.25.1,<1.26,>=1.21.1 in /usr/local/lib/python3.6/dist-packages (from requests>=2.21->pyconll) (1.24.3)\n",
            "Requirement already satisfied: chardet<4,>=3.0.2 in /usr/local/lib/python3.6/dist-packages (from requests>=2.21->pyconll) (3.0.4)\n",
            "Requirement already satisfied: certifi>=2017.4.17 in /usr/local/lib/python3.6/dist-packages (from requests>=2.21->pyconll) (2020.4.5.2)\n",
            "Requirement already satisfied: idna<3,>=2.5 in /usr/local/lib/python3.6/dist-packages (from requests>=2.21->pyconll) (2.9)\n",
            "Installing collected packages: pyconll\n",
            "Successfully installed pyconll-2.2.1\n",
            "Requirement already satisfied: pydot in /usr/local/lib/python3.6/dist-packages (1.3.0)\n",
            "Requirement already satisfied: pyparsing>=2.1.4 in /usr/local/lib/python3.6/dist-packages (from pydot) (2.4.7)\n",
            "\u001b[31mERROR: Could not find a version that satisfies the requirement graphiz (from versions: none)\u001b[0m\n",
            "\u001b[31mERROR: No matching distribution found for graphiz\u001b[0m\n",
            "Collecting bert-tensorflow\n",
            "\u001b[?25l  Downloading https://files.pythonhosted.org/packages/a6/66/7eb4e8b6ea35b7cc54c322c816f976167a43019750279a8473d355800a93/bert_tensorflow-1.0.1-py2.py3-none-any.whl (67kB)\n",
            "\u001b[K     |████████████████████████████████| 71kB 2.3MB/s \n",
            "\u001b[?25hRequirement already satisfied: six in /usr/local/lib/python3.6/dist-packages (from bert-tensorflow) (1.12.0)\n",
            "Installing collected packages: bert-tensorflow\n",
            "Successfully installed bert-tensorflow-1.0.1\n"
          ],
          "name": "stdout"
        }
      ]
    },
    {
      "cell_type": "code",
      "metadata": {
        "nbpresent": {
          "id": "f4a0e2d1-af80-44ba-a384-fab4d5d6c703"
        },
        "id": "t0D4meMMl9oV",
        "outputId": "6567b473-bdd3-42ef-fbae-0d27aaa1536e",
        "colab": {
          "base_uri": "https://localhost:8080/",
          "height": 88
        }
      },
      "source": [
        "from numpy.random import seed\n",
        "seed(1)\n",
        "from tensorflow import set_random_seed\n",
        "set_random_seed(2)\n",
        "import pyconll, keras, pickle, os, random, nltk, datetime, warnings, gc, urllib.request, zipfile, collections\n",
        "import numpy as np\n",
        "import matplotlib.pyplot as plt\n",
        "from sklearn.utils import shuffle\n",
        "from sklearn.metrics import recall_score, precision_score, classification_report, accuracy_score, confusion_matrix, f1_score\n",
        "from sklearn.metrics.classification import UndefinedMetricWarning\n",
        "\n",
        "from keras.models import Sequential, Model\n",
        "from keras.layers import Embedding, Dense, Input, concatenate, Layer, Lambda, Dropout, Activation\n",
        "from keras.callbacks import ModelCheckpoint, EarlyStopping, Callback, TensorBoard\n",
        "from keras import backend as K\n",
        "from keras.models import load_model\n",
        "from keras.utils import plot_model\n",
        "from keras.utils.np_utils import to_categorical\n",
        "\n",
        "import tensorflow as tf\n",
        "import tensorflow_hub as hub\n",
        "from bert.tokenization import FullTokenizer\n",
        "\n",
        "from tqdm import tqdm_notebook\n",
        "from IPython.display import Image \n",
        "warnings.filterwarnings(action='ignore', category=UndefinedMetricWarning)"
      ],
      "execution_count": null,
      "outputs": [
        {
          "output_type": "stream",
          "text": [
            "Using TensorFlow backend.\n",
            "/usr/local/lib/python3.6/dist-packages/sklearn/utils/deprecation.py:144: FutureWarning: The sklearn.metrics.classification module is  deprecated in version 0.22 and will be removed in version 0.24. The corresponding classes / functions should instead be imported from sklearn.metrics. Anything that cannot be imported from sklearn.metrics is now part of the private API.\n",
            "  warnings.warn(message, FutureWarning)\n"
          ],
          "name": "stderr"
        }
      ]
    },
    {
      "cell_type": "markdown",
      "metadata": {
        "nbpresent": {
          "id": "0f518892-45cc-4978-97e8-02c1fce60407"
        },
        "id": "TBZ6QBwMl9oZ"
      },
      "source": [
        "# Various plot functions"
      ]
    },
    {
      "cell_type": "code",
      "metadata": {
        "nbpresent": {
          "id": "ffc21443-9fd6-4cd3-86e1-a1a518cb6aca"
        },
        "id": "i5YCiVEel9oa"
      },
      "source": [
        "def plot_learning_curve(estimator, title, X, y, ylim=None, cv=None,\n",
        "                        n_jobs=None, train_sizes=np.linspace(.1, 1.0, 5)):\n",
        "    plt.title(title)\n",
        "    if ylim is not None:\n",
        "        plt.ylim(*ylim)\n",
        "    plt.xlabel(\"Training examples\")\n",
        "    plt.ylabel(\"Accuracy\")\n",
        "    train_sizes, train_scores, test_scores = learning_curve(\n",
        "        estimator, X, y, cv=cv, n_jobs=n_jobs, train_sizes=train_sizes, scoring='accuracy')\n",
        "    train_scores_mean = np.mean(train_scores, axis=1)\n",
        "    train_scores_std = np.std(train_scores, axis=1)\n",
        "    test_scores_mean = np.mean(test_scores, axis=1)\n",
        "    test_scores_std = np.std(test_scores, axis=1)\n",
        "    plt.grid()\n",
        "\n",
        "    plt.fill_between(train_sizes, train_scores_mean - train_scores_std,\n",
        "                     train_scores_mean + train_scores_std, alpha=0.1,\n",
        "                     color=\"r\")\n",
        "    plt.fill_between(train_sizes, test_scores_mean - test_scores_std,\n",
        "                     test_scores_mean + test_scores_std, alpha=0.1, color=\"g\")\n",
        "    plt.plot(train_sizes, train_scores_mean, 'o-', color=\"r\",\n",
        "             label=\"Training score\")\n",
        "    plt.plot(train_sizes, test_scores_mean, 'o-', color=\"g\",\n",
        "             label=\"Cross-validation score\")\n",
        "\n",
        "    plt.legend(loc=\"best\")\n",
        "    return plt"
      ],
      "execution_count": null,
      "outputs": []
    },
    {
      "cell_type": "code",
      "metadata": {
        "nbpresent": {
          "id": "aa581c97-05ee-4e34-9f9d-884ce9ba4b66"
        },
        "id": "9OKPr4lYl9ok"
      },
      "source": [
        "def plot_confusion_matrix(f1,\n",
        "                          cm,\n",
        "                          target_names,\n",
        "                          title='Confusion matrix',\n",
        "                          cmap=None,\n",
        "                          normalize=True,\n",
        "                          i=1):\n",
        "    \"\"\"\n",
        "    given a sklearn confusion matrix (cm), make a nice plot\n",
        "\n",
        "    Arguments\n",
        "    ---------\n",
        "    cm:           confusion matrix from sklearn.metrics.confusion_matrix\n",
        "\n",
        "    target_names: given classification classes such as [0, 1, 2]\n",
        "                  the class names, for example: ['high', 'medium', 'low']\n",
        "\n",
        "    title:        the text to display at the top of the matrix\n",
        "\n",
        "    cmap:         the gradient of the values displayed from matplotlib.pyplot.cm\n",
        "                  see http://matplotlib.org/examples/color/colormaps_reference.html\n",
        "                  plt.get_cmap('jet') or plt.cm.Blues\n",
        "\n",
        "    normalize:    If False, plot the raw numbers\n",
        "                  If True, plot the proportions\n",
        "\n",
        "    Usage\n",
        "    -----\n",
        "    plot_confusion_matrix(cm           = cm,                  # confusion matrix created by\n",
        "                                                              # sklearn.metrics.confusion_matrix\n",
        "                          normalize    = True,                # show proportions\n",
        "                          target_names = y_labels_vals,       # list of names of the classes\n",
        "                          title        = best_estimator_name) # title of graph\n",
        "\n",
        "    Citiation\n",
        "    ---------\n",
        "    http://scikit-learn.org/stable/auto_examples/model_selection/plot_confusion_matrix.html\n",
        "\n",
        "    \"\"\"\n",
        "    import matplotlib.pyplot as plt\n",
        "    import numpy as np\n",
        "    import itertools\n",
        "\n",
        "    accuracy = np.trace(cm) / float(np.sum(cm))\n",
        "    misclass = 1 - accuracy\n",
        "    plt.figure(figsize=(10, 6))\n",
        "    if cmap is None:\n",
        "        cmap = plt.get_cmap('Blues')\n",
        "\n",
        "    plt.imshow(cm, interpolation='nearest', cmap=cmap)\n",
        "    plt.title(title)\n",
        "    plt.colorbar()\n",
        "\n",
        "    if target_names is not None:\n",
        "        tick_marks = np.arange(len(target_names))\n",
        "        plt.xticks(tick_marks, target_names, rotation=45)\n",
        "        plt.yticks(tick_marks, target_names)\n",
        "\n",
        "    if normalize:\n",
        "        cm = cm.astype('float') / cm.sum(axis=1)[:, np.newaxis]\n",
        "\n",
        "\n",
        "    thresh = cm.max() / 1.5 if normalize else cm.max() / 2\n",
        "    for i, j in itertools.product(range(cm.shape[0]), range(cm.shape[1])):\n",
        "        if normalize:\n",
        "            plt.text(j, i, \"{:0.4f}\".format(cm[i, j]),\n",
        "                     horizontalalignment=\"center\",\n",
        "                     color=\"white\" if cm[i, j] > thresh else \"black\")\n",
        "        else:\n",
        "            plt.text(j, i, \"{:,}\".format(cm[i, j]),\n",
        "                     horizontalalignment=\"center\",\n",
        "                     color=\"white\" if cm[i, j] > thresh else \"black\")\n",
        "\n",
        "\n",
        "    plt.tight_layout()\n",
        "    plt.ylabel('True label')\n",
        "    plt.xlabel('Predicted label\\naccuracy={:0.4f}; misclass={:0.4f}; f1-score={:0.4f}'.format(accuracy, misclass, f1))"
      ],
      "execution_count": null,
      "outputs": []
    },
    {
      "cell_type": "code",
      "metadata": {
        "nbpresent": {
          "id": "7626f765-a0ca-4230-b9b4-5aea4c185273"
        },
        "id": "9-KhYW3Xl9os"
      },
      "source": [
        "def plot_acc():\n",
        "    plt.plot(history.history['acc'])\n",
        "    plt.plot(history.history['val_acc'])\n",
        "    plt.title('model accuracy')\n",
        "    plt.ylabel('accuracy')\n",
        "    plt.xlabel('epoch')\n",
        "    plt.legend(['train', 'test'], loc='upper left')\n",
        "    plt.show()"
      ],
      "execution_count": null,
      "outputs": []
    },
    {
      "cell_type": "code",
      "metadata": {
        "nbpresent": {
          "id": "4afdbba0-cb73-4bdc-97f7-3cbdd2d19079"
        },
        "scrolled": false,
        "id": "jQS_KTUYl9o5"
      },
      "source": [
        "def plot_loss():\n",
        "    plt.plot(history.history['loss'])\n",
        "    plt.plot(history.history['val_loss'])\n",
        "    plt.title('model loss')\n",
        "    plt.ylabel('loss')\n",
        "    plt.xlabel('epoch')\n",
        "    plt.legend(['train', 'test'], loc='upper left')\n",
        "    plt.show()"
      ],
      "execution_count": null,
      "outputs": []
    },
    {
      "cell_type": "markdown",
      "metadata": {
        "nbpresent": {
          "id": "1585e7f9-881f-46fe-a1e8-ca970e292167"
        },
        "id": "D9P5ayVdl9o-"
      },
      "source": [
        "# Load Dataset"
      ]
    },
    {
      "cell_type": "code",
      "metadata": {
        "nbpresent": {
          "id": "75d32121-1074-4cd6-8355-599afeff56db"
        },
        "id": "umARnbUBl9o_"
      },
      "source": [
        "UD_ENGLISH_TRAIN = 'en_partut-ud-train.conllu'\n",
        "UD_ENGLISH_DEV = 'en_partut-ud-dev.conllu'\n",
        "UD_ENGLISH_TEST = 'en_partut-ud-test.conllu'"
      ],
      "execution_count": null,
      "outputs": []
    },
    {
      "cell_type": "code",
      "metadata": {
        "nbpresent": {
          "id": "2eb0b136-1052-4d48-8a66-48b5ebc96ff8"
        },
        "id": "7fRO6dhZl9pH"
      },
      "source": [
        "def download_files():\n",
        "    print('Downloading English treebank...')\n",
        "    urllib.request.urlretrieve('http://archive.aueb.gr:8085/files/en_partut-ud-dev.conllu', 'en_partut-ud-dev.conllu')\n",
        "    urllib.request.urlretrieve('http://archive.aueb.gr:8085/files/en_partut-ud-test.conllu', 'en_partut-ud-test.conllu')\n",
        "    urllib.request.urlretrieve('http://archive.aueb.gr:8085/files/en_partut-ud-train.conllu', 'en_partut-ud-train.conllu')\n",
        "    print('Treebank downloaded.')"
      ],
      "execution_count": null,
      "outputs": []
    },
    {
      "cell_type": "code",
      "metadata": {
        "nbpresent": {
          "id": "4e617ca6-4cce-42a0-9396-28b9d704df73"
        },
        "id": "Y8eDUo4ql9pK",
        "outputId": "6fb9ed57-7a5a-45cc-9362-28f8af6bdfd4",
        "colab": {
          "base_uri": "https://localhost:8080/",
          "height": 51
        }
      },
      "source": [
        "download_files()"
      ],
      "execution_count": null,
      "outputs": [
        {
          "output_type": "stream",
          "text": [
            "Downloading English treebank...\n",
            "Treebank downloaded.\n"
          ],
          "name": "stdout"
        }
      ]
    },
    {
      "cell_type": "markdown",
      "metadata": {
        "nbpresent": {
          "id": "43c9097b-37be-4f3d-b3d3-4a54a94c1174"
        },
        "id": "eH29g9h7l9pQ"
      },
      "source": [
        "# Preprocessing"
      ]
    },
    {
      "cell_type": "code",
      "metadata": {
        "nbpresent": {
          "id": "016836bb-abb2-4235-ab21-df90a6e1e44e"
        },
        "id": "JQZpERmel9pT"
      },
      "source": [
        "def read_conllu(path):\n",
        "    data = pyconll.load_from_file(path)\n",
        "    tagged_sentences=[]\n",
        "    t=0\n",
        "    for sentence in data:\n",
        "        tagged_sentence=[]\n",
        "        for token in sentence:\n",
        "            if token.upos and token.form:\n",
        "                t+=1\n",
        "                tagged_sentence.append((token.form.lower(), token.upos))\n",
        "        tagged_sentences.append(tagged_sentence)\n",
        "    return tagged_sentences"
      ],
      "execution_count": null,
      "outputs": []
    },
    {
      "cell_type": "markdown",
      "metadata": {
        "nbpresent": {
          "id": "11bff856-f685-49ef-a4e6-b5f2a768a9ad"
        },
        "id": "PW5Ygz57l9pX"
      },
      "source": [
        "Load train, development and test set in the appropriate tagged format, tuple (word, pos-tag)"
      ]
    },
    {
      "cell_type": "code",
      "metadata": {
        "nbpresent": {
          "id": "fc49598b-75d3-45e9-9fa3-a7b604234760"
        },
        "id": "84FFpFWwl9pZ"
      },
      "source": [
        "train_sentences = read_conllu(UD_ENGLISH_TRAIN)\n",
        "val_sentences = read_conllu(UD_ENGLISH_DEV)\n",
        "test_sentences = read_conllu(UD_ENGLISH_TEST)"
      ],
      "execution_count": null,
      "outputs": []
    },
    {
      "cell_type": "markdown",
      "metadata": {
        "nbpresent": {
          "id": "3f72d1da-c1d1-4e25-a782-e12a66f1cedf"
        },
        "id": "bFdbum17l9pf"
      },
      "source": [
        "Print some statistics"
      ]
    },
    {
      "cell_type": "code",
      "metadata": {
        "nbpresent": {
          "id": "57ee9c67-7ec6-4054-91bc-a9aa896ba18a"
        },
        "id": "A1VKbu92l9pf",
        "outputId": "f193148d-a915-43fe-d23b-0638de7317e0",
        "colab": {
          "base_uri": "https://localhost:8080/",
          "height": 187
        }
      },
      "source": [
        "print(\"Tagged sentences in train set: \", len(train_sentences))\n",
        "print(\"Tagged words in train set:\", len([item for sublist in train_sentences for item in sublist]))\n",
        "print(40*'=')\n",
        "print(\"Tagged sentences in dev set: \", len(val_sentences))\n",
        "print(\"Tagged words in dev set:\", len([item for sublist in val_sentences for item in sublist]))\n",
        "print(40*'=')\n",
        "print(\"Tagged sentences in test set: \", len(test_sentences))\n",
        "print(\"Tagged words in test set:\", len([item for sublist in test_sentences for item in sublist]))\n",
        "print(40*'*')\n",
        "print(\"Total sentences in dataset:\", len(train_sentences)+len(val_sentences)+len(test_sentences))"
      ],
      "execution_count": null,
      "outputs": [
        {
          "output_type": "stream",
          "text": [
            "Tagged sentences in train set:  1781\n",
            "Tagged words in train set: 43518\n",
            "========================================\n",
            "Tagged sentences in dev set:  156\n",
            "Tagged words in dev set: 2722\n",
            "========================================\n",
            "Tagged sentences in test set:  153\n",
            "Tagged words in test set: 3408\n",
            "****************************************\n",
            "Total sentences in dataset: 2090\n"
          ],
          "name": "stdout"
        }
      ]
    },
    {
      "cell_type": "code",
      "metadata": {
        "nbpresent": {
          "id": "eb97895a-d649-4318-b3ac-d7d6b6088a12"
        },
        "id": "BRTviaaTl9pm",
        "outputId": "25aa12ee-29cd-4ed7-ca17-4b2b9739d8d6",
        "colab": {
          "base_uri": "https://localhost:8080/",
          "height": 54
        }
      },
      "source": [
        "print(train_sentences[0])"
      ],
      "execution_count": null,
      "outputs": [
        {
          "output_type": "stream",
          "text": [
            "[('distribution', 'NOUN'), ('of', 'ADP'), ('this', 'DET'), ('license', 'NOUN'), ('does', 'AUX'), ('not', 'PART'), ('create', 'VERB'), ('an', 'DET'), ('attorney', 'NOUN'), ('-', 'PUNCT'), ('client', 'NOUN'), ('relationship', 'NOUN'), ('.', 'PUNCT')]\n"
          ],
          "name": "stdout"
        }
      ]
    },
    {
      "cell_type": "code",
      "metadata": {
        "nbpresent": {
          "id": "573e2ec4-2df3-49f2-913d-3d0af2d6dc36"
        },
        "id": "PjnQ5TjPl9pq"
      },
      "source": [
        "# Some usefull functions\n",
        "def tag_sequence(sentences):\n",
        "    return [[t for w, t in sentence] for sentence in sentences]\n",
        "\n",
        "def text_sequence(sentences):\n",
        "    return [[w for w, t in sentence] for sentence in sentences]"
      ],
      "execution_count": null,
      "outputs": []
    },
    {
      "cell_type": "markdown",
      "metadata": {
        "nbpresent": {
          "id": "533dd9e2-9e0e-43c1-8d13-b096a81a8984"
        },
        "id": "B9Ck51pll9pv"
      },
      "source": [
        "# Build dictionary with tag vocabulary"
      ]
    },
    {
      "cell_type": "code",
      "metadata": {
        "id": "yhiqyLWxl9pw",
        "outputId": "d0ca04d5-1226-49d6-8260-c1d0300446fa",
        "colab": {
          "base_uri": "https://localhost:8080/",
          "height": 34
        }
      },
      "source": [
        "tags = set([item for sublist in train_sentences+test_sentences+val_sentences for _, item in sublist])\n",
        "print('TOTAL TAGS: ', len(tags))"
      ],
      "execution_count": null,
      "outputs": [
        {
          "output_type": "stream",
          "text": [
            "TOTAL TAGS:  17\n"
          ],
          "name": "stdout"
        }
      ]
    },
    {
      "cell_type": "markdown",
      "metadata": {
        "id": "XJsZeixXl9p2"
      },
      "source": [
        "Add '-PAD-' tag with index=0 as used in BERT code"
      ]
    },
    {
      "cell_type": "code",
      "metadata": {
        "nbpresent": {
          "id": "98944f66-c2ae-4b29-ba01-99287044a815"
        },
        "id": "1tnFEybLl9p3"
      },
      "source": [
        "tag2int = {}\n",
        "int2tag = {}\n",
        "\n",
        "for i, tag in enumerate(sorted(tags)):\n",
        "    tag2int[tag] = i+1\n",
        "    int2tag[i+1] = tag"
      ],
      "execution_count": null,
      "outputs": []
    },
    {
      "cell_type": "code",
      "metadata": {
        "nbpresent": {
          "id": "a935a8bd-0522-42a1-8fea-285b671df0b8"
        },
        "id": "UOV7yaIGl9p8"
      },
      "source": [
        "# Special character for the tags\n",
        "tag2int['-PAD-'] = 0\n",
        "int2tag[0] = '-PAD-'"
      ],
      "execution_count": null,
      "outputs": []
    },
    {
      "cell_type": "code",
      "metadata": {
        "nbpresent": {
          "id": "3e55930b-4268-4b18-a7c7-de6675cdcc01"
        },
        "id": "AiEm5R4Fl9qB",
        "outputId": "2cec2a67-6d59-47b7-a0b9-0a0662c6731e",
        "colab": {
          "base_uri": "https://localhost:8080/",
          "height": 34
        }
      },
      "source": [
        "n_tags = len(tag2int)\n",
        "print('Total tags:', n_tags)"
      ],
      "execution_count": null,
      "outputs": [
        {
          "output_type": "stream",
          "text": [
            "Total tags: 18\n"
          ],
          "name": "stdout"
        }
      ]
    },
    {
      "cell_type": "code",
      "metadata": {
        "id": "zDyqI6sLl9qH",
        "outputId": "394a59b4-25e4-4e4b-c091-086dbcb414ae",
        "colab": {
          "base_uri": "https://localhost:8080/",
          "height": 323
        }
      },
      "source": [
        "list(tag2int)"
      ],
      "execution_count": null,
      "outputs": [
        {
          "output_type": "execute_result",
          "data": {
            "text/plain": [
              "['ADJ',\n",
              " 'ADP',\n",
              " 'ADV',\n",
              " 'AUX',\n",
              " 'CCONJ',\n",
              " 'DET',\n",
              " 'INTJ',\n",
              " 'NOUN',\n",
              " 'NUM',\n",
              " 'PART',\n",
              " 'PRON',\n",
              " 'PROPN',\n",
              " 'PUNCT',\n",
              " 'SCONJ',\n",
              " 'SYM',\n",
              " 'VERB',\n",
              " 'X',\n",
              " '-PAD-']"
            ]
          },
          "metadata": {
            "tags": []
          },
          "execution_count": 19
        }
      ]
    },
    {
      "cell_type": "markdown",
      "metadata": {
        "nbpresent": {
          "id": "6d6c1924-4661-4d3c-a446-ce81c05f9b71"
        },
        "id": "LMFsVVCkl9qK"
      },
      "source": [
        "======================================================================================================="
      ]
    },
    {
      "cell_type": "markdown",
      "metadata": {
        "nbpresent": {
          "id": "0b2c54e8-30d1-4f19-b03e-533a9e27b069"
        },
        "id": "7AtyNi9Xl9qK"
      },
      "source": [
        "# Parameters"
      ]
    },
    {
      "cell_type": "code",
      "metadata": {
        "nbpresent": {
          "id": "5a212b96-46c2-4147-9dba-9eea08757f36"
        },
        "id": "uzdJ2iHJl9qL"
      },
      "source": [
        "MAX_SEQUENCE_LENGTH = 70\n",
        "EPOCHS = 30"
      ],
      "execution_count": null,
      "outputs": []
    },
    {
      "cell_type": "markdown",
      "metadata": {
        "nbpresent": {
          "id": "e1ee0fe5-a699-487d-9d36-b0342bc17d79"
        },
        "id": "Z-mNBO7dl9qO"
      },
      "source": [
        "# Special preprocessing for NNs"
      ]
    },
    {
      "cell_type": "markdown",
      "metadata": {
        "nbpresent": {
          "id": "e2fff7c1-9822-4192-95b8-6721acef446f"
        },
        "id": "ZqCL6Gbml9qP"
      },
      "source": [
        "### This is a very importand step for the whole process! So be careful, to rerun this step in case you change one of the following parameters:\n",
        "- MAX_SEQUENCE_LENGTH"
      ]
    },
    {
      "cell_type": "code",
      "metadata": {
        "nbpresent": {
          "id": "12c47160-79d6-42d8-822d-e2d958e9ccb2"
        },
        "id": "exIQvinnl9qQ"
      },
      "source": [
        "train_sentences = read_conllu(UD_ENGLISH_TRAIN)\n",
        "val_sentences = read_conllu(UD_ENGLISH_DEV)\n",
        "test_sentences = read_conllu(UD_ENGLISH_TEST)"
      ],
      "execution_count": null,
      "outputs": []
    },
    {
      "cell_type": "markdown",
      "metadata": {
        "nbpresent": {
          "id": "f67342ab-29db-4565-8912-1a7efb49f808"
        },
        "id": "kFng7Loxl9qW"
      },
      "source": [
        "Lets examine the train set sentences distribution:"
      ]
    },
    {
      "cell_type": "code",
      "metadata": {
        "nbpresent": {
          "id": "844de2c1-e861-45db-8bc0-4e1f47724a95"
        },
        "id": "H5DzR8Prl9qX",
        "outputId": "e629abff-7909-493b-df13-b1204198cac7",
        "colab": {
          "base_uri": "https://localhost:8080/"
        }
      },
      "source": [
        "import matplotlib.pyplot as plt\n",
        "plt.style.use(\"ggplot\")\n",
        "plt.hist([len(s) for s in train_sentences], bins=50)\n",
        "plt.show()"
      ],
      "execution_count": null,
      "outputs": [
        {
          "output_type": "display_data",
          "data": {
            "image/png": "[encoded data removed]",
            "text/plain": [
              "<Figure size 432x288 with 1 Axes>"
            ]
          },
          "metadata": {
            "tags": []
          }
        }
      ]
    },
    {
      "cell_type": "code",
      "metadata": {
        "nbpresent": {
          "id": "d9a2a74a-dff8-4dce-a9d2-b251e8a33976"
        },
        "id": "-Cdd7Cdal9qb",
        "outputId": "87f01ae9-c2f1-4486-cab3-ee06a8903126",
        "colab": {
          "base_uri": "https://localhost:8080/"
        }
      },
      "source": [
        "print('Max sentence length:',len(max(train_sentences+val_sentences, key=len)))"
      ],
      "execution_count": null,
      "outputs": [
        {
          "output_type": "stream",
          "text": [
            "Max sentence length: 209\n"
          ],
          "name": "stdout"
        }
      ]
    },
    {
      "cell_type": "markdown",
      "metadata": {
        "nbpresent": {
          "id": "0bff7138-d0ee-43b8-82ae-8d577b6e18f1"
        },
        "id": "fHS7uVG6l9qf"
      },
      "source": [
        "To improve speed we will use a MAX_SEQUENCE_LENGTH shorter than the max lengthed sentence. To avoid truncating sequences during padding we split our sentences to MAX_SEQUENCE_LENGTH and so the number of samples increases accordingly. For example, if MAX_SEQUENCE_LENGTH=70, a sentence with length 150 splits in 3 sentences: 150=70+70+10"
      ]
    },
    {
      "cell_type": "code",
      "metadata": {
        "nbpresent": {
          "id": "6b60d427-a8d8-4bb7-ad74-6b890098b6f7"
        },
        "id": "9Grw7EQrl9qf"
      },
      "source": [
        "def  split(sentences, max):\n",
        "    new=[]\n",
        "    for data in sentences:\n",
        "        new.append(([data[x:x+max] for x in range(0, len(data), max)]))\n",
        "    new = [val for sublist in new for val in sublist]\n",
        "    return new"
      ],
      "execution_count": null,
      "outputs": []
    },
    {
      "cell_type": "code",
      "metadata": {
        "nbpresent": {
          "id": "067299e9-7857-445b-99dd-1df2ddd4d740"
        },
        "id": "zOxjXE8bl9qm"
      },
      "source": [
        "train_sentences = split(train_sentences, MAX_SEQUENCE_LENGTH)\n",
        "val_sentences = split(val_sentences, MAX_SEQUENCE_LENGTH)\n",
        "test_sentences = split(test_sentences, MAX_SEQUENCE_LENGTH)"
      ],
      "execution_count": null,
      "outputs": []
    },
    {
      "cell_type": "code",
      "metadata": {
        "nbpresent": {
          "id": "b180dbde-a00e-4f4b-aad7-33b0b31ad693"
        },
        "id": "b2DozrXUl9qq",
        "outputId": "1b6ba591-136a-4c62-e249-d00eafc50887",
        "colab": {
          "base_uri": "https://localhost:8080/"
        }
      },
      "source": [
        "len(max(train_sentences+val_sentences, key=len))"
      ],
      "execution_count": null,
      "outputs": [
        {
          "output_type": "execute_result",
          "data": {
            "text/plain": [
              "70"
            ]
          },
          "metadata": {
            "tags": []
          },
          "execution_count": 26
        }
      ]
    },
    {
      "cell_type": "code",
      "metadata": {
        "id": "QWhvodoFl9qt"
      },
      "source": [
        "train_sentences = train_sentences + val_sentences"
      ],
      "execution_count": null,
      "outputs": []
    },
    {
      "cell_type": "markdown",
      "metadata": {
        "nbpresent": {
          "id": "bf4abb0c-ba12-4be4-918d-06172bc011f1"
        },
        "id": "B7iK02ngl9qx"
      },
      "source": [
        "# BERT implementation"
      ]
    },
    {
      "cell_type": "code",
      "metadata": {
        "nbpresent": {
          "id": "b2e4df36-f6ed-4961-b2d2-540fcbf651fd"
        },
        "id": "vBLRBWrTl9qy"
      },
      "source": [
        "# Initialize session\n",
        "sess = tf.Session()\n",
        "# Params for bert model and tokenization\n",
        "bert_path = \"https://tfhub.dev/google/bert_uncased_L-12_H-768_A-12/1\""
      ],
      "execution_count": null,
      "outputs": []
    },
    {
      "cell_type": "code",
      "metadata": {
        "nbpresent": {
          "id": "81781553-5840-4539-8e31-ebf941647e22"
        },
        "id": "BcF-DoEpl9q4"
      },
      "source": [
        "train_text = text_sequence(train_sentences)\n",
        "test_text = text_sequence(test_sentences)\n",
        "#val_text = text_sequence(val_sentences)\n",
        "\n",
        "train_label = tag_sequence(train_sentences)\n",
        "test_label= tag_sequence(test_sentences)\n",
        "#val_label= tag_sequence(val_sentences)"
      ],
      "execution_count": null,
      "outputs": []
    },
    {
      "cell_type": "code",
      "metadata": {
        "id": "_37Rgsyfl9q8",
        "outputId": "f1003482-047e-4a02-a9cd-6386684859cf",
        "colab": {
          "base_uri": "https://localhost:8080/",
          "height": 34
        }
      },
      "source": [
        "len(train_text)"
      ],
      "execution_count": null,
      "outputs": [
        {
          "output_type": "execute_result",
          "data": {
            "text/plain": [
              "1951"
            ]
          },
          "metadata": {
            "tags": []
          },
          "execution_count": 30
        }
      ]
    },
    {
      "cell_type": "code",
      "metadata": {
        "scrolled": true,
        "id": "XUGnRWX9l9rA",
        "outputId": "fa1d10dc-4118-4bcb-8d25-abe95ae14193",
        "colab": {
          "base_uri": "https://localhost:8080/",
          "height": 459
        }
      },
      "source": [
        "train_text[0], train_label[0]"
      ],
      "execution_count": null,
      "outputs": [
        {
          "output_type": "execute_result",
          "data": {
            "text/plain": [
              "(['distribution',\n",
              "  'of',\n",
              "  'this',\n",
              "  'license',\n",
              "  'does',\n",
              "  'not',\n",
              "  'create',\n",
              "  'an',\n",
              "  'attorney',\n",
              "  '-',\n",
              "  'client',\n",
              "  'relationship',\n",
              "  '.'],\n",
              " ['NOUN',\n",
              "  'ADP',\n",
              "  'DET',\n",
              "  'NOUN',\n",
              "  'AUX',\n",
              "  'PART',\n",
              "  'VERB',\n",
              "  'DET',\n",
              "  'NOUN',\n",
              "  'PUNCT',\n",
              "  'NOUN',\n",
              "  'NOUN',\n",
              "  'PUNCT'])"
            ]
          },
          "metadata": {
            "tags": []
          },
          "execution_count": 31
        }
      ]
    },
    {
      "cell_type": "markdown",
      "metadata": {
        "id": "izItVWW0l9rE"
      },
      "source": [
        "# Functions used for BERT representation"
      ]
    },
    {
      "cell_type": "code",
      "metadata": {
        "nbpresent": {
          "id": "1165aa8f-9bd2-48d7-8ad2-3109c960334f"
        },
        "id": "cTp5QQi0l9rE"
      },
      "source": [
        "class PaddingInputExample(object):\n",
        "    \"\"\"Fake example so the num input examples is a multiple of the batch size.\n",
        "  When running eval/predict on the TPU, we need to pad the number of examples\n",
        "  to be a multiple of the batch size, because the TPU requires a fixed batch\n",
        "  size. The alternative is to drop the last batch, which is bad because it means\n",
        "  the entire output data won't be generated.\n",
        "  We use this class instead of `None` because treating `None` as padding\n",
        "  battches could cause silent errors.\n",
        "  \"\"\"\n",
        "\n",
        "class InputExample(object):\n",
        "    \"\"\"A single training/test example for simple sequence classification.\"\"\"\n",
        "\n",
        "    def __init__(self, guid, text_a, text_b=None, label=None):\n",
        "        \"\"\"Constructs a InputExample.\n",
        "    Args:\n",
        "      guid: Unique id for the example.\n",
        "      text_a: string. The untokenized text of the first sequence. For single\n",
        "        sequence tasks, only this sequence must be specified.\n",
        "      text_b: (Optional) string. The untokenized text of the second sequence.\n",
        "        Only must be specified for sequence pair tasks.\n",
        "      label: (Optional) string. The label of the example. This should be\n",
        "        specified for train and dev examples, but not for test examples.\n",
        "    \"\"\"\n",
        "        self.guid = guid\n",
        "        self.text_a = text_a\n",
        "        self.text_b = text_b\n",
        "        self.label = label\n",
        "\n",
        "def create_tokenizer_from_hub_module():\n",
        "    \"\"\"Get the vocab file and casing info from the Hub module.\"\"\"\n",
        "    bert_module =  hub.Module(bert_path)\n",
        "    tokenization_info = bert_module(signature=\"tokenization_info\", as_dict=True)\n",
        "    vocab_file, do_lower_case = sess.run(\n",
        "        [\n",
        "            tokenization_info[\"vocab_file\"],\n",
        "            tokenization_info[\"do_lower_case\"],\n",
        "        ]\n",
        "    )\n",
        "\n",
        "    return FullTokenizer(vocab_file=vocab_file, do_lower_case=do_lower_case)\n",
        "\n",
        "def convert_single_example(tokenizer, example, max_seq_length=256):\n",
        "    \"\"\"Converts a single `InputExample` into a single `InputFeatures`.\"\"\"\n",
        "\n",
        "    if isinstance(example, PaddingInputExample):\n",
        "        input_ids = [0] * max_seq_length\n",
        "        input_mask = [0] * max_seq_length\n",
        "        segment_ids = [0] * max_seq_length\n",
        "        label_ids = [0] * max_seq_length\n",
        "        return input_ids, input_mask, segment_ids, label_ids\n",
        "    \n",
        "    tokens_a = example.text_a\n",
        "    if len(tokens_a) > max_seq_length-2:\n",
        "        tokens_a = tokens_a[0 : (max_seq_length-2)]\n",
        "\n",
        "# Token map will be an int -> int mapping between the `orig_tokens` index and\n",
        "# the `bert_tokens` index.\n",
        "\n",
        "# bert_tokens == [\"[CLS]\", \"john\", \"johan\", \"##son\", \"'\", \"s\", \"house\", \"[SEP]\"]\n",
        "# orig_to_tok_map == [1, 2, 4, 6]   \n",
        "    orig_to_tok_map = []              \n",
        "    tokens = []\n",
        "    segment_ids = []\n",
        "    \n",
        "    tokens.append(\"[CLS]\")\n",
        "    segment_ids.append(0)\n",
        "    orig_to_tok_map.append(len(tokens)-1)\n",
        "    #print(len(tokens_a))\n",
        "    for token in tokens_a:       \n",
        "        tokens.extend(tokenizer.tokenize(token))\n",
        "        orig_to_tok_map.append(len(tokens)-1)\n",
        "        segment_ids.append(0)\n",
        "    tokens.append(\"[SEP]\")\n",
        "    segment_ids.append(0)\n",
        "    orig_to_tok_map.append(len(tokens)-1)\n",
        "    input_ids = tokenizer.convert_tokens_to_ids([tokens[i] for i in orig_to_tok_map])\n",
        "    #print(len(orig_to_tok_map), len(tokens), len(input_ids), len(segment_ids)) #for debugging\n",
        "\n",
        "    # The mask has 1 for real tokens and 0 for padding tokens. Only real\n",
        "    # tokens are attended to.\n",
        "    input_mask = [1] * len(input_ids)\n",
        "    \n",
        "    label_ids = []\n",
        "    labels = example.label\n",
        "    label_ids.append(0)\n",
        "    label_ids.extend([tag2int[label] for label in labels])\n",
        "    label_ids.append(0)\n",
        "    #print(len(label_ids)) #for debugging\n",
        "    # Zero-pad up to the sequence length.\n",
        "    while len(input_ids) < max_seq_length:\n",
        "        input_ids.append(0)\n",
        "        input_mask.append(0)\n",
        "        segment_ids.append(0)\n",
        "        label_ids.append(0)\n",
        "\n",
        "    assert len(input_ids) == max_seq_length\n",
        "    assert len(input_mask) == max_seq_length\n",
        "    assert len(segment_ids) == max_seq_length\n",
        "    assert len(label_ids) == max_seq_length\n",
        "\n",
        "    return input_ids, input_mask, segment_ids, label_ids\n",
        "\n",
        "def convert_examples_to_features(tokenizer, examples, max_seq_length=256):\n",
        "    \"\"\"Convert a set of `InputExample`s to a list of `InputFeatures`.\"\"\"\n",
        "\n",
        "    input_ids, input_masks, segment_ids, labels = [], [], [], []\n",
        "    for example in tqdm_notebook(examples, desc=\"Converting examples to features\"):\n",
        "        input_id, input_mask, segment_id, label = convert_single_example(\n",
        "            tokenizer, example, max_seq_length\n",
        "        )\n",
        "        input_ids.append(input_id)\n",
        "        input_masks.append(input_mask)\n",
        "        segment_ids.append(segment_id)\n",
        "        labels.append(label)\n",
        "    return (\n",
        "        np.array(input_ids),\n",
        "        np.array(input_masks),\n",
        "        np.array(segment_ids),\n",
        "        np.array(labels),\n",
        "    )\n",
        "\n",
        "def convert_text_to_examples(texts, labels):\n",
        "    \"\"\"Create InputExamples\"\"\"\n",
        "    InputExamples = []\n",
        "    for text, label in zip(texts, labels):\n",
        "        InputExamples.append(\n",
        "            InputExample(guid=None, text_a=text, text_b=None, label=label)\n",
        "        )\n",
        "    return InputExamples"
      ],
      "execution_count": null,
      "outputs": []
    },
    {
      "cell_type": "code",
      "metadata": {
        "nbpresent": {
          "id": "c5d22fdb-2f46-44b2-9962-cea0cc6927a8"
        },
        "id": "y0ByWaSxl9rL",
        "outputId": "f2faaa91-bcd3-4fe8-d0f4-e0f921ccc008",
        "colab": {
          "base_uri": "https://localhost:8080/",
          "height": 139
        }
      },
      "source": [
        "# Instantiate tokenizer\n",
        "tokenizer = create_tokenizer_from_hub_module()"
      ],
      "execution_count": null,
      "outputs": [
        {
          "output_type": "stream",
          "text": [
            "INFO:tensorflow:Saver not created because there are no variables in the graph to restore\n"
          ],
          "name": "stdout"
        },
        {
          "output_type": "stream",
          "text": [
            "INFO:tensorflow:Saver not created because there are no variables in the graph to restore\n"
          ],
          "name": "stderr"
        },
        {
          "output_type": "stream",
          "text": [
            "WARNING:tensorflow:From /usr/local/lib/python3.6/dist-packages/bert/tokenization.py:125: The name tf.gfile.GFile is deprecated. Please use tf.io.gfile.GFile instead.\n",
            "\n"
          ],
          "name": "stdout"
        },
        {
          "output_type": "stream",
          "text": [
            "WARNING:tensorflow:From /usr/local/lib/python3.6/dist-packages/bert/tokenization.py:125: The name tf.gfile.GFile is deprecated. Please use tf.io.gfile.GFile instead.\n",
            "\n"
          ],
          "name": "stderr"
        }
      ]
    },
    {
      "cell_type": "markdown",
      "metadata": {
        "id": "cBd6zhhzl9rO"
      },
      "source": [
        "## Alignment code (token -> tag)"
      ]
    },
    {
      "cell_type": "markdown",
      "metadata": {
        "id": "4fEJxpuql9rP"
      },
      "source": [
        "Following suggestions from WordPiece tokenization part in https://github.com/google-research/bert, for POS tagging task, input sentences are converted to the following format:"
      ]
    },
    {
      "cell_type": "code",
      "metadata": {
        "id": "PGh21g2fl9rQ"
      },
      "source": [
        "# orig_tokens = [\"John\", \"Johanson\", \"'s\",  \"house\"]\n",
        "# labels      = [\"NNP\",  \"NNP\",      \"POS\", \"NN\"]\n",
        "# bert_tokens = ['[CLS]\", \"john\", \"johan\", \"##son\", \"'\",   \"s\",  \"house\", \"[SEP]\"]\n",
        "# bert_labels = ['[CLS]\", \"NNP\",  \"NNP\",   \"##\",    \"POS\", \"##\", \"NN\",    \"[SEP]\"] "
      ],
      "execution_count": null,
      "outputs": []
    },
    {
      "cell_type": "markdown",
      "metadata": {
        "id": "ZArPtrk1l9rV"
      },
      "source": [
        "So, due to **Wordpiece** tokenizer we must take special care for the correct alignment of token to tag. This is done in function *convert_single_example(tokenizer, example, max_seq_length=256)* with the following piece of code:"
      ]
    },
    {
      "cell_type": "code",
      "metadata": {
        "id": "FPu0I1AQl9rW"
      },
      "source": [
        "def bert_labels(labels):\n",
        "    train_label_bert = []\n",
        "    train_label_bert.append('-PAD-')\n",
        "    for i in labels:\n",
        "        train_label_bert.append(i)\n",
        "    train_label_bert.append('-PAD-')\n",
        "    print('BERT labels:', train_label_bert)    "
      ],
      "execution_count": null,
      "outputs": []
    },
    {
      "cell_type": "code",
      "metadata": {
        "id": "FYKDTtTHl9rd"
      },
      "source": [
        "tokens_a = train_text[2]"
      ],
      "execution_count": null,
      "outputs": []
    },
    {
      "cell_type": "code",
      "metadata": {
        "id": "cbS1ej3Xl9rj"
      },
      "source": [
        "orig_to_tok_map = []              \n",
        "tokens = []\n",
        "segment_ids = []\n",
        "tokens.append(\"[CLS]\")\n",
        "segment_ids.append(0)\n",
        "orig_to_tok_map.append(len(tokens)-1)\n",
        "for token in tokens_a:\n",
        "    #orig_to_tok_map.append(len(tokens)) # keep first piece of tokenized term\n",
        "    tokens.extend(tokenizer.tokenize(token))\n",
        "    orig_to_tok_map.append(len(tokens)-1) # # keep last piece of tokenized term -->> gives better results!\n",
        "    segment_ids.append(0)\n",
        "tokens.append(\"[SEP]\")\n",
        "segment_ids.append(0)\n",
        "orig_to_tok_map.append(len(tokens)-1)\n",
        "input_ids = tokenizer.convert_tokens_to_ids([tokens[i] for i in orig_to_tok_map])"
      ],
      "execution_count": null,
      "outputs": []
    },
    {
      "cell_type": "code",
      "metadata": {
        "nbpresent": {
          "id": "b31bd2f4-6a3b-4836-888a-5362ebdbc492"
        },
        "id": "g11xkdfFl9rs",
        "outputId": "2c53d7f4-085a-49ff-fb5f-fdab00a1454b",
        "colab": {
          "base_uri": "https://localhost:8080/"
        }
      },
      "source": [
        "print('Original tokens:',tokens_a)"
      ],
      "execution_count": null,
      "outputs": [
        {
          "output_type": "stream",
          "text": [
            "Original tokens: ['creative', 'commons', 'makes', 'no', 'warranties', 'regarding', 'the', 'information', 'provided', ',', 'and', 'disclaims', 'liability', 'for', 'damages', 'resulting', 'from', 'its', 'use', '.']\n"
          ],
          "name": "stdout"
        }
      ]
    },
    {
      "cell_type": "code",
      "metadata": {
        "nbpresent": {
          "id": "b31bd2f4-6a3b-4836-888a-5362ebdbc492"
        },
        "id": "iMxyiKv0l9rx",
        "outputId": "6092358b-95ef-4dc7-e844-68224f88e1e1",
        "colab": {
          "base_uri": "https://localhost:8080/"
        }
      },
      "source": [
        "print('BERT tokens:',tokens)"
      ],
      "execution_count": null,
      "outputs": [
        {
          "output_type": "stream",
          "text": [
            "BERT tokens: ['[CLS]', 'creative', 'commons', 'makes', 'no', 'warrant', '##ies', 'regarding', 'the', 'information', 'provided', ',', 'and', 'disc', '##lai', '##ms', 'liability', 'for', 'damages', 'resulting', 'from', 'its', 'use', '.', '[SEP]']\n"
          ],
          "name": "stdout"
        }
      ]
    },
    {
      "cell_type": "code",
      "metadata": {
        "id": "HjKDJCbLl9r8",
        "outputId": "e2bdb92e-a156-4ac2-95cd-5e98ae2c7676",
        "colab": {
          "base_uri": "https://localhost:8080/"
        }
      },
      "source": [
        "bert_labels(train_label[2])"
      ],
      "execution_count": null,
      "outputs": [
        {
          "output_type": "stream",
          "text": [
            "BERT labels: ['-PAD-', 'PROPN', 'PROPN', 'VERB', 'DET', 'NOUN', 'VERB', 'DET', 'NOUN', 'VERB', 'PUNCT', 'CCONJ', 'VERB', 'NOUN', 'ADP', 'NOUN', 'VERB', 'ADP', 'DET', 'NOUN', 'PUNCT', '-PAD-']\n"
          ],
          "name": "stdout"
        }
      ]
    },
    {
      "cell_type": "markdown",
      "metadata": {
        "id": "9PWjjcG2l9sB"
      },
      "source": [
        "So the allignment 'warranties' -> 'NOUN' becomes after alligning '##ies' -> 'NOUN'\n",
        "We tested the other (proposed in run_classifier.py) possible allignment 'warrant' -> 'NOUN', but with worse results!"
      ]
    },
    {
      "cell_type": "code",
      "metadata": {
        "id": "POh5C3twl9sD",
        "outputId": "213f563f-4c69-4e76-e63a-cb2b11cecc51",
        "colab": {
          "base_uri": "https://localhost:8080/"
        }
      },
      "source": [
        "orig_to_tok_map"
      ],
      "execution_count": null,
      "outputs": [
        {
          "output_type": "execute_result",
          "data": {
            "text/plain": [
              "[0, 1, 2, 3, 4, 6, 7, 8, 9, 10, 11, 12, 15, 16, 17, 18, 19, 20, 21, 22, 23, 24]"
            ]
          },
          "metadata": {
            "tags": []
          },
          "execution_count": 41
        }
      ]
    },
    {
      "cell_type": "code",
      "metadata": {
        "id": "lNlNqp5Il9sH",
        "outputId": "c1f5cc7f-ab94-4ad9-d9f5-b779b7daa57b",
        "colab": {
          "base_uri": "https://localhost:8080/"
        }
      },
      "source": [
        "print(input_ids)"
      ],
      "execution_count": null,
      "outputs": [
        {
          "output_type": "stream",
          "text": [
            "[101, 5541, 7674, 3084, 2053, 3111, 4953, 1996, 2592, 3024, 1010, 1998, 5244, 14000, 2005, 12394, 4525, 2013, 2049, 2224, 1012, 102]\n"
          ],
          "name": "stdout"
        }
      ]
    },
    {
      "cell_type": "markdown",
      "metadata": {
        "id": "MiNOamdxl9sN"
      },
      "source": [
        "## Test the conversion of an example to BERT representation"
      ]
    },
    {
      "cell_type": "code",
      "metadata": {
        "nbpresent": {
          "id": "a8524cd7-a390-455a-b94d-995aabcbfb02"
        },
        "id": "pCzOSqDjl9sO"
      },
      "source": [
        "\"\"\"Create InputExamples\"\"\"\n",
        "InputExamples = []\n",
        "for text, label in zip(train_text[0:1], train_label[0:1]):\n",
        "    InputExamples.append(\n",
        "        InputExample(guid=None, text_a=text, text_b=None, label=label)\n",
        ")"
      ],
      "execution_count": null,
      "outputs": []
    },
    {
      "cell_type": "code",
      "metadata": {
        "nbpresent": {
          "id": "da8ff012-152f-4533-975c-b23c3a63611c"
        },
        "id": "cS_LmE23l9sQ",
        "outputId": "b326fed8-1348-4452-85f0-7f335e6534e6",
        "colab": {
          "base_uri": "https://localhost:8080/",
          "referenced_widgets": [
            "e224ef214caa488c9fe78a6553f9600a",
            "f695066b3d4a4663b718a0ee320e650e",
            "922649be53f244e39752aacb65509b31",
            "cbb776a186ec480fbb910eb274022c47",
            "bd0e0313ddff4047b58661628873c6b8",
            "857fcd56485742c8becb9604c36a1713",
            "88e1b39ce87d4acabd7b8dfc27b57290",
            "57f92bda584a4e4d8eef0b93f746e804"
          ]
        }
      },
      "source": [
        "input_ids, input_masks, segment_ids, labels = [], [], [], []\n",
        "for example in tqdm_notebook(InputExamples, desc=\"Converting examples to features\"):\n",
        "    input_id, input_mask, segment_id, label = convert_single_example(\n",
        "        tokenizer, example, MAX_SEQUENCE_LENGTH+2\n",
        "    )\n",
        "    input_ids.append(input_id)\n",
        "    input_masks.append(input_mask)\n",
        "    segment_ids.append(segment_id)\n",
        "    labels.append(label)"
      ],
      "execution_count": null,
      "outputs": [
        {
          "output_type": "stream",
          "text": [
            "/usr/local/lib/python3.6/dist-packages/ipykernel_launcher.py:2: TqdmDeprecationWarning: This function will be removed in tqdm==5.0.0\n",
            "Please use `tqdm.notebook.tqdm` instead of `tqdm.tqdm_notebook`\n",
            "  \n"
          ],
          "name": "stderr"
        },
        {
          "output_type": "display_data",
          "data": {
            "application/vnd.jupyter.widget-view+json": {
              "model_id": "e224ef214caa488c9fe78a6553f9600a",
              "version_minor": 0,
              "version_major": 2
            },
            "text/plain": [
              "HBox(children=(FloatProgress(value=0.0, description='Converting examples to features', max=1.0, style=Progress…"
            ]
          },
          "metadata": {
            "tags": []
          }
        },
        {
          "output_type": "stream",
          "text": [
            "\n"
          ],
          "name": "stdout"
        }
      ]
    },
    {
      "cell_type": "markdown",
      "metadata": {
        "id": "MyjrHeUgl9sT"
      },
      "source": [
        "## Convert examples to BERT representation"
      ]
    },
    {
      "cell_type": "code",
      "metadata": {
        "nbpresent": {
          "id": "eb4915fc-babf-4bf9-8789-ab05ef24be45"
        },
        "id": "iVOdBcrpl9sU"
      },
      "source": [
        "# Convert data to InputExample format\n",
        "train_examples = convert_text_to_examples(train_text, train_label)\n",
        "test_examples = convert_text_to_examples(test_text, test_label)"
      ],
      "execution_count": null,
      "outputs": []
    },
    {
      "cell_type": "code",
      "metadata": {
        "nbpresent": {
          "id": "4f427047-23e0-4dd4-b8b7-333c93eb88ce"
        },
        "id": "dhR1N_tbl9sX",
        "outputId": "f5eb4398-8a53-45ca-8cc1-d4b6868e4fd5",
        "colab": {
          "base_uri": "https://localhost:8080/",
          "referenced_widgets": [
            "769b0360bcc74dad86fa868224c26f9f",
            "4b570f9e782049669bba1ea24b3d4b2e",
            "b774897ac31e457f83d011ad8382bb52",
            "855c1fc068cc44598530791628beb2dd",
            "00e3175430524e5faeb9c8b3b764fe01",
            "1a7bc00beb4d49298106a559620d52e4",
            "20d3c29bf3484d3d90fc45fcb18adc4e",
            "ae8c096473444b0e8902741be03c83c2",
            "5e5ed3d3cc0745e687df78ab1ce87c84",
            "7c0522480cc6451f983efdfa54d0cc8b",
            "9d1011924e614f50ae7714fb127af768",
            "e8dc2a2a71654dbca02abe707e2d7c39",
            "1d46c70d10214edd81cefaee7e626b7f",
            "4d738c7e619448c189b08a5335443bcb",
            "83295964a8f0474f8ccd26f18062d64d",
            "8fbafcdc2c98430abd94b40a2c233ec5"
          ]
        }
      },
      "source": [
        "# Convert to features\n",
        "(train_input_ids, train_input_masks, train_segment_ids, train_labels_ids\n",
        ") = convert_examples_to_features(tokenizer, train_examples, max_seq_length=MAX_SEQUENCE_LENGTH+2)\n",
        "(test_input_ids, test_input_masks, test_segment_ids, test_labels_ids\n",
        ") = convert_examples_to_features(tokenizer, test_examples, max_seq_length=MAX_SEQUENCE_LENGTH+2)"
      ],
      "execution_count": null,
      "outputs": [
        {
          "output_type": "stream",
          "text": [
            "/usr/local/lib/python3.6/dist-packages/ipykernel_launcher.py:108: TqdmDeprecationWarning: This function will be removed in tqdm==5.0.0\n",
            "Please use `tqdm.notebook.tqdm` instead of `tqdm.tqdm_notebook`\n"
          ],
          "name": "stderr"
        },
        {
          "output_type": "display_data",
          "data": {
            "application/vnd.jupyter.widget-view+json": {
              "model_id": "769b0360bcc74dad86fa868224c26f9f",
              "version_minor": 0,
              "version_major": 2
            },
            "text/plain": [
              "HBox(children=(FloatProgress(value=0.0, description='Converting examples to features', max=1951.0, style=Progr…"
            ]
          },
          "metadata": {
            "tags": []
          }
        },
        {
          "output_type": "stream",
          "text": [
            "\n"
          ],
          "name": "stdout"
        },
        {
          "output_type": "display_data",
          "data": {
            "application/vnd.jupyter.widget-view+json": {
              "model_id": "5e5ed3d3cc0745e687df78ab1ce87c84",
              "version_minor": 0,
              "version_major": 2
            },
            "text/plain": [
              "HBox(children=(FloatProgress(value=0.0, description='Converting examples to features', max=154.0, style=Progre…"
            ]
          },
          "metadata": {
            "tags": []
          }
        },
        {
          "output_type": "stream",
          "text": [
            "\n"
          ],
          "name": "stdout"
        }
      ]
    },
    {
      "cell_type": "markdown",
      "metadata": {
        "id": "aQZ2ypaml9sc"
      },
      "source": [
        "## See the form of BERT representation"
      ]
    },
    {
      "cell_type": "code",
      "metadata": {
        "id": "-nDKBj4vl9sd",
        "outputId": "1aee33b2-427d-4eeb-8fd6-c4f1e0e382d7",
        "colab": {
          "base_uri": "https://localhost:8080/"
        }
      },
      "source": [
        "print(len(train_input_ids[0]))\n",
        "print(len(train_input_masks[0]))\n",
        "print(len(train_segment_ids[0]))\n",
        "print(len(train_labels_ids[0]))"
      ],
      "execution_count": null,
      "outputs": [
        {
          "output_type": "stream",
          "text": [
            "72\n",
            "72\n",
            "72\n",
            "72\n"
          ],
          "name": "stdout"
        }
      ]
    },
    {
      "cell_type": "code",
      "metadata": {
        "nbpresent": {
          "id": "e3ab4f77-4587-4fd0-8fbc-b06840e852f5"
        },
        "id": "oNXwT_UGl9si",
        "outputId": "685c2fcc-2d55-4a0e-e134-1ace7df4bb20",
        "colab": {
          "base_uri": "https://localhost:8080/"
        }
      },
      "source": [
        "train_input_ids[0]"
      ],
      "execution_count": null,
      "outputs": [
        {
          "output_type": "execute_result",
          "data": {
            "text/plain": [
              "array([ 101, 4353, 1997, 2023, 6105, 2515, 2025, 3443, 2019, 4905, 1011,\n",
              "       7396, 3276, 1012,  102,    0,    0,    0,    0,    0,    0,    0,\n",
              "          0,    0,    0,    0,    0,    0,    0,    0,    0,    0,    0,\n",
              "          0,    0,    0,    0,    0,    0,    0,    0,    0,    0,    0,\n",
              "          0,    0,    0,    0,    0,    0,    0,    0,    0,    0,    0,\n",
              "          0,    0,    0,    0,    0,    0,    0,    0,    0,    0,    0,\n",
              "          0,    0,    0,    0,    0,    0])"
            ]
          },
          "metadata": {
            "tags": []
          },
          "execution_count": 48
        }
      ]
    },
    {
      "cell_type": "code",
      "metadata": {
        "nbpresent": {
          "id": "996d81bf-c1ce-4d09-8315-8d3c4512ddb8"
        },
        "id": "Bax_Xcwsl9so",
        "outputId": "f75d8a46-8ae3-4c28-f3b9-1ba0633546c2",
        "colab": {
          "base_uri": "https://localhost:8080/"
        }
      },
      "source": [
        "train_input_masks[0]"
      ],
      "execution_count": null,
      "outputs": [
        {
          "output_type": "execute_result",
          "data": {
            "text/plain": [
              "array([1, 1, 1, 1, 1, 1, 1, 1, 1, 1, 1, 1, 1, 1, 1, 0, 0, 0, 0, 0, 0, 0,\n",
              "       0, 0, 0, 0, 0, 0, 0, 0, 0, 0, 0, 0, 0, 0, 0, 0, 0, 0, 0, 0, 0, 0,\n",
              "       0, 0, 0, 0, 0, 0, 0, 0, 0, 0, 0, 0, 0, 0, 0, 0, 0, 0, 0, 0, 0, 0,\n",
              "       0, 0, 0, 0, 0, 0])"
            ]
          },
          "metadata": {
            "tags": []
          },
          "execution_count": 49
        }
      ]
    },
    {
      "cell_type": "code",
      "metadata": {
        "nbpresent": {
          "id": "d16548f1-b1a4-4003-b90e-c28164d4012d"
        },
        "id": "vn3D2y3Ml9sz",
        "outputId": "c2852245-ac59-468b-cbcc-bd6acc4239bd",
        "colab": {
          "base_uri": "https://localhost:8080/"
        }
      },
      "source": [
        "train_segment_ids[0]"
      ],
      "execution_count": null,
      "outputs": [
        {
          "output_type": "execute_result",
          "data": {
            "text/plain": [
              "array([0, 0, 0, 0, 0, 0, 0, 0, 0, 0, 0, 0, 0, 0, 0, 0, 0, 0, 0, 0, 0, 0,\n",
              "       0, 0, 0, 0, 0, 0, 0, 0, 0, 0, 0, 0, 0, 0, 0, 0, 0, 0, 0, 0, 0, 0,\n",
              "       0, 0, 0, 0, 0, 0, 0, 0, 0, 0, 0, 0, 0, 0, 0, 0, 0, 0, 0, 0, 0, 0,\n",
              "       0, 0, 0, 0, 0, 0])"
            ]
          },
          "metadata": {
            "tags": []
          },
          "execution_count": 50
        }
      ]
    },
    {
      "cell_type": "code",
      "metadata": {
        "nbpresent": {
          "id": "4343b8c0-e6e3-4198-b209-968b28ec4fa4"
        },
        "id": "FHpZco0Ol9s6",
        "outputId": "f16d612d-1111-4a13-dc17-b0da798e8842",
        "colab": {
          "base_uri": "https://localhost:8080/"
        }
      },
      "source": [
        "train_labels_ids[0]"
      ],
      "execution_count": null,
      "outputs": [
        {
          "output_type": "execute_result",
          "data": {
            "text/plain": [
              "array([ 0,  8,  2,  6,  8,  4, 10, 16,  6,  8, 13,  8,  8, 13,  0,  0,  0,\n",
              "        0,  0,  0,  0,  0,  0,  0,  0,  0,  0,  0,  0,  0,  0,  0,  0,  0,\n",
              "        0,  0,  0,  0,  0,  0,  0,  0,  0,  0,  0,  0,  0,  0,  0,  0,  0,\n",
              "        0,  0,  0,  0,  0,  0,  0,  0,  0,  0,  0,  0,  0,  0,  0,  0,  0,\n",
              "        0,  0,  0,  0])"
            ]
          },
          "metadata": {
            "tags": []
          },
          "execution_count": 51
        }
      ]
    },
    {
      "cell_type": "code",
      "metadata": {
        "nbpresent": {
          "id": "080448a8-1f00-46b8-b4c9-e8aff53658ae"
        },
        "id": "7ZHOcb-Dl9tA"
      },
      "source": [
        "# One-hot encode labels\n",
        "train_labels = to_categorical(train_labels_ids, num_classes=n_tags)\n",
        "test_labels = to_categorical(test_labels_ids, num_classes=n_tags)"
      ],
      "execution_count": null,
      "outputs": []
    },
    {
      "cell_type": "code",
      "metadata": {
        "nbpresent": {
          "id": "2a4bc11b-a307-4121-8c42-44dde65ae4cf"
        },
        "id": "kN7jAZRVl9tC",
        "outputId": "21b22a43-0283-48cb-a0b8-3f7e3c52161b",
        "colab": {
          "base_uri": "https://localhost:8080/"
        }
      },
      "source": [
        "train_input_ids[0], train_labels[0]"
      ],
      "execution_count": null,
      "outputs": [
        {
          "output_type": "execute_result",
          "data": {
            "text/plain": [
              "(array([ 101, 4353, 1997, 2023, 6105, 2515, 2025, 3443, 2019, 4905, 1011,\n",
              "        7396, 3276, 1012,  102,    0,    0,    0,    0,    0,    0,    0,\n",
              "           0,    0,    0,    0,    0,    0,    0,    0,    0,    0,    0,\n",
              "           0,    0,    0,    0,    0,    0,    0,    0,    0,    0,    0,\n",
              "           0,    0,    0,    0,    0,    0,    0,    0,    0,    0,    0,\n",
              "           0,    0,    0,    0,    0,    0,    0,    0,    0,    0,    0,\n",
              "           0,    0,    0,    0,    0,    0]),\n",
              " array([[1., 0., 0., ..., 0., 0., 0.],\n",
              "        [0., 0., 0., ..., 0., 0., 0.],\n",
              "        [0., 0., 1., ..., 0., 0., 0.],\n",
              "        ...,\n",
              "        [1., 0., 0., ..., 0., 0., 0.],\n",
              "        [1., 0., 0., ..., 0., 0., 0.],\n",
              "        [1., 0., 0., ..., 0., 0., 0.]], dtype=float32))"
            ]
          },
          "metadata": {
            "tags": []
          },
          "execution_count": 53
        }
      ]
    },
    {
      "cell_type": "markdown",
      "metadata": {
        "id": "virmuve7l9tE"
      },
      "source": [
        "## Model building"
      ]
    },
    {
      "cell_type": "code",
      "metadata": {
        "nbpresent": {
          "id": "4098aad1-cdf7-4282-ba3b-70897cdcfe1d"
        },
        "id": "7gebY1LWl9tF"
      },
      "source": [
        "class BertLayer(Layer):\n",
        "    def __init__(self, output_representation='sequence_output', trainable=True, **kwargs):\n",
        "        self.bert = None\n",
        "        super(BertLayer, self).__init__(**kwargs)\n",
        "        \n",
        "        self.trainable = trainable\n",
        "        self.output_representation = output_representation\n",
        "\n",
        "    def build(self, input_shape):\n",
        "        # SetUp tensorflow Hub module\n",
        "        self.bert = hub.Module(bert_path,\n",
        "                               trainable=self.trainable, \n",
        "                               name=\"{}_module\".format(self.name))\n",
        "\n",
        "        # Assign module's trainable weights to model\n",
        "        # Remove unused layers and set trainable parameters\n",
        "        # s = [\"/cls/\", \"/pooler/\", 'layer_11', 'layer_10', 'layer_9', 'layer_8', 'layer_7', 'layer_6']\n",
        "        s = [\"/cls/\", \"/pooler/\"]\n",
        "        self.trainable_weights += [var for var in self.bert.variables[:] if not any(x in var.name for x in s)]\n",
        "            \n",
        "        for var in self.bert.variables:\n",
        "            if var not in self._trainable_weights:\n",
        "                self._non_trainable_weights.append(var)\n",
        "                \n",
        "        # See Trainable Variables\n",
        "        #tf.logging.info(\"**** Trainable Variables ****\")\n",
        "        #for var in self.trainable_weights:\n",
        "        #    init_string = \", *INIT_FROM_CKPT*\"\n",
        "        #    tf.logging.info(\"  name = %s, shape = %s%s\", var.name, var.shape, init_string)\n",
        "            \n",
        "        print('Trainable weights:',len(self.trainable_weights))\n",
        "        super(BertLayer, self).build(input_shape)\n",
        "\n",
        "    def call(self, inputs, mask=None):\n",
        "        inputs = [K.cast(x, dtype=\"int32\") for x in inputs]\n",
        "        input_ids, input_mask, segment_ids = inputs\n",
        "        bert_inputs = dict(\n",
        "            input_ids=input_ids, input_mask=input_mask, segment_ids=segment_ids\n",
        "        )\n",
        "        result = self.bert(inputs=bert_inputs, signature=\"tokens\", as_dict=True)[\n",
        "            self.output_representation\n",
        "        ]\n",
        "        return result\n",
        "\n",
        "    def compute_mask(self, inputs, mask=None):\n",
        "        return K.not_equal(inputs[0], 0.0)   \n",
        "\n",
        "    def compute_output_shape(self, input_shape):\n",
        "        if self.output_representation == 'pooled_output':\n",
        "            return (None, 768)\n",
        "        else:\n",
        "            return (None, None, 768)"
      ],
      "execution_count": null,
      "outputs": []
    },
    {
      "cell_type": "code",
      "metadata": {
        "nbpresent": {
          "id": "177cc483-831b-4a10-b659-e1c6cf653877"
        },
        "id": "lwBm7424l9tI"
      },
      "source": [
        "#del model"
      ],
      "execution_count": null,
      "outputs": []
    },
    {
      "cell_type": "code",
      "metadata": {
        "nbpresent": {
          "id": "08a4002f-f656-47f2-814d-447e0bd56858"
        },
        "id": "K17wspt0l9tQ"
      },
      "source": [
        "# Build model\n",
        "def build_model(max_seq_length):\n",
        "    seed = 0 \n",
        "    in_id = keras.layers.Input(shape=(max_seq_length,), name=\"input_ids\")\n",
        "    in_mask = keras.layers.Input(shape=(max_seq_length,), name=\"input_masks\")\n",
        "    in_segment = keras.layers.Input(shape=(max_seq_length,), name=\"segment_ids\")\n",
        "    bert_inputs = [in_id, in_mask, in_segment]\n",
        "    \n",
        "    np.random.seed(seed)\n",
        "    bert_output = BertLayer()(bert_inputs)\n",
        "\n",
        "    np.random.seed(seed)\n",
        "    outputs = keras.layers.Dense(n_tags, activation=keras.activations.softmax)(bert_output)\n",
        "\n",
        "    np.random.seed(seed)\n",
        "    model = keras.models.Model(inputs=bert_inputs, outputs=outputs)\n",
        "    np.random.seed(seed)\n",
        "    model.compile(optimizer=keras.optimizers.Adam(lr=0.00004), loss=keras.losses.categorical_crossentropy, metrics=['accuracy'])   \n",
        "    model.summary(100)\n",
        "    return model\n",
        "\n",
        "def initialize_vars(sess):\n",
        "    sess.run(tf.local_variables_initializer())\n",
        "    sess.run(tf.global_variables_initializer())\n",
        "    sess.run(tf.tables_initializer())\n",
        "    K.set_session(sess)"
      ],
      "execution_count": null,
      "outputs": []
    },
    {
      "cell_type": "code",
      "metadata": {
        "nbpresent": {
          "id": "c1391d48-0f3d-4b90-b1b4-4d8cae268050"
        },
        "id": "dYTQBnK7l9tT",
        "outputId": "bedab5a1-4d11-4cb4-a11a-054f51836d5e",
        "colab": {
          "base_uri": "https://localhost:8080/"
        }
      },
      "source": [
        "model = build_model(MAX_SEQUENCE_LENGTH+2) # We sum 2 for [CLS], [SEP] tokens"
      ],
      "execution_count": null,
      "outputs": [
        {
          "output_type": "stream",
          "text": [
            "Trainable weights: 197\n",
            "INFO:tensorflow:Saver not created because there are no variables in the graph to restore\n"
          ],
          "name": "stdout"
        },
        {
          "output_type": "stream",
          "text": [
            "INFO:tensorflow:Saver not created because there are no variables in the graph to restore\n"
          ],
          "name": "stderr"
        },
        {
          "output_type": "stream",
          "text": [
            "WARNING:tensorflow:From /tensorflow-1.15.2/python3.6/tensorflow_core/python/ops/resource_variable_ops.py:1630: calling BaseResourceVariable.__init__ (from tensorflow.python.ops.resource_variable_ops) with constraint is deprecated and will be removed in a future version.\n",
            "Instructions for updating:\n",
            "If using Keras pass *_constraint arguments to layers.\n"
          ],
          "name": "stdout"
        },
        {
          "output_type": "stream",
          "text": [
            "WARNING:tensorflow:From /tensorflow-1.15.2/python3.6/tensorflow_core/python/ops/resource_variable_ops.py:1630: calling BaseResourceVariable.__init__ (from tensorflow.python.ops.resource_variable_ops) with constraint is deprecated and will be removed in a future version.\n",
            "Instructions for updating:\n",
            "If using Keras pass *_constraint arguments to layers.\n"
          ],
          "name": "stderr"
        },
        {
          "output_type": "stream",
          "text": [
            "Model: \"model_1\"\n",
            "____________________________________________________________________________________________________\n",
            "Layer (type)                     Output Shape          Param #     Connected to                     \n",
            "====================================================================================================\n",
            "input_ids (InputLayer)           (None, 72)            0                                            \n",
            "____________________________________________________________________________________________________\n",
            "input_masks (InputLayer)         (None, 72)            0                                            \n",
            "____________________________________________________________________________________________________\n",
            "segment_ids (InputLayer)         (None, 72)            0                                            \n",
            "____________________________________________________________________________________________________\n",
            "bert_layer_1 (BertLayer)         (None, None, 768)     110104890   input_ids[0][0]                  \n",
            "                                                                   input_masks[0][0]                \n",
            "                                                                   segment_ids[0][0]                \n",
            "____________________________________________________________________________________________________\n",
            "dense_1 (Dense)                  (None, None, 18)      13842       bert_layer_1[0][0]               \n",
            "====================================================================================================\n",
            "Total params: 110,118,732\n",
            "Trainable params: 108,905,490\n",
            "Non-trainable params: 1,213,242\n",
            "____________________________________________________________________________________________________\n"
          ],
          "name": "stdout"
        }
      ]
    },
    {
      "cell_type": "code",
      "metadata": {
        "id": "W8xUujf3l9tW",
        "outputId": "d7d9c57c-25fc-4420-bede-8e69ce2a11f8",
        "colab": {
          "base_uri": "https://localhost:8080/"
        }
      },
      "source": [
        "plot_model(model, to_file='model.png', show_shapes=True)\n",
        "Image('model.png')"
      ],
      "execution_count": null,
      "outputs": [
        {
          "output_type": "execute_result",
          "data": {
            "image/png": "[encoded data removed]",
            "text/plain": [
              "<IPython.core.display.Image object>"
            ]
          },
          "metadata": {
            "tags": []
          },
          "execution_count": 58
        }
      ]
    },
    {
      "cell_type": "code",
      "metadata": {
        "nbpresent": {
          "id": "e5b1510d-5965-4f77-8c1c-a019bb081441"
        },
        "id": "Ylx4ljXYl9tY",
        "outputId": "5eac51b3-e2b6-494a-9e8f-359ce6a527e9",
        "colab": {
          "base_uri": "https://localhost:8080/"
        }
      },
      "source": [
        "train_input_ids.shape"
      ],
      "execution_count": null,
      "outputs": [
        {
          "output_type": "execute_result",
          "data": {
            "text/plain": [
              "(1951, 72)"
            ]
          },
          "metadata": {
            "tags": []
          },
          "execution_count": 59
        }
      ]
    },
    {
      "cell_type": "code",
      "metadata": {
        "nbpresent": {
          "id": "e2ced586-54d2-4f87-87b4-11447a074836"
        },
        "id": "ycJbVElUl9ta",
        "outputId": "6eec8b59-1bfe-4ee9-ae4f-348f08504f4f",
        "colab": {
          "base_uri": "https://localhost:8080/"
        }
      },
      "source": [
        "train_input_masks.shape"
      ],
      "execution_count": null,
      "outputs": [
        {
          "output_type": "execute_result",
          "data": {
            "text/plain": [
              "(1951, 72)"
            ]
          },
          "metadata": {
            "tags": []
          },
          "execution_count": 60
        }
      ]
    },
    {
      "cell_type": "code",
      "metadata": {
        "nbpresent": {
          "id": "d4e8c809-bc83-428b-824d-4640127d0a6f"
        },
        "id": "a-yut9nWl9tg",
        "outputId": "7f266465-60b0-422b-9607-ddec1142796e",
        "colab": {
          "base_uri": "https://localhost:8080/"
        }
      },
      "source": [
        "train_segment_ids.shape"
      ],
      "execution_count": null,
      "outputs": [
        {
          "output_type": "execute_result",
          "data": {
            "text/plain": [
              "(1951, 72)"
            ]
          },
          "metadata": {
            "tags": []
          },
          "execution_count": 61
        }
      ]
    },
    {
      "cell_type": "code",
      "metadata": {
        "id": "NEBbxFfhl9ti",
        "outputId": "31607ce8-ef37-403e-c2b7-b6c2cf7679cd",
        "colab": {
          "base_uri": "https://localhost:8080/"
        }
      },
      "source": [
        "train_labels.shape"
      ],
      "execution_count": null,
      "outputs": [
        {
          "output_type": "execute_result",
          "data": {
            "text/plain": [
              "(1951, 72, 18)"
            ]
          },
          "metadata": {
            "tags": []
          },
          "execution_count": 62
        }
      ]
    },
    {
      "cell_type": "markdown",
      "metadata": {
        "id": "qiEC9YRKl9tk"
      },
      "source": [
        "## Model training (BERT fine-tuning)"
      ]
    },
    {
      "cell_type": "code",
      "metadata": {
        "id": "KWO4y7dVl9tl"
      },
      "source": [
        "initialize_vars(sess)"
      ],
      "execution_count": null,
      "outputs": []
    },
    {
      "cell_type": "code",
      "metadata": {
        "nbpresent": {
          "id": "fc7dd289-a946-479a-838e-e25e6384f16a"
        },
        "id": "e9je67lUl9tn",
        "outputId": "199e760b-db38-4bc0-9b13-565622a1e088",
        "colab": {
          "base_uri": "https://localhost:8080/"
        }
      },
      "source": [
        "t_ini = datetime.datetime.now()\n",
        "\n",
        "\n",
        "#check pont call back\n",
        "cp = ModelCheckpoint(filepath=\"SaveD/bert_tagger.h5\",\n",
        "                     monitor='val_acc',\n",
        "                     save_best_only=True,\n",
        "                     save_weights_only=True,\n",
        "                     verbose=1)\n",
        "\n",
        "early_stopping = EarlyStopping(monitor = 'val_acc', patience = 5)\n",
        "\n",
        "history = model.fit([train_input_ids, train_input_masks, train_segment_ids], \n",
        "                    train_labels,\n",
        "                    validation_data=([test_input_ids, test_input_masks, test_segment_ids], test_labels),\n",
        "                    #validation_split=0.3,\n",
        "                    epochs=EPOCHS,\n",
        "                    batch_size=16,\n",
        "                    shuffle=True,\n",
        "                    verbose=1,\n",
        "                    callbacks=[cp, early_stopping]\n",
        "                   ) \n",
        "\n",
        "t_fin = datetime.datetime.now()\n",
        "print('Training completed in {} seconds'.format((t_fin - t_ini).total_seconds()))"
      ],
      "execution_count": null,
      "outputs": [
        {
          "output_type": "stream",
          "text": [
            "WARNING:tensorflow:From /tensorflow-1.15.2/python3.6/tensorflow_core/python/ops/math_grad.py:1424: where (from tensorflow.python.ops.array_ops) is deprecated and will be removed in a future version.\n",
            "Instructions for updating:\n",
            "Use tf.where in 2.0, which has the same broadcast rule as np.where\n"
          ],
          "name": "stdout"
        },
        {
          "output_type": "stream",
          "text": [
            "WARNING:tensorflow:From /tensorflow-1.15.2/python3.6/tensorflow_core/python/ops/math_grad.py:1424: where (from tensorflow.python.ops.array_ops) is deprecated and will be removed in a future version.\n",
            "Instructions for updating:\n",
            "Use tf.where in 2.0, which has the same broadcast rule as np.where\n",
            "/tensorflow-1.15.2/python3.6/tensorflow_core/python/framework/indexed_slices.py:424: UserWarning: Converting sparse IndexedSlices to a dense Tensor of unknown shape. This may consume a large amount of memory.\n",
            "  \"Converting sparse IndexedSlices to a dense Tensor of unknown shape. \"\n"
          ],
          "name": "stderr"
        },
        {
          "output_type": "stream",
          "text": [
            "WARNING:tensorflow:From /usr/local/lib/python3.6/dist-packages/keras/backend/tensorflow_backend.py:422: The name tf.global_variables is deprecated. Please use tf.compat.v1.global_variables instead.\n",
            "\n"
          ],
          "name": "stdout"
        },
        {
          "output_type": "stream",
          "text": [
            "WARNING:tensorflow:From /usr/local/lib/python3.6/dist-packages/keras/backend/tensorflow_backend.py:422: The name tf.global_variables is deprecated. Please use tf.compat.v1.global_variables instead.\n",
            "\n"
          ],
          "name": "stderr"
        },
        {
          "output_type": "stream",
          "text": [
            "WARNING:tensorflow:From /usr/local/lib/python3.6/dist-packages/keras/backend/tensorflow_backend.py:431: The name tf.is_variable_initialized is deprecated. Please use tf.compat.v1.is_variable_initialized instead.\n",
            "\n"
          ],
          "name": "stdout"
        },
        {
          "output_type": "stream",
          "text": [
            "WARNING:tensorflow:From /usr/local/lib/python3.6/dist-packages/keras/backend/tensorflow_backend.py:431: The name tf.is_variable_initialized is deprecated. Please use tf.compat.v1.is_variable_initialized instead.\n",
            "\n"
          ],
          "name": "stderr"
        },
        {
          "output_type": "stream",
          "text": [
            "Train on 1951 samples, validate on 154 samples\n",
            "Epoch 1/30\n",
            "1951/1951 [==============================] - 80s 41ms/step - loss: 0.1506 - accuracy: 0.8822 - val_loss: 0.0417 - val_accuracy: 0.9656\n",
            "Epoch 2/30\n"
          ],
          "name": "stdout"
        },
        {
          "output_type": "stream",
          "text": [
            "/usr/local/lib/python3.6/dist-packages/keras/callbacks/callbacks.py:707: RuntimeWarning: Can save best model only with val_acc available, skipping.\n",
            "  'skipping.' % (self.monitor), RuntimeWarning)\n",
            "/usr/local/lib/python3.6/dist-packages/keras/callbacks/callbacks.py:846: RuntimeWarning: Early stopping conditioned on metric `val_acc` which is not available. Available metrics are: val_loss,val_accuracy,loss,accuracy\n",
            "  (self.monitor, ','.join(list(logs.keys()))), RuntimeWarning\n"
          ],
          "name": "stderr"
        },
        {
          "output_type": "stream",
          "text": [
            "1951/1951 [==============================] - 68s 35ms/step - loss: 0.0255 - accuracy: 0.9802 - val_loss: 0.0392 - val_accuracy: 0.9685\n",
            "Epoch 3/30\n",
            "1951/1951 [==============================] - 68s 35ms/step - loss: 0.0106 - accuracy: 0.9915 - val_loss: 0.0422 - val_accuracy: 0.9717\n",
            "Epoch 4/30\n",
            "1951/1951 [==============================] - 68s 35ms/step - loss: 0.0049 - accuracy: 0.9965 - val_loss: 0.0462 - val_accuracy: 0.9717\n",
            "Epoch 5/30\n",
            "1951/1951 [==============================] - 68s 35ms/step - loss: 0.0022 - accuracy: 0.9985 - val_loss: 0.0514 - val_accuracy: 0.9726\n",
            "Epoch 6/30\n",
            "1951/1951 [==============================] - 68s 35ms/step - loss: 0.0013 - accuracy: 0.9991 - val_loss: 0.0581 - val_accuracy: 0.9731\n",
            "Epoch 7/30\n",
            "1951/1951 [==============================] - 68s 35ms/step - loss: 0.0014 - accuracy: 0.9992 - val_loss: 0.0619 - val_accuracy: 0.9661\n",
            "Epoch 8/30\n",
            "1951/1951 [==============================] - 68s 35ms/step - loss: 6.6421e-04 - accuracy: 0.9996 - val_loss: 0.0601 - val_accuracy: 0.9742\n",
            "Epoch 9/30\n",
            "1951/1951 [==============================] - 68s 35ms/step - loss: 3.2242e-04 - accuracy: 0.9998 - val_loss: 0.0624 - val_accuracy: 0.9742\n",
            "Epoch 10/30\n",
            "1951/1951 [==============================] - 68s 35ms/step - loss: 1.8495e-04 - accuracy: 0.9999 - val_loss: 0.0633 - val_accuracy: 0.9750\n",
            "Epoch 11/30\n",
            "1951/1951 [==============================] - 68s 35ms/step - loss: 1.5786e-04 - accuracy: 0.9999 - val_loss: 0.0649 - val_accuracy: 0.9742\n",
            "Epoch 12/30\n",
            "1951/1951 [==============================] - 68s 35ms/step - loss: 6.5831e-05 - accuracy: 0.9999 - val_loss: 0.0658 - val_accuracy: 0.9744\n",
            "Epoch 13/30\n",
            "1951/1951 [==============================] - 68s 35ms/step - loss: 7.6990e-05 - accuracy: 0.9999 - val_loss: 0.0682 - val_accuracy: 0.9744\n",
            "Epoch 14/30\n",
            "1951/1951 [==============================] - 68s 35ms/step - loss: 8.0846e-05 - accuracy: 0.9999 - val_loss: 0.0671 - val_accuracy: 0.9750\n",
            "Epoch 15/30\n",
            "1951/1951 [==============================] - 68s 35ms/step - loss: 5.2475e-05 - accuracy: 0.9999 - val_loss: 0.0707 - val_accuracy: 0.9742\n",
            "Epoch 16/30\n",
            "1951/1951 [==============================] - 68s 35ms/step - loss: 2.9143e-05 - accuracy: 1.0000 - val_loss: 0.0712 - val_accuracy: 0.9752\n",
            "Epoch 17/30\n",
            "1951/1951 [==============================] - 68s 35ms/step - loss: 1.5642e-05 - accuracy: 1.0000 - val_loss: 0.0723 - val_accuracy: 0.9747\n",
            "Epoch 18/30\n",
            "1951/1951 [==============================] - 68s 35ms/step - loss: 1.2619e-05 - accuracy: 1.0000 - val_loss: 0.0733 - val_accuracy: 0.9744\n",
            "Epoch 19/30\n",
            "1951/1951 [==============================] - 68s 35ms/step - loss: 1.0980e-05 - accuracy: 1.0000 - val_loss: 0.0742 - val_accuracy: 0.9744\n",
            "Epoch 20/30\n",
            "1951/1951 [==============================] - 68s 35ms/step - loss: 9.6728e-06 - accuracy: 1.0000 - val_loss: 0.0750 - val_accuracy: 0.9744\n",
            "Epoch 21/30\n",
            "1951/1951 [==============================] - 68s 35ms/step - loss: 8.5819e-06 - accuracy: 1.0000 - val_loss: 0.0757 - val_accuracy: 0.9744\n",
            "Epoch 22/30\n",
            "1951/1951 [==============================] - 68s 35ms/step - loss: 7.6697e-06 - accuracy: 1.0000 - val_loss: 0.0765 - val_accuracy: 0.9744\n",
            "Epoch 23/30\n",
            "1951/1951 [==============================] - 68s 35ms/step - loss: 6.8925e-06 - accuracy: 1.0000 - val_loss: 0.0772 - val_accuracy: 0.9744\n",
            "Epoch 24/30\n",
            "1951/1951 [==============================] - 67s 35ms/step - loss: 6.2237e-06 - accuracy: 1.0000 - val_loss: 0.0778 - val_accuracy: 0.9744\n",
            "Epoch 25/30\n",
            "1951/1951 [==============================] - 68s 35ms/step - loss: 5.6399e-06 - accuracy: 1.0000 - val_loss: 0.0784 - val_accuracy: 0.9747\n",
            "Epoch 26/30\n",
            "1951/1951 [==============================] - 68s 35ms/step - loss: 5.1264e-06 - accuracy: 1.0000 - val_loss: 0.0791 - val_accuracy: 0.9747\n",
            "Epoch 27/30\n",
            "1951/1951 [==============================] - 68s 35ms/step - loss: 4.6730e-06 - accuracy: 1.0000 - val_loss: 0.0797 - val_accuracy: 0.9747\n",
            "Epoch 28/30\n",
            "1951/1951 [==============================] - 68s 35ms/step - loss: 4.2721e-06 - accuracy: 1.0000 - val_loss: 0.0802 - val_accuracy: 0.9747\n",
            "Epoch 29/30\n",
            "1951/1951 [==============================] - 67s 35ms/step - loss: 3.9139e-06 - accuracy: 1.0000 - val_loss: 0.0808 - val_accuracy: 0.9742\n",
            "Epoch 30/30\n",
            "1951/1951 [==============================] - 68s 35ms/step - loss: 3.5931e-06 - accuracy: 1.0000 - val_loss: 0.0813 - val_accuracy: 0.9742\n",
            "Training completed in 2064.374838 seconds\n"
          ],
          "name": "stdout"
        }
      ]
    },
    {
      "cell_type": "code",
      "metadata": {
        "id": "Rj8rmx3OtzHs",
        "outputId": "4b0902de-a0dc-48e0-c53d-62ae4254045e",
        "colab": {
          "base_uri": "https://localhost:8080/"
        }
      },
      "source": [
        "!pip install h5py pyyaml\n",
        "!pwd\n",
        "model.save_weights('./Jishnu2')\n",
        "# entire model\n",
        "model.save('POS.h5')"
      ],
      "execution_count": null,
      "outputs": [
        {
          "output_type": "stream",
          "text": [
            "Requirement already satisfied: h5py in /usr/local/lib/python3.6/dist-packages (2.10.0)\n",
            "Requirement already satisfied: pyyaml in /usr/local/lib/python3.6/dist-packages (3.13)\n",
            "Requirement already satisfied: numpy>=1.7 in /usr/local/lib/python3.6/dist-packages (from h5py) (1.18.5)\n",
            "Requirement already satisfied: six in /usr/local/lib/python3.6/dist-packages (from h5py) (1.12.0)\n",
            "/content\n"
          ],
          "name": "stdout"
        }
      ]
    },
    {
      "cell_type": "code",
      "metadata": {
        "id": "Iy0MKLKYyeCK"
      },
      "source": [
        "from google.colab import drive\n",
        "drive.mount('/content/drive')"
      ],
      "execution_count": null,
      "outputs": []
    },
    {
      "cell_type": "code",
      "metadata": {
        "id": "8qgkxS_FyqKz"
      },
      "source": [
        "#!cp Jishnu2 \"/content/drive/My Drive\""
      ],
      "execution_count": null,
      "outputs": []
    },
    {
      "cell_type": "markdown",
      "metadata": {
        "id": "8yhGZKUpl9tq"
      },
      "source": [
        "## Classification report"
      ]
    },
    {
      "cell_type": "code",
      "metadata": {
        "nbpresent": {
          "id": "ce12f232-8d4a-4093-9977-88402c6a80f4"
        },
        "id": "YNahi0W2l9tq"
      },
      "source": [
        "model = build_model(MAX_SEQUENCE_LENGTH+2) \n",
        "model.load_weights('POS.h5')"
      ],
      "execution_count": null,
      "outputs": []
    },
    {
      "cell_type": "code",
      "metadata": {
        "nbpresent": {
          "id": "615aa234-1351-4d3e-84ff-379d1fc4f5cf"
        },
        "id": "WhcVESJfl9ty"
      },
      "source": [
        "y_pred = model.predict([test_input_ids, test_input_masks, test_segment_ids]).argmax(-1)\n",
        "y_true = test_labels.argmax(-1)"
      ],
      "execution_count": null,
      "outputs": []
    },
    {
      "cell_type": "code",
      "metadata": {
        "id": "sCc9JDStl9t6"
      },
      "source": [
        "y_true[0]"
      ],
      "execution_count": null,
      "outputs": []
    },
    {
      "cell_type": "code",
      "metadata": {
        "nbpresent": {
          "id": "4d68934e-3464-4fa5-bdfe-33f1bee74efc"
        },
        "id": "m2ccgjCOl9uC"
      },
      "source": [
        "def y2label(zipped, mask=0):\n",
        "    out_true = []\n",
        "    out_pred = []\n",
        "    for zip_i in zipped:\n",
        "        a, b = tuple(zip_i)\n",
        "        if a != mask :\n",
        "            out_true.append(int2tag[a])\n",
        "            out_pred.append(int2tag[b])\n",
        "    return out_true, out_pred"
      ],
      "execution_count": null,
      "outputs": []
    },
    {
      "cell_type": "code",
      "metadata": {
        "nbpresent": {
          "id": "6412a274-6f2e-4c27-9fb2-0fd0916ab42a"
        },
        "id": "M-DixleHl9uG"
      },
      "source": [
        "y_zipped = zip(y_true.flat, y_pred.flat)\n",
        "y_true, y_pred = y2label(y_zipped)"
      ],
      "execution_count": null,
      "outputs": []
    },
    {
      "cell_type": "code",
      "metadata": {
        "id": "JGnq6a61l9uL"
      },
      "source": [
        "len(y_true), len(y_pred)"
      ],
      "execution_count": null,
      "outputs": []
    },
    {
      "cell_type": "code",
      "metadata": {
        "nbpresent": {
          "id": "0e51f9f4-b16f-4e14-a204-8167e2897848"
        },
        "id": "TB5JUED4l9uS"
      },
      "source": [
        "name='Bert fine-tuned model'\n",
        "print('\\n------------ Result of {} ----------\\n'.format(name))\n",
        "print(classification_report(y_true, y_pred, digits=4))"
      ],
      "execution_count": null,
      "outputs": []
    },
    {
      "cell_type": "code",
      "metadata": {
        "nbpresent": {
          "id": "0e51f9f4-b16f-4e14-a204-8167e2897848"
        },
        "id": "hYCrWStTl9uV"
      },
      "source": [
        "print(\"Accuracy: {0:.4f}\".format(accuracy_score(y_true, y_pred)))\n",
        "print('f1-macro score: {0:.4f}'.format(f1_score(y_true, y_pred, average='macro')))"
      ],
      "execution_count": null,
      "outputs": []
    },
    {
      "cell_type": "markdown",
      "metadata": {
        "id": "hYCMSwr8l9uX"
      },
      "source": [
        "## Confusion matrix"
      ]
    },
    {
      "cell_type": "code",
      "metadata": {
        "id": "75k3Ho6Vl9uY"
      },
      "source": [
        "tags = sorted(set(y_pred+y_true))\n",
        "cnf_matrix = confusion_matrix(y_true, y_pred)\n",
        "plot_confusion_matrix(f1_score(y_true, y_pred, average='macro'), cnf_matrix, target_names=tags, title=name, normalize=False)"
      ],
      "execution_count": null,
      "outputs": []
    },
    {
      "cell_type": "markdown",
      "metadata": {
        "id": "5NfFxz--l9ua"
      },
      "source": [
        "## Make a prediction for a test sample:"
      ]
    },
    {
      "cell_type": "code",
      "metadata": {
        "id": "-vGAMjLTl9ua"
      },
      "source": [
        "y_pred = model.predict([test_input_ids, test_input_masks, test_segment_ids], batch_size=16).argmax(-1)\n",
        "y_true = test_labels_ids\n",
        "\n",
        "def make_prediction(i=16):\n",
        "    note = ''\n",
        "    sent = []\n",
        "    print(\"{:10} {:5} : {:5}\".format(\"Word\", \"True\", \"Predicted\"))\n",
        "    print(35*'-')\n",
        "    for w, true, pred in zip(test_input_ids[i], y_true[i], y_pred[i]):\n",
        "        if tokenizer.convert_ids_to_tokens([w])[0]!='[PAD]' and \\\n",
        "            tokenizer.convert_ids_to_tokens([w])[0]!='[CLS]' and \\\n",
        "            tokenizer.convert_ids_to_tokens([w])[0]!='[SEP]':\n",
        "            if int2tag[true] != int2tag[pred]: note='<<--- Error!'\n",
        "            print(\"{:10} {:5} : {:5} {:5}\".format(tokenizer.convert_ids_to_tokens([w])[0], int2tag[true], int2tag[pred], note))\n",
        "            note=''"
      ],
      "execution_count": null,
      "outputs": []
    },
    {
      "cell_type": "code",
      "metadata": {
        "id": "hw41zjYQl9uc"
      },
      "source": [
        "make_prediction(i=1)"
      ],
      "execution_count": null,
      "outputs": []
    },
    {
      "cell_type": "markdown",
      "metadata": {
        "id": "PnPS0qA5l9ui"
      },
      "source": [
        "## Tag an unknown sentence"
      ]
    },
    {
      "cell_type": "code",
      "metadata": {
        "id": "Hi50mTmDl9ui"
      },
      "source": [
        "sentence_raw = 'PLM: Poorly Digitized Labs Give Dassault Systèmes’ BIOVIA a Great Growth Potential'\n",
        "# sentence_raw = 'Word embeddings provide a dense representation of words and their relative meanings. Jishnu is great writer and also a dick head'"
      ],
      "execution_count": null,
      "outputs": []
    },
    {
      "cell_type": "code",
      "metadata": {
        "id": "_-9bfOwhl9ul"
      },
      "source": [
        "from nltk import word_tokenize\n",
        "nltk.download('punkt')\n",
        "sentence_ini = word_tokenize(sentence_raw.lower())\n",
        "\n",
        "#sentence_ini = nltk.word_tokenize(sentence_raw.lower())"
      ],
      "execution_count": null,
      "outputs": []
    },
    {
      "cell_type": "markdown",
      "metadata": {
        "id": "ekA_2eF1l9up"
      },
      "source": [
        "Convert the sentence to BERT representation:"
      ]
    },
    {
      "cell_type": "code",
      "metadata": {
        "id": "Q9lJVXrql9uq"
      },
      "source": [
        "sentence_bert = tokenizer.tokenize(sentence_raw)"
      ],
      "execution_count": null,
      "outputs": []
    },
    {
      "cell_type": "code",
      "metadata": {
        "id": "m6srZV0Ml9ut"
      },
      "source": [
        "tokens_a = sentence_ini"
      ],
      "execution_count": null,
      "outputs": []
    },
    {
      "cell_type": "code",
      "metadata": {
        "id": "2FZg-WFVl9uz"
      },
      "source": [
        "orig_to_tok_map = []              \n",
        "tokens = []\n",
        "segment_ids = []\n",
        "tokens.append(\"[CLS]\")\n",
        "segment_ids.append(0)\n",
        "orig_to_tok_map.append(len(tokens)-1)\n",
        "for token in tokens_a:\n",
        "    #orig_to_tok_map.append(len(tokens)) # keep first piece of tokenized term\n",
        "    tokens.extend(tokenizer.tokenize(token))\n",
        "    orig_to_tok_map.append(len(tokens)-1) # # keep last piece of tokenized term -->> gives better results!\n",
        "    segment_ids.append(0)\n",
        "tokens.append(\"[SEP]\")\n",
        "segment_ids.append(0)\n",
        "orig_to_tok_map.append(len(tokens)-1)\n",
        "input_ids = tokenizer.convert_tokens_to_ids([tokens[i] for i in orig_to_tok_map])"
      ],
      "execution_count": null,
      "outputs": []
    },
    {
      "cell_type": "code",
      "metadata": {
        "nbpresent": {
          "id": "b31bd2f4-6a3b-4836-888a-5362ebdbc492"
        },
        "id": "N9bqysJul9u1"
      },
      "source": [
        "print('Original tokens:',tokens_a)"
      ],
      "execution_count": null,
      "outputs": []
    },
    {
      "cell_type": "code",
      "metadata": {
        "nbpresent": {
          "id": "b31bd2f4-6a3b-4836-888a-5362ebdbc492"
        },
        "id": "pPprKLw6l9u3"
      },
      "source": [
        "print('BERT tokens:',tokens)"
      ],
      "execution_count": null,
      "outputs": []
    },
    {
      "cell_type": "code",
      "metadata": {
        "id": "Kg4Gh8Mql9u7"
      },
      "source": [
        "orig_to_tok_map"
      ],
      "execution_count": null,
      "outputs": []
    },
    {
      "cell_type": "code",
      "metadata": {
        "id": "nfrcDHXPl9u-"
      },
      "source": [
        "[tokens[i] for i in orig_to_tok_map]"
      ],
      "execution_count": null,
      "outputs": []
    },
    {
      "cell_type": "code",
      "metadata": {
        "nbpresent": {
          "id": "eb4915fc-babf-4bf9-8789-ab05ef24be45"
        },
        "id": "hg7ugL-cl9vD"
      },
      "source": [
        "# Convert data to InputExample format\n",
        "test_example = convert_text_to_examples([sentence_ini], [['-PAD-']*len(sentence_ini)])"
      ],
      "execution_count": null,
      "outputs": []
    },
    {
      "cell_type": "code",
      "metadata": {
        "nbpresent": {
          "id": "4f427047-23e0-4dd4-b8b7-333c93eb88ce"
        },
        "id": "kVkbpLQil9vF"
      },
      "source": [
        "# Convert to features\n",
        "(input_ids, input_masks, segment_ids, _\n",
        ") = convert_examples_to_features(tokenizer, test_example, max_seq_length=MAX_SEQUENCE_LENGTH+2)"
      ],
      "execution_count": null,
      "outputs": []
    },
    {
      "cell_type": "code",
      "metadata": {
        "id": "4nPXm5Fdl9vH"
      },
      "source": [
        "predictions = model.predict([input_ids, input_masks, segment_ids], batch_size=1).argmax(-1)[0]\n",
        "print(\"\\n{:20}| {:15}: {:15}\".format(\"Word in BERT layer\", 'Initial word', \"Predicted POS-tag\"))\n",
        "print(61*'-')\n",
        "k = 0\n",
        "for i, pred in enumerate(predictions):\n",
        "    try:\n",
        "        if pred!=0:\n",
        "            print(\"{:20}| {:15}: {:15}\".format([tokens[i] for i in orig_to_tok_map][i], sentence_ini[i-1], int2tag[pred]))            \n",
        "            k+=1            \n",
        "    except:\n",
        "        pass"
      ],
      "execution_count": null,
      "outputs": []
    },
    {
      "cell_type": "markdown",
      "metadata": {
        "id": "sSHnl5Ncl9vJ"
      },
      "source": [
        "## Frequent types of mistakes"
      ]
    },
    {
      "cell_type": "code",
      "metadata": {
        "id": "zHw1diVGl9vK"
      },
      "source": [
        "def find_errors(X,y):\n",
        "    error_counter = collections.Counter()\n",
        "    support = 0\n",
        "    for i in range(test_input_ids.shape[0]):\n",
        "        for w, true, pred in zip(test_input_ids[i], y_true[i], y_pred[i]):\n",
        "            if int2tag[true]!='-PAD-':\n",
        "                if true != pred:\n",
        "                    word = tokenizer.convert_ids_to_tokens([w])[0]\n",
        "                    error_counter[word] += 1\n",
        "                support += 1\n",
        "    return error_counter, support"
      ],
      "execution_count": null,
      "outputs": []
    },
    {
      "cell_type": "code",
      "metadata": {
        "id": "tW5-o5yml9vL"
      },
      "source": [
        "errors, support = find_errors([test_input_ids],y_true)"
      ],
      "execution_count": null,
      "outputs": []
    },
    {
      "cell_type": "code",
      "metadata": {
        "id": "VhsIhreMl9vN"
      },
      "source": [
        "print('Total errors/Total words: {}/{} | Accuracy: {:.4}\\n'.format(sum(errors.values()), support, 1-sum(errors.values())/support))\n",
        "print('Most common errors:', errors.most_common(20))"
      ],
      "execution_count": null,
      "outputs": []
    },
    {
      "cell_type": "markdown",
      "metadata": {
        "id": "6HsjJobel9vP"
      },
      "source": [
        "## Learning curves"
      ]
    },
    {
      "cell_type": "code",
      "metadata": {
        "id": "0iL_sRzNl9vT"
      },
      "source": [
        "plot_acc()"
      ],
      "execution_count": null,
      "outputs": []
    },
    {
      "cell_type": "code",
      "metadata": {
        "id": "xXes8s3Ql9va"
      },
      "source": [
        "plot_loss()"
      ],
      "execution_count": null,
      "outputs": []
    }
  ]
}