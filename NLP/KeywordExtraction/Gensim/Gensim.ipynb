{
  "nbformat": 4,
  "nbformat_minor": 0,
  "metadata": {
    "colab": {
      "name": "Gensim.ipynb",
      "provenance": [],
      "mount_file_id": "1EDbBlKs1TJ89sLq_dV96i-R7wtCC1DRS",
      "authorship_tag": "ABX9TyMOQraXM9gN+MpGm1wdgruj",
      "include_colab_link": true
    },
    "kernelspec": {
      "name": "python3",
      "display_name": "Python 3"
    }
  },
  "cells": [
    {
      "cell_type": "markdown",
      "metadata": {
        "id": "view-in-github",
        "colab_type": "text"
      },
      "source": [
        "<a href=\"https://colab.research.google.com/github/JishnuJayaraj/ML/blob/master/NLP/KeywordExtraction/Gensim/Gensim.ipynb\" target=\"_parent\"><img src=\"https://colab.research.google.com/assets/colab-badge.svg\" alt=\"Open In Colab\"/></a>"
      ]
    },
    {
      "cell_type": "code",
      "metadata": {
        "id": "gLaMZS4peAte"
      },
      "source": [
        "import pandas as pd \n",
        "from gensim.summarization import keywords\n"
      ],
      "execution_count": null,
      "outputs": []
    },
    {
      "cell_type": "code",
      "metadata": {
        "id": "W-qUJWoff6UI"
      },
      "source": [
        "# Read data from json file\n",
        "path = '/content/drive/My Drive/Colab Notebooks/Data/ArticleDataset.json'\n",
        "df = pd.read_json(path)\n",
        "df = df.head(20)\n",
        "\n",
        "# join heading and text column to single column\n",
        "df.columns = ['date','heading','text','link','empty']\n",
        "df['all']= df['heading'] + df['text']\n",
        "\n",
        "df = df.drop(['date','heading','text','link','empty'], axis=1 )\n"
      ],
      "execution_count": null,
      "outputs": []
    },
    {
      "cell_type": "code",
      "metadata": {
        "id": "dfa4_aHigIT4",
        "outputId": "feec8532-f65f-480c-a330-38d29ab5b9e6",
        "colab": {
          "base_uri": "https://localhost:8080/",
          "height": 544
        }
      },
      "source": [
        "df['keywords'] = df['all'].apply(keywords)\n",
        "df.head()\n",
        "\n",
        "\n",
        "example_content = df.iloc[2]\n",
        "print(example_content['keywords'])"
      ],
      "execution_count": null,
      "outputs": [
        {
          "output_type": "stream",
          "text": [
            "cruise\n",
            "vehicle\n",
            "vehicles\n",
            "cars\n",
            "ride service\n",
            "waymo\n",
            "car company\n",
            "rides\n",
            "ceo\n",
            "test\n",
            "testing robotaxis\n",
            "robotaxi\n",
            "fuel\n",
            "fueling\n",
            "including\n",
            "amman\n",
            "origin\n",
            "monthly\n",
            "crash\n",
            "human\n",
            "francisco\n",
            "bolts\n",
            "analysts\n",
            "ago\n",
            "electric\n",
            "drive\n",
            "superhuman\n",
            "softbank\n",
            "promise\n",
            "promising\n",
            "tech investment firm\n"
          ],
          "name": "stdout"
        }
      ]
    },
    {
      "cell_type": "code",
      "metadata": {
        "id": "rUE4LjeySpcg",
        "outputId": "1a27fa7c-139b-4ea7-a491-cb7d57928bc5",
        "colab": {
          "base_uri": "https://localhost:8080/",
          "height": 34
        }
      },
      "source": [
        "!pwd\n",
        "df.to_csv('keywords.csv')"
      ],
      "execution_count": null,
      "outputs": [
        {
          "output_type": "stream",
          "text": [
            "/content\n"
          ],
          "name": "stdout"
        }
      ]
    }
  ]
}