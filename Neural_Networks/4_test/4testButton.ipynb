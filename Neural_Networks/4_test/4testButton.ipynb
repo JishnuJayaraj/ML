{
  "nbformat": 4,
  "nbformat_minor": 0,
  "metadata": {
    "colab": {
      "name": "4testButton.ipynb",
      "version": "0.3.2",
      "provenance": [],
      "collapsed_sections": []
    },
    "kernelspec": {
      "name": "python3",
      "display_name": "Python 3"
    }
  },
  "cells": [
    {
      "cell_type": "code",
      "metadata": {
        "id": "JmG16scJHzjO",
        "colab_type": "code",
        "outputId": "eb750724-1a98-40b4-ee33-86de08478f14",
        "colab": {
          "base_uri": "https://localhost:8080/",
          "height": 488
        }
      },
      "source": [
        "import numpy as np\n",
        "import matplotlib.pyplot as plt\n",
        "import pandas as pd\n",
        "\n",
        "# getting the data frame from git \n",
        "url = 'https://raw.githubusercontent.com/JishnuJayaraj/PA/master/Batcave/NN/Keras/4_test/button1.csv'\n",
        "dataset = pd.read_csv(url)\n",
        "\n",
        "#print(dataset)\n",
        "# matrix of features and matrix of target variable(only taking project and element)\n",
        "# feature vector, all rows except 1st(index) and the last column (predict value)\n",
        "X = dataset.iloc[:, 2:4].values\n",
        "# class (predicting column)\n",
        "y = dataset.iloc[:, 4].values\n",
        "\n",
        "#print(X)\n",
        "#print(y)\n",
        "\n",
        "\n",
        "# Label encoder to encode the project name (A,B,C) and elements (button,table...)\n",
        "from sklearn.preprocessing import LabelEncoder, OneHotEncoder\n",
        "\n",
        "labelencoder_X_1 = LabelEncoder()\n",
        "X[:, 0] = labelencoder_X_1.fit_transform(X[:, 0])\n",
        "labelencoder_X_2 = LabelEncoder()\n",
        "X[:, 1] = labelencoder_X_2.fit_transform(X[:, 1])\n",
        "\n",
        "# finding corresponding integer index for each string values\n",
        "# A-0,B-1,... button-0,header-2,...\n",
        "print(X)\n",
        "\n",
        "# convert the label encoder to matrix form\n",
        "onehotencoder1 = OneHotEncoder(categorical_features = [0,1])\n",
        "X = onehotencoder1.fit_transform(X).toarray()\n",
        "\n",
        "print(X)"
      ],
      "execution_count": 0,
      "outputs": [
        {
          "output_type": "stream",
          "text": [
            "[[0 0]\n",
            " [1 3]\n",
            " [0 2]\n",
            " [0 1]\n",
            " [2 4]\n",
            " [1 2]\n",
            " [2 0]\n",
            " [0 4]\n",
            " [1 4]\n",
            " [0 3]]\n",
            "[[1. 0. 0. 1. 0. 0. 0. 0.]\n",
            " [0. 1. 0. 0. 0. 0. 1. 0.]\n",
            " [1. 0. 0. 0. 0. 1. 0. 0.]\n",
            " [1. 0. 0. 0. 1. 0. 0. 0.]\n",
            " [0. 0. 1. 0. 0. 0. 0. 1.]\n",
            " [0. 1. 0. 0. 0. 1. 0. 0.]\n",
            " [0. 0. 1. 1. 0. 0. 0. 0.]\n",
            " [1. 0. 0. 0. 0. 0. 0. 1.]\n",
            " [0. 1. 0. 0. 0. 0. 0. 1.]\n",
            " [1. 0. 0. 0. 0. 0. 1. 0.]]\n"
          ],
          "name": "stdout"
        },
        {
          "output_type": "stream",
          "text": [
            "/usr/local/lib/python3.6/dist-packages/sklearn/preprocessing/_encoders.py:415: FutureWarning: The handling of integer data will change in version 0.22. Currently, the categories are determined based on the range [0, max(values)], while in the future they will be determined based on the unique values.\n",
            "If you want the future behaviour and silence this warning, you can specify \"categories='auto'\".\n",
            "In case you used a LabelEncoder before this OneHotEncoder to convert the categories to integers, then you can now use the OneHotEncoder directly.\n",
            "  warnings.warn(msg, FutureWarning)\n",
            "/usr/local/lib/python3.6/dist-packages/sklearn/preprocessing/_encoders.py:451: DeprecationWarning: The 'categorical_features' keyword is deprecated in version 0.20 and will be removed in 0.22. You can use the ColumnTransformer instead.\n",
            "  \"use the ColumnTransformer instead.\", DeprecationWarning)\n"
          ],
          "name": "stderr"
        }
      ]
    },
    {
      "cell_type": "code",
      "metadata": {
        "id": "NGUr1Nr9DCvG",
        "colab_type": "code",
        "colab": {}
      },
      "source": [
        ""
      ],
      "execution_count": 0,
      "outputs": []
    },
    {
      "cell_type": "code",
      "metadata": {
        "id": "svUAYQFJWIrF",
        "colab_type": "code",
        "outputId": "ae5001ba-604d-4882-d6f1-94172377136e",
        "colab": {
          "base_uri": "https://localhost:8080/",
          "height": 329
        }
      },
      "source": [
        "# Splitting the dataset into the Training set and Test set\n",
        "from sklearn.model_selection import train_test_split\n",
        "X_train, X_test, y_train, y_test = train_test_split(X, y, test_size = 0.1)\n",
        "\n",
        "#print(X_train)\n",
        "\n",
        "# Feature Scaling, not needed for now(already only 0's an 1's) but still done\n",
        "from sklearn.preprocessing import StandardScaler\n",
        "sc = StandardScaler()\n",
        "X_train = sc.fit_transform(X_train)\n",
        "X_test = sc.transform(X_test)\n",
        "print(X_train)\n",
        "\n"
      ],
      "execution_count": 0,
      "outputs": [
        {
          "output_type": "stream",
          "text": [
            "[[ 1.11803399 -0.70710678 -0.53452248 -0.35355339 -0.35355339 -0.53452248\n",
            "  -0.53452248  1.41421356]\n",
            " [-0.89442719  1.41421356 -0.53452248 -0.35355339 -0.35355339  1.87082869\n",
            "  -0.53452248 -0.70710678]\n",
            " [ 1.11803399 -0.70710678 -0.53452248 -0.35355339 -0.35355339  1.87082869\n",
            "  -0.53452248 -0.70710678]\n",
            " [-0.89442719 -0.70710678  1.87082869  2.82842712 -0.35355339 -0.53452248\n",
            "  -0.53452248 -0.70710678]\n",
            " [ 1.11803399 -0.70710678 -0.53452248 -0.35355339  2.82842712 -0.53452248\n",
            "  -0.53452248 -0.70710678]\n",
            " [-0.89442719 -0.70710678  1.87082869 -0.35355339 -0.35355339 -0.53452248\n",
            "  -0.53452248  1.41421356]\n",
            " [ 1.11803399 -0.70710678 -0.53452248 -0.35355339 -0.35355339 -0.53452248\n",
            "   1.87082869 -0.70710678]\n",
            " [-0.89442719  1.41421356 -0.53452248 -0.35355339 -0.35355339 -0.53452248\n",
            "  -0.53452248  1.41421356]\n",
            " [-0.89442719  1.41421356 -0.53452248 -0.35355339 -0.35355339 -0.53452248\n",
            "   1.87082869 -0.70710678]]\n"
          ],
          "name": "stdout"
        }
      ]
    },
    {
      "cell_type": "code",
      "metadata": {
        "id": "O6AEiAB-ZLOs",
        "colab_type": "code",
        "outputId": "6e4fc25b-fb55-44db-8ab4-d9d229a79cb8",
        "colab": {
          "base_uri": "https://localhost:8080/",
          "height": 602
        }
      },
      "source": [
        "# Importing the Keras libraries and packages\n",
        "import keras\n",
        "from keras.models import Sequential\n",
        "from keras.layers import Dense\n",
        "from keras.callbacks import EarlyStopping\n",
        "\n",
        "#Initializing Neural Network\n",
        "classifier = Sequential()\n",
        "\n",
        "\n",
        "\n",
        "# Adding the input layer and the first hidden layer\n",
        "classifier.add(Dense(output_dim = 6, init = 'uniform', activation = 'relu', input_dim = 8))\n",
        "\n",
        "# Adding the second hidden layer\n",
        "classifier.add(Dense(output_dim = 6, init = 'uniform', activation = 'relu'))\n",
        "\n",
        "# Adding the output layer\n",
        "classifier.add(Dense(output_dim = 1, init = 'uniform', activation = 'sigmoid'))\n",
        "\n",
        "\n",
        "\n",
        "# Compiling Neural Network\n",
        "classifier.compile(optimizer = 'adam', loss = 'binary_crossentropy', metrics = ['accuracy'])\n",
        "\n",
        "\n",
        "#set early stopping monitor so the model stops training when it won't improve anymore\n",
        "#early_stopping_monitor = EarlyStopping(patience=3)\n",
        "\n",
        "\n",
        "# Fitting our model \n",
        "classifier.fit(X_train, y_train, nb_epoch = 30) #, callbacks=[early_stopping_monitor])\n",
        "\n",
        "#   Get loss and accuracy on test data\n",
        "eval_result = classifier.evaluate(X_test, y_test)\n",
        "#   Print test accuracy\n",
        "print(\"\\n\\nTest loss:\", eval_result[0], \"Test accuracy:\", eval_result[1])\n",
        "\n",
        "\n",
        "''' \n",
        "# Predicting the Test set results\n",
        "y_pred = classifier.predict(X_test)\n",
        "y_pred = (y_pred > 0.5)\n",
        "\n",
        "\n",
        "# Creating the Confusion Matrix\n",
        "from sklearn.metrics import confusion_matrix\n",
        "cm = confusion_matrix(y_test, y_pred)\n",
        "\n",
        "print(cm)\n",
        "''' \n"
      ],
      "execution_count": 0,
      "outputs": [
        {
          "output_type": "stream",
          "text": [
            "Using TensorFlow backend.\n",
            "WARNING: Logging before flag parsing goes to stderr.\n",
            "W0712 11:58:34.254374 139901273888640 deprecation_wrapper.py:119] From /usr/local/lib/python3.6/dist-packages/keras/backend/tensorflow_backend.py:74: The name tf.get_default_graph is deprecated. Please use tf.compat.v1.get_default_graph instead.\n",
            "\n",
            "/usr/local/lib/python3.6/dist-packages/ipykernel_launcher.py:12: UserWarning: Update your `Dense` call to the Keras 2 API: `Dense(activation=\"relu\", input_dim=8, units=6, kernel_initializer=\"uniform\")`\n",
            "  if sys.path[0] == '':\n",
            "W0712 11:58:34.275471 139901273888640 deprecation_wrapper.py:119] From /usr/local/lib/python3.6/dist-packages/keras/backend/tensorflow_backend.py:517: The name tf.placeholder is deprecated. Please use tf.compat.v1.placeholder instead.\n",
            "\n",
            "W0712 11:58:34.278385 139901273888640 deprecation_wrapper.py:119] From /usr/local/lib/python3.6/dist-packages/keras/backend/tensorflow_backend.py:4138: The name tf.random_uniform is deprecated. Please use tf.random.uniform instead.\n",
            "\n",
            "/usr/local/lib/python3.6/dist-packages/ipykernel_launcher.py:15: UserWarning: Update your `Dense` call to the Keras 2 API: `Dense(activation=\"relu\", units=6, kernel_initializer=\"uniform\")`\n",
            "  from ipykernel import kernelapp as app\n",
            "/usr/local/lib/python3.6/dist-packages/ipykernel_launcher.py:18: UserWarning: Update your `Dense` call to the Keras 2 API: `Dense(activation=\"sigmoid\", units=1, kernel_initializer=\"uniform\")`\n",
            "W0712 11:58:34.321742 139901273888640 deprecation_wrapper.py:119] From /usr/local/lib/python3.6/dist-packages/keras/optimizers.py:790: The name tf.train.Optimizer is deprecated. Please use tf.compat.v1.train.Optimizer instead.\n",
            "\n",
            "W0712 11:58:34.344239 139901273888640 deprecation_wrapper.py:119] From /usr/local/lib/python3.6/dist-packages/keras/backend/tensorflow_backend.py:3376: The name tf.log is deprecated. Please use tf.math.log instead.\n",
            "\n",
            "W0712 11:58:34.350673 139901273888640 deprecation.py:323] From /usr/local/lib/python3.6/dist-packages/tensorflow/python/ops/nn_impl.py:180: add_dispatch_support.<locals>.wrapper (from tensorflow.python.ops.array_ops) is deprecated and will be removed in a future version.\n",
            "Instructions for updating:\n",
            "Use tf.where in 2.0, which has the same broadcast rule as np.where\n"
          ],
          "name": "stderr"
        },
        {
          "output_type": "error",
          "ename": "NameError",
          "evalue": "ignored",
          "traceback": [
            "\u001b[0;31m---------------------------------------------------------------------------\u001b[0m",
            "\u001b[0;31mNameError\u001b[0m                                 Traceback (most recent call last)",
            "\u001b[0;32m<ipython-input-2-0bc62ce0517c>\u001b[0m in \u001b[0;36m<module>\u001b[0;34m()\u001b[0m\n\u001b[1;32m     29\u001b[0m \u001b[0;34m\u001b[0m\u001b[0m\n\u001b[1;32m     30\u001b[0m \u001b[0;31m# Fitting our model\u001b[0m\u001b[0;34m\u001b[0m\u001b[0;34m\u001b[0m\u001b[0;34m\u001b[0m\u001b[0m\n\u001b[0;32m---> 31\u001b[0;31m \u001b[0mclassifier\u001b[0m\u001b[0;34m.\u001b[0m\u001b[0mfit\u001b[0m\u001b[0;34m(\u001b[0m\u001b[0mX_train\u001b[0m\u001b[0;34m,\u001b[0m \u001b[0my_train\u001b[0m\u001b[0;34m,\u001b[0m \u001b[0mnb_epoch\u001b[0m \u001b[0;34m=\u001b[0m \u001b[0;36m30\u001b[0m\u001b[0;34m)\u001b[0m \u001b[0;31m#, callbacks=[early_stopping_monitor])\u001b[0m\u001b[0;34m\u001b[0m\u001b[0;34m\u001b[0m\u001b[0m\n\u001b[0m\u001b[1;32m     32\u001b[0m \u001b[0;34m\u001b[0m\u001b[0m\n\u001b[1;32m     33\u001b[0m \u001b[0;31m#   Get loss and accuracy on test data\u001b[0m\u001b[0;34m\u001b[0m\u001b[0;34m\u001b[0m\u001b[0;34m\u001b[0m\u001b[0m\n",
            "\u001b[0;31mNameError\u001b[0m: name 'X_train' is not defined"
          ]
        }
      ]
    },
    {
      "cell_type": "code",
      "metadata": {
        "id": "j_Ncq4DDDEmA",
        "colab_type": "code",
        "outputId": "651eb4dc-9e6a-4d4d-a874-062f7b11617c",
        "colab": {
          "base_uri": "https://localhost:8080/",
          "height": 35
        }
      },
      "source": [
        ""
      ],
      "execution_count": 0,
      "outputs": [
        {
          "output_type": "stream",
          "text": [
            "Interactive namespace is empty.\n"
          ],
          "name": "stdout"
        }
      ]
    }
  ]
}